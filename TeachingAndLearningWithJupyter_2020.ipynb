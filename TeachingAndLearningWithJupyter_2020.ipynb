{
 "cells": [
  {
   "cell_type": "markdown",
   "metadata": {},
   "source": [
    "# “Teaching and Learning with Jupyter”, \n",
    "\n",
    "online book at [github](https://jupyter4edu.github.io/jupyter-edu-book/), \n",
    "\n",
    "November 2018."
   ]
  },
  {
   "cell_type": "markdown",
   "metadata": {},
   "source": [
    "## PLEASE STOP TEACHING PEOPLE TO WRITE ABOUT SCIENCE IN THE PASSIVE VOICE\n",
    "December 18, 2019  AllenDowney\n",
    " \n",
    "https://www.allendowney.com/blog/2019/12/18/please-stop-teaching-people-to-write-about-science-in-the-passive-voice/\n",
    "    "
   ]
  },
  {
   "cell_type": "code",
   "execution_count": null,
   "metadata": {},
   "outputs": [],
   "source": []
  }
 ],
 "metadata": {
  "kernelspec": {
   "display_name": "Python 3",
   "language": "python",
   "name": "python3"
  },
  "language_info": {
   "codemirror_mode": {
    "name": "ipython",
    "version": 3
   },
   "file_extension": ".py",
   "mimetype": "text/x-python",
   "name": "python",
   "nbconvert_exporter": "python",
   "pygments_lexer": "ipython3",
   "version": "3.7.4"
  }
 },
 "nbformat": 4,
 "nbformat_minor": 2
}
