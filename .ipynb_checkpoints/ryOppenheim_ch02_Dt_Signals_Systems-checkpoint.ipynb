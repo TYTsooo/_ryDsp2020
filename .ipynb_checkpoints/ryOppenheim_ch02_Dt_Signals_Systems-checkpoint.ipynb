{
 "cells": [
  {
   "cell_type": "markdown",
   "metadata": {},
   "source": [
    "# Ch02\n",
    "\n",
    "## 2.0 INTRODUCTION\n"
   ]
  },
  {
   "cell_type": "markdown",
   "metadata": {},
   "source": [
    "0. The term `signal` is generally applied to something that conveys information. \n",
    "0. Signals may, for example, convey information about the state or behavior of a physical system. \n",
    "0. As another class of examples, signals are synthesized for the purpose of communicating information between humans or between humans and machines. \n",
    "0. Although signals can be represented in many ways, in all cases, the information is contained in some pattern of variations. \n",
    "0. Signals are represented mathematically as functions of one or more independent variables. \n",
    "0. For example, a speech signal is represented mathematically as a function of time, and a photographic image is represented as a brightness function of two spatial variables. \n",
    "0. A common convention—and one that usually will be followed in this book—is to refer to the independent variable of the mathematical representation of a signal as time, although in specific examples, the independent variable may not in fact correspond to time. "
   ]
  },
  {
   "cell_type": "markdown",
   "metadata": {},
   "source": [
    "0. 該術語signal通常適用於傳達信息的事物。\n",
    "0. 信號可以例如傳達有關物理系統的狀態或行為的信息。\n",
    "0. 作為另一類示例，合成信號是為了在人與人之間或人與機器之間傳遞信息。\n",
    "0. 儘管可以用多種方式表示信號，但在所有情況下，信息都以某種變化形式包含。\n",
    "0. 信號在數學上表示為一個或多個自變量的函數。\n",
    "0. 例如，語音信號被數學表示為時間的函數，而攝影圖像被表示為兩個空間變量的亮度函數。\n",
    "0. 儘管在特定示例中，獨立變量實際上可能並不對應於時間，但通常的約定（在本書中通常會遵循）是將信號的數學表示的自變量稱為時間。"
   ]
  },
  {
   "cell_type": "markdown",
   "metadata": {},
   "source": []
  },
  {
   "cell_type": "markdown",
   "metadata": {},
   "source": [
    "0. The independent variable in the mathematical representation of a signal may be either continuous or discrete. \n",
    "0. Continuous-time signals are defined along a continuum of time and are thus represented by a continuous independent variable. \n",
    "0. Continuous-time signals are often referred to as analog signals. \n",
    "0. Discrete-time signals are defined at discrete times, and thus, the independent variable has discrete values; that is, discrete-time signals are represented as sequences of numbers. \n",
    "0. Signals such as speech or images may have either a continuous- or a discrete-variable representation, and if certain conditions hold, these representations are entirely equivalent. \n",
    "0. Besides the independent variables being either continuous or discrete, the signal amplitude may be either continuous or discrete. \n",
    "0. Digital signals are those for which both time and amplitude are discrete."
   ]
  },
  {
   "cell_type": "markdown",
   "metadata": {},
   "source": [
    "0. 信號的數學表示中的自變量可以是連續的也可以是離散的。\n",
    "0. 連續時間信號是沿連續時間定義的，因此由連續獨立變量表示。\n",
    "0. 連續時間信號通常稱為模擬信號。\n",
    "0. 離散時間信號是在離散時間定義的，因此自變量具有離散值。即，離散時間信號被表示為數字序列。\n",
    "0. 諸如語音或圖像之類的信號可能具有連續變量或離散變量的表示形式，如果滿足某些條件，這些表示形式將​​完全等效。\n",
    "0. 除了自變量是連續的或離散的之外，信號幅度可以是連續的或離散的。\n",
    "0. 數字信號是時間和幅度都是離散的信號。"
   ]
  },
  {
   "cell_type": "markdown",
   "metadata": {},
   "source": []
  },
  {
   "cell_type": "markdown",
   "metadata": {},
   "source": [
    "0. Signal-processing systems may be classified along the same lines as signals. \n",
    "0. That is, continuous-time systems are systems for which both the input and the output are continuous-time signals, and discrete-time systems are those for which both the input and the output are discrete-time signals. \n",
    "0. Similarly, a digital system is a system for which both the input and the output are digital signals. \n",
    "0. Digital signal processing, then, deals with the transformation of signals that are discrete in both amplitude and time. \n",
    "0. The principal focus of this book is on discrete-time—rather than digital—signals and systems. \n",
    "0. However, the theory of discrete-time signals and systems is also exceedingly useful for digital signals and systems, particularly if the signal amplitudes are finely quantized. \n",
    "0. The effects of signal amplitude quantization are considered in Sections 4.8, 6.8–6.10, and 9.7."
   ]
  },
  {
   "cell_type": "markdown",
   "metadata": {},
   "source": [
    "0. 可以沿著與信號相同的線對信號處理系統進行分類。\n",
    "0. 即，連續時間系統是輸入和輸出都是連續時間信號的系統，而離散時間系統是輸入和輸出都是離散時間信號的系統。\n",
    "0. 類似地，數字系統是其輸入和輸出均為數字信號的系統。\n",
    "0. 然後，數字信號處理處理振幅和時間均離散的信號的轉換。\n",
    "0. 本書的主要重點是離散時間信號而不是數字信號和系統。\n",
    "0. 但是，離散時間信號和系統的理論對於數字信號和系統也非常有用，特別是在信號幅度經過精細量化的情況下。\n",
    "0. 在第4.8、6.8-6.10和9.7節中考慮了信號幅度量化的影響。"
   ]
  },
  {
   "cell_type": "markdown",
   "metadata": {},
   "source": []
  },
  {
   "cell_type": "markdown",
   "metadata": {},
   "source": [
    "0. In this chapter, we present the basic definitions, establish notation, and develop and review the basic concepts associated with discrete-time signals and systems.\n",
    "0. The presentation of this material assumes that the reader has had previous exposure to some of this material, perhaps with a different emphasis and notation. \n",
    "0. Thus, this chapter is primarily intended to provide a common foundation for material covered in later chapters."
   ]
  },
  {
   "cell_type": "markdown",
   "metadata": {},
   "source": [
    "0. 在本章中，我們將介紹基本定義，建立符號以及開發和復習與離散時間信號和系統相關的基本概念。\n",
    "0. 本材料的介紹假定讀者以前曾接觸過其中一些材料，也許有不同的側重點和表示方式。\n",
    "0. 因此，本章的主要目的是為後面各章介紹的材料提供一個通用基礎。"
   ]
  },
  {
   "cell_type": "markdown",
   "metadata": {},
   "source": []
  },
  {
   "cell_type": "markdown",
   "metadata": {},
   "source": [
    "0. In Section 2.1, we discuss the representation of discrete-time signals as sequences and describe the basic sequences such as the unit impulse, the unit step, and complex exponential, which play a central role in characterizing discrete-time systems and form building blocks for more general sequences.\n",
    "0. In Section 2.2, the representation, basic properties, and simple examples of discrete-time systems are presented.\n",
    "0. Sections 2.3 and 2.4 focus on the important class of linear time-invariant (LTI) systems and their timedomain representation through the convolution sum, with Section 2.5 considering the specific class of LTI systems represented by linear, constant–coefficient difference equations.\n",
    "0. Section 2.6 develops the frequency domain representation of discrete-time systems through the concept of complex exponentials as eigenfunctions, and Sections 2.7, 2.8, and 2.9 develop and explore the Fourier transform representation of discrete-time signals as a linear combination of complex exponentials.\n",
    "0. Section 2.10 provides a brief introduction to discrete-time random signals."
   ]
  },
  {
   "cell_type": "markdown",
   "metadata": {},
   "source": [
    "0. 在第2.1節中，我們討論了離散信號的序列表示，並描述了基本序列，例如單位衝量，單位階躍和復指數，它們在表徵離散時間系統和形成用於更一般的順序。\n",
    "0. 在第2.2節中，介紹了離散時間系統的表示形式，基本屬性和簡單示例。\n",
    "0. 第2.3節和第2.4節集中討論線性時不變（LTI）系統的重要類別及其通過卷積和表示的時域表示，第2.5節則考慮了由線性，常係數差分方程表示的LTI系統的特定類別。\n",
    "0. 第2.6節通過將復指數作為特徵函數的概念來開發離散時間系統的頻域表示，而第2.7、2.8和2.9節則開發並探索了作為複指數的線性組合的離散時間信號的傅立葉變換錶示。\n",
    "0. 第2.10節簡要介紹了離散時間隨機信號。"
   ]
  },
  {
   "cell_type": "markdown",
   "metadata": {},
   "source": []
  },
  {
   "cell_type": "markdown",
   "metadata": {},
   "source": [
    "## 2.1 DISCRETE-TIME SIGNALS"
   ]
  },
  {
   "cell_type": "markdown",
   "metadata": {},
   "source": [
    "Discrete-time signals are represented mathematically as sequences of numbers. A sequence of numbers x, in which the nth number in the sequence is denoted x[n],1 is formally written as\n",
    "\n",
    "x = {x[n]}, −∞ < n < ∞, (2.1)\n",
    "\n",
    "$\n",
    "x = \\{x[n]\\}, −∞ < n < ∞, $(2.1)\n",
    "\n",
    "\n",
    "where n is an integer. In a practical setting, such sequences can often arise from periodic sampling of an analog (i.e., continuous-time) signal xa(t). In that case, the numeric value of the nth number in the sequence is equal to the value of the analog signal, xa(t ), at time nT : i.e.,\n",
    "\n",
    "x[n] = xa(nT ), −∞ < n < ∞. (2.2)\n",
    "\n",
    "$x[n] = x_a(nT), −∞ < n < ∞. $(2.2)\n",
    "\n",
    "The quantity T is the sampling period, and its reciprocal is the sampling frequency. Although sequences do not always arise from sampling analog waveforms, it is convenient to refer to x[n] as the “nth sample” of the sequence. Also, although, strictly speaking, x[n] denotes the nth number in the sequence, the notation of Eq. (2.1) is often unnecessarily cumbersome, and it is convenient and unambiguous to refer to “the sequence x[n]” when we mean the entire sequence, just as we referred to “the analog signal xa(t).” We depict discrete-time signals (i.e., sequences) graphically, as shown in Figure 2.1. Although the abscissa is drawn as a continuous line, it is important to recognize that x[n] is defined only for integer values of n. It is not correct to think of x[n] as being zero when n is not an integer; x[n] is simply undefined for noninteger values of n.\n"
   ]
  },
  {
   "cell_type": "markdown",
   "metadata": {},
   "source": []
  },
  {
   "cell_type": "markdown",
   "metadata": {},
   "source": []
  },
  {
   "cell_type": "markdown",
   "metadata": {},
   "source": []
  },
  {
   "cell_type": "markdown",
   "metadata": {},
   "source": []
  },
  {
   "cell_type": "markdown",
   "metadata": {},
   "source": []
  },
  {
   "cell_type": "markdown",
   "metadata": {},
   "source": []
  },
  {
   "cell_type": "markdown",
   "metadata": {},
   "source": []
  }
 ],
 "metadata": {
  "kernelspec": {
   "display_name": "Python 3",
   "language": "python",
   "name": "python3"
  },
  "language_info": {
   "codemirror_mode": {
    "name": "ipython",
    "version": 3
   },
   "file_extension": ".py",
   "mimetype": "text/x-python",
   "name": "python",
   "nbconvert_exporter": "python",
   "pygments_lexer": "ipython3",
   "version": "3.7.4"
  }
 },
 "nbformat": 4,
 "nbformat_minor": 2
}
