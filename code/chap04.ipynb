{
 "cells": [
  {
   "cell_type": "markdown",
   "metadata": {},
   "source": [
    "## ThinkDSP\n",
    "\n",
    "This notebook contains code examples from Chapter 4: Noise\n",
    "\n",
    "Copyright 2015 Allen Downey\n",
    "\n",
    "License: [Creative Commons Attribution 4.0 International](http://creativecommons.org/licenses/by/4.0/)"
   ]
  },
  {
   "cell_type": "code",
   "execution_count": null,
   "metadata": {
    "code_folding": []
   },
   "outputs": [],
   "source": [
    "from __future__ import print_function, division\n",
    "\n",
    "%matplotlib inline\n",
    "import warnings\n",
    "warnings.filterwarnings('ignore')"
   ]
  },
  {
   "cell_type": "code",
   "execution_count": 4,
   "metadata": {
    "code_folding": []
   },
   "outputs": [
    {
     "ename": "SyntaxError",
     "evalue": "from __future__ imports must occur at the beginning of the file (thinkplot.py, line 11)",
     "output_type": "error",
     "traceback": [
      "Traceback \u001b[1;36m(most recent call last)\u001b[0m:\n",
      "  File \u001b[0;32m\"C:\\Anaconda3-2019.10\\lib\\site-packages\\IPython\\core\\interactiveshell.py\"\u001b[0m, line \u001b[0;32m3319\u001b[0m, in \u001b[0;35mrun_code\u001b[0m\n    exec(code_obj, self.user_global_ns, self.user_ns)\n",
      "  File \u001b[0;32m\"<ipython-input-4-8987a2760db1>\"\u001b[0m, line \u001b[0;32m1\u001b[0m, in \u001b[0;35m<module>\u001b[0m\n    import thinkdsp\n",
      "\u001b[1;36m  File \u001b[1;32m\"L:\\OneDrive - 長庚大學\\__ryGithub2020\\_ryDsp2020\\code\\thinkdsp.py\"\u001b[1;36m, line \u001b[1;32m21\u001b[1;36m, in \u001b[1;35m<module>\u001b[1;36m\u001b[0m\n\u001b[1;33m    import thinkplot\u001b[0m\n",
      "\u001b[1;36m  File \u001b[1;32m\"L:\\OneDrive - 長庚大學\\__ryGithub2020\\_ryDsp2020\\code\\thinkplot.py\"\u001b[1;36m, line \u001b[1;32m11\u001b[0m\n\u001b[1;33m    from __future__ import print_function\u001b[0m\n\u001b[1;37m                                         ^\u001b[0m\n\u001b[1;31mSyntaxError\u001b[0m\u001b[1;31m:\u001b[0m from __future__ imports must occur at the beginning of the file\n"
     ]
    }
   ],
   "source": [
    "import thinkdsp\n",
    "import thinkplot\n",
    "import thinkstats2 \n",
    "\n",
    "import numpy as np\n",
    "\n",
    "from ipywidgets import interact, interactive, fixed\n",
    "import ipywidgets as widgets"
   ]
  },
  {
   "cell_type": "code",
   "execution_count": null,
   "metadata": {},
   "outputs": [],
   "source": [
    "thinkdsp.random_seed(17)"
   ]
  },
  {
   "cell_type": "markdown",
   "metadata": {},
   "source": [
    "The simplest noise to generate is uncorrelated uniform (UU) noise:"
   ]
  },
  {
   "cell_type": "code",
   "execution_count": null,
   "metadata": {},
   "outputs": [],
   "source": [
    "signal = thinkdsp.UncorrelatedUniformNoise()\n",
    "wave = signal.make_wave(duration=1, framerate=11025)\n",
    "wave.make_audio()"
   ]
  },
  {
   "cell_type": "markdown",
   "metadata": {},
   "source": [
    "Here's what a segment of it looks like:"
   ]
  },
  {
   "cell_type": "code",
   "execution_count": null,
   "metadata": {},
   "outputs": [],
   "source": [
    "segment = wave.segment(duration=0.1)\n",
    "segment.plot(linewidth=1)\n",
    "thinkplot.config(xlabel='time',\n",
    "                 ylabel='amplitude',\n",
    "                 ylim=[-1.05, 1.05],\n",
    "                 legend=False)"
   ]
  },
  {
   "cell_type": "markdown",
   "metadata": {},
   "source": [
    "And here's the spectrum:"
   ]
  },
  {
   "cell_type": "code",
   "execution_count": null,
   "metadata": {},
   "outputs": [],
   "source": [
    "spectrum = wave.make_spectrum()\n",
    "spectrum.plot(linewidth=0.5)\n",
    "thinkplot.config(xlabel='frequency (Hz)',\n",
    "                 ylabel='amplitude',\n",
    "                 xlim=[0, spectrum.fs[-1]])"
   ]
  },
  {
   "cell_type": "markdown",
   "metadata": {},
   "source": [
    "In the context of noise it is more conventional to look at the spectrum of power, which is the square of amplitude:"
   ]
  },
  {
   "cell_type": "code",
   "execution_count": null,
   "metadata": {},
   "outputs": [],
   "source": [
    "spectrum.plot_power(linewidth=0.5)\n",
    "thinkplot.config(xlabel='frequency (Hz)',\n",
    "                 ylabel='power',\n",
    "                 xlim=[0, spectrum.fs[-1]])"
   ]
  },
  {
   "cell_type": "markdown",
   "metadata": {},
   "source": [
    "UU noise has the same power at all frequencies, on average, which we can confirm by looking at the normalized cumulative sum of power, which I call an integrated spectrum:"
   ]
  },
  {
   "cell_type": "code",
   "execution_count": null,
   "metadata": {},
   "outputs": [],
   "source": [
    "integ = spectrum.make_integrated_spectrum()\n",
    "integ.plot_power()\n",
    "thinkplot.config(xlabel='frequency (Hz)',\n",
    "                ylabel='cumulative power',\n",
    "                xlim=[0, spectrum.fs[-1]])"
   ]
  },
  {
   "cell_type": "markdown",
   "metadata": {},
   "source": [
    "A straight line in this figure indicates that UU noise has equal power at all frequencies, on average.  By analogy with light, noise with this property is called \"white noise\".\n",
    "\n",
    "### Brownian noise\n",
    "\n",
    "Brownian noise is generated by adding up a sequence of random steps."
   ]
  },
  {
   "cell_type": "code",
   "execution_count": null,
   "metadata": {},
   "outputs": [],
   "source": [
    "signal = thinkdsp.BrownianNoise()\n",
    "wave = signal.make_wave(duration=0.5, framerate=11025)\n",
    "wave.make_audio()"
   ]
  },
  {
   "cell_type": "markdown",
   "metadata": {},
   "source": [
    "The sound is less bright, or more muffled, than white noise.\n",
    "\n",
    "Here's what the wave looks like:"
   ]
  },
  {
   "cell_type": "code",
   "execution_count": null,
   "metadata": {},
   "outputs": [],
   "source": [
    "wave.plot(linewidth=1)\n",
    "thinkplot.config(xlabel='time',\n",
    "                 ylabel='amplitude',\n",
    "                 ylim=[-1.05, 1.05])"
   ]
  },
  {
   "cell_type": "markdown",
   "metadata": {},
   "source": [
    "Here's what the power spectrum looks like on a linear scale."
   ]
  },
  {
   "cell_type": "code",
   "execution_count": null,
   "metadata": {},
   "outputs": [],
   "source": [
    "spectrum = wave.make_spectrum()\n",
    "spectrum.plot_power(linewidth=0.5)\n",
    "thinkplot.config(xlabel='frequency (Hz)',\n",
    "                 ylabel='power',\n",
    "                 xlim=[0, spectrum.fs[-1]])"
   ]
  },
  {
   "cell_type": "markdown",
   "metadata": {},
   "source": [
    "So much of the energy is at low frequencies, we can't even see the high frequencies.\n",
    "\n",
    "We can get a better view by plotting the power spectrum on a log-log scale."
   ]
  },
  {
   "cell_type": "code",
   "execution_count": null,
   "metadata": {},
   "outputs": [],
   "source": [
    "# The f=0 component is very small, so on a log scale\n",
    "# it's very negative.  If we clobber it before plotting,\n",
    "# we can see the rest of the spectrum better.\n",
    "spectrum.hs[0] = 0\n",
    "\n",
    "spectrum.plot_power(linewidth=0.5)\n",
    "thinkplot.config(xlabel='frequency (Hz)',\n",
    "                 ylabel='power',\n",
    "                 xscale='log',\n",
    "                 yscale='log',\n",
    "                 xlim=[0, spectrum.fs[-1]])"
   ]
  },
  {
   "cell_type": "markdown",
   "metadata": {},
   "source": [
    "Now the relationship between power and frequency is clearer.  The slope of this line is approximately -2, which indicates that $P = K / f^2$, for some constant $K$."
   ]
  },
  {
   "cell_type": "code",
   "execution_count": null,
   "metadata": {},
   "outputs": [],
   "source": [
    "signal = thinkdsp.BrownianNoise()\n",
    "wave = signal.make_wave(duration=0.5, framerate=11025)\n",
    "spectrum = wave.make_spectrum()\n",
    "result = spectrum.estimate_slope()\n",
    "result.slope"
   ]
  },
  {
   "cell_type": "markdown",
   "metadata": {},
   "source": [
    "The estimated slope of the line is closer to -1.8 than -2, for reasons we'll see later.\n",
    "\n",
    "### Pink noise\n",
    "\n",
    "Pink noise is characterized by a parameter, $\\beta$, usually between 0 and 2.  You can hear the differences below.\n",
    "\n",
    "With $\\beta=0$, we get white noise:"
   ]
  },
  {
   "cell_type": "code",
   "execution_count": null,
   "metadata": {},
   "outputs": [],
   "source": [
    "signal = thinkdsp.PinkNoise(beta=0)\n",
    "wave = signal.make_wave(duration=0.5)\n",
    "wave.make_audio()"
   ]
  },
  {
   "cell_type": "markdown",
   "metadata": {},
   "source": [
    "With $\\beta=1$, pink noise has the relationship $P = K / f$, which is why it is also called $1/f$ noise."
   ]
  },
  {
   "cell_type": "code",
   "execution_count": null,
   "metadata": {},
   "outputs": [],
   "source": [
    "signal = thinkdsp.PinkNoise(beta=1)\n",
    "wave = signal.make_wave(duration=0.5)\n",
    "wave.make_audio()"
   ]
  },
  {
   "cell_type": "markdown",
   "metadata": {},
   "source": [
    "With $\\beta=2$, we get Brownian (aka red) noise."
   ]
  },
  {
   "cell_type": "code",
   "execution_count": null,
   "metadata": {},
   "outputs": [],
   "source": [
    "signal = thinkdsp.PinkNoise(beta=2)\n",
    "wave = signal.make_wave(duration=0.5)\n",
    "wave.make_audio()"
   ]
  },
  {
   "cell_type": "markdown",
   "metadata": {},
   "source": [
    "The following figure shows the power spectrums for white, pink, and red noise on a log-log scale."
   ]
  },
  {
   "cell_type": "code",
   "execution_count": null,
   "metadata": {},
   "outputs": [],
   "source": [
    "colors = ['#9ecae1', '#4292c6', '#2171b5']\n",
    "betas = [0, 1, 2]\n",
    "\n",
    "for beta, color in zip(betas, colors):\n",
    "    signal = thinkdsp.PinkNoise(beta=beta)\n",
    "    wave = signal.make_wave(duration=0.5, framerate=1024)\n",
    "    spectrum = wave.make_spectrum()\n",
    "    spectrum.hs[0] = 0\n",
    "    spectrum.plot_power(linewidth=1, color=color)\n",
    "    \n",
    "thinkplot.config(xlabel='frequency (Hz)',\n",
    "                 ylabel='power',\n",
    "                 xscale='log',\n",
    "                 yscale='log',\n",
    "                 xlim=[0, spectrum.fs[-1]])"
   ]
  },
  {
   "cell_type": "markdown",
   "metadata": {},
   "source": [
    "### Uncorrelated Gaussian noise\n",
    "\n",
    "An alternative to UU noise is uncorrelated Gaussian (UG noise)."
   ]
  },
  {
   "cell_type": "code",
   "execution_count": null,
   "metadata": {},
   "outputs": [],
   "source": [
    "signal = thinkdsp.UncorrelatedGaussianNoise()\n",
    "wave = signal.make_wave(duration=0.5, framerate=11025)\n",
    "wave.plot(linewidth=0.5)\n",
    "thinkplot.config(xlabel='time',\n",
    "                 ylabel='amplitude')"
   ]
  },
  {
   "cell_type": "markdown",
   "metadata": {},
   "source": [
    "The spectrum of UG noise is also UG noise."
   ]
  },
  {
   "cell_type": "code",
   "execution_count": null,
   "metadata": {},
   "outputs": [],
   "source": [
    "spectrum = wave.make_spectrum()\n",
    "spectrum.plot_power(linewidth=1)\n",
    "thinkplot.config(xlabel='frequency (Hz)',\n",
    "                 ylabel='power',\n",
    "                 xlim=[0, spectrum.fs[-1]])"
   ]
  },
  {
   "cell_type": "markdown",
   "metadata": {},
   "source": [
    "We can use a normal probability plot to test the distribution of the power spectrum."
   ]
  },
  {
   "cell_type": "code",
   "execution_count": null,
   "metadata": {},
   "outputs": [],
   "source": [
    "from thinkstats2 import NormalProbabilityPlot\n",
    "\n",
    "NormalProbabilityPlot(spectrum.real, label='real part')\n",
    "thinkplot.config(xlabel='normal sample',\n",
    "                 ylabel='power',\n",
    "                 ylim=[-250, 250],\n",
    "                 legend=True,\n",
    "                 loc='lower right')"
   ]
  },
  {
   "cell_type": "markdown",
   "metadata": {},
   "source": [
    "A straight line on a normal probability plot indicates that the distribution of the real part of the spectrum is Gaussian."
   ]
  },
  {
   "cell_type": "code",
   "execution_count": null,
   "metadata": {},
   "outputs": [],
   "source": [
    "NormalProbabilityPlot(spectrum.imag, label='imag part')\n",
    "thinkplot.config(xlabel='normal sample',\n",
    "                 ylabel='power',\n",
    "                 ylim=[-250, 250],\n",
    "                 legend=True,\n",
    "                 loc='lower right')"
   ]
  },
  {
   "cell_type": "markdown",
   "metadata": {},
   "source": [
    "And so is the imaginary part."
   ]
  },
  {
   "cell_type": "code",
   "execution_count": null,
   "metadata": {},
   "outputs": [],
   "source": []
  }
 ],
 "metadata": {
  "kernelspec": {
   "display_name": "Python 3",
   "language": "python",
   "name": "python3"
  },
  "language_info": {
   "codemirror_mode": {
    "name": "ipython",
    "version": 3
   },
   "file_extension": ".py",
   "mimetype": "text/x-python",
   "name": "python",
   "nbconvert_exporter": "python",
   "pygments_lexer": "ipython3",
   "version": "3.7.4"
  },
  "latex_envs": {
   "LaTeX_envs_menu_present": true,
   "autoclose": false,
   "autocomplete": true,
   "bibliofile": "biblio.bib",
   "cite_by": "apalike",
   "current_citInitial": 1,
   "eqLabelWithNumbers": true,
   "eqNumInitial": 1,
   "hotkeys": {
    "equation": "Ctrl-E",
    "itemize": "Ctrl-I"
   },
   "labels_anchors": false,
   "latex_user_defs": false,
   "report_style_numbering": false,
   "user_envs_cfg": false
  },
  "nbTranslate": {
   "displayLangs": [
    "zh-TW",
    "en"
   ],
   "hotkey": "alt-t",
   "langInMainMenu": true,
   "sourceLang": "en",
   "targetLang": "zh-TW",
   "useGoogleTranslate": true
  },
  "toc": {
   "base_numbering": 1,
   "nav_menu": {},
   "number_sections": true,
   "sideBar": true,
   "skip_h1_title": false,
   "title_cell": "Table of Contents",
   "title_sidebar": "Contents",
   "toc_cell": false,
   "toc_position": {},
   "toc_section_display": true,
   "toc_window_display": false
  },
  "varInspector": {
   "cols": {
    "lenName": 16,
    "lenType": 16,
    "lenVar": 40
   },
   "kernels_config": {
    "python": {
     "delete_cmd_postfix": "",
     "delete_cmd_prefix": "del ",
     "library": "var_list.py",
     "varRefreshCmd": "print(var_dic_list())"
    },
    "r": {
     "delete_cmd_postfix": ") ",
     "delete_cmd_prefix": "rm(",
     "library": "var_list.r",
     "varRefreshCmd": "cat(var_dic_list()) "
    }
   },
   "types_to_exclude": [
    "module",
    "function",
    "builtin_function_or_method",
    "instance",
    "_Feature"
   ],
   "window_display": false
  }
 },
 "nbformat": 4,
 "nbformat_minor": 1
}
