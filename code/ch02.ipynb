{
 "cells": [
  {
   "cell_type": "markdown",
   "metadata": {},
   "source": []
  },
  {
   "cell_type": "markdown",
   "metadata": {},
   "source": []
  },
  {
   "cell_type": "markdown",
   "metadata": {},
   "source": []
  },
  {
   "cell_type": "markdown",
   "metadata": {},
   "source": []
  },
  {
   "cell_type": "markdown",
   "metadata": {},
   "source": [
    "# Chapter 2  Harmonics\n",
    "\n",
    "In this chapter I present several new waveforms; we will look at their spectrums to understand their harmonic structure, which is the set of sinusoids they are made up of.\n",
    "\n",
    "I’ll also introduce one of the most important phenomena in digital signal processing: aliasing. And I’ll explain a little more about how the Spectrum class works.\n",
    "\n",
    "The code for this chapter is in chap02.ipynb, which is in the repository for this book (see Section 0.2). You can also view it at http://tinyurl.com/thinkdsp02."
   ]
  },
  {
   "cell_type": "markdown",
   "metadata": {},
   "source": [
    "## 2.1  Triangle waves\n",
    "\n",
    "A sinusoid contains only one frequency component, so its spectrum has only one peak. More complicated waveforms, like the violin recording, yield DFTs with many peaks. In this section we investigate the relationship between waveforms and their spectrums.\n",
    "\n",
    "![](../textbook/fg/thinkdsp006.png)\n",
    "\n",
    "Figure 2.1: Segment of a triangle signal at 200 Hz.\n",
    "\n",
    "![](fg/fg_triangle.png)\n",
    "\n",
    "----\n",
    "![](fg/fg_triangle_2.png)"
   ]
  },
  {
   "cell_type": "markdown",
   "metadata": {},
   "source": [
    "I’ll start with a triangle waveform, which is like a straight-line version of a sinusoid. Figure 2.1 shows a triangle waveform with frequency 200 Hz.\n",
    "\n",
    "To generate a triangle wave, you can start with a thinkdsp.TriangleSignal:\n",
    "\n",
    "```python\n",
    "class TriangleSignal(Sinusoid):\n",
    "    \n",
    "    def evaluate(self, ts):\n",
    "        cycles = self.freq * ts + self.offset / PI2\n",
    "        frac, _ = np.modf(cycles)\n",
    "        ys = np.abs(frac - 0.5)\n",
    "        ys = normalize(unbias(ys), self.amp)\n",
    "        return ys\n",
    "```\n",
    "\n",
    "TriangleSignal inherits __init__ from Sinusoid, so it takes the same arguments: freq, amp, and offset.\n",
    "\n",
    "The only difference is evaluate. As we saw before, ts is the sequence of sample times where we want to evaluate the signal.\n",
    "\n",
    "There are many ways to generate a triangle wave. The details are not important, but here’s how evaluate works:\n",
    "\n",
    "cycles is the number of cycles since the start time. np.modf splits the number of cycles into the fraction part, stored in frac, and the integer part, which is ignored 1.\n",
    "\n",
    "frac is a sequence that ramps from 0 to 1 with the given frequency. Subtracting 0.5 yields values between -0.5 and 0.5. Taking the absolute value yields a waveform that zig-zags between 0.5 and 0.\n",
    "\n",
    "unbias shifts the waveform down so it is centered at 0; then normalize scales it to the given amplitude, amp.\n",
    "\n",
    "----"
   ]
  },
  {
   "cell_type": "code",
   "execution_count": 22,
   "metadata": {},
   "outputs": [
    {
     "data": {
      "text/plain": [
       "(6, 6, 6, 4, 4)"
      ]
     },
     "execution_count": 22,
     "metadata": {},
     "output_type": "execute_result"
    }
   ],
   "source": [
    "import numpy as np\n",
    "import thinkdsp\n",
    "import scipy as sp\n",
    "\n",
    "6%10, 16%10, 26%10, -6%10,-16%10\n"
   ]
  },
  {
   "cell_type": "code",
   "execution_count": 23,
   "metadata": {},
   "outputs": [
    {
     "data": {
      "text/plain": [
       "(0.6, 0.6000000000000001, 0.6000000000000001, 0.4, 0.3999999999999999)"
      ]
     },
     "execution_count": 23,
     "metadata": {},
     "output_type": "execute_result"
    }
   ],
   "source": [
    "0.6%1.0, 1.6%1.0, 2.6%1.0, -.6%1.0,-1.6%1.0"
   ]
  },
  {
   "cell_type": "code",
   "execution_count": 25,
   "metadata": {},
   "outputs": [
    {
     "data": {
      "text/plain": [
       "(0.6, 1.6, 2.6, 0.458407346410207, 1.1752220392306203, 0.10000000000000142)"
      ]
     },
     "execution_count": 25,
     "metadata": {},
     "output_type": "execute_result"
    }
   ],
   "source": [
    "π= np.pi\n",
    "0.6%π, 1.6%π, 2.6%π, 3.6%π, 10.6%π, (10*π+0.1)%π"
   ]
  },
  {
   "cell_type": "markdown",
   "metadata": {},
   "source": [
    "- 確認利用 % (mod) 求餘數，可以用在實數。 "
   ]
  },
  {
   "cell_type": "code",
   "execution_count": 26,
   "metadata": {},
   "outputs": [],
   "source": [
    "def ryTri(θ):\n",
    "    \n",
    "    θ= θ % (np.pi * 2) # 這一行讓 θ 周而復始，週期維持在 (2 π)\n",
    "    \n",
    "    x0= θ *(-2/np.pi) +1\n",
    "    x1= θ *(+2/np.pi) -3\n",
    "    \n",
    "    x= x0 * (θ<np.pi) + x1 * (θ>=np.pi) # 這一行稍微有深度！！\n",
    "    \n",
    "    return x\n"
   ]
  },
  {
   "cell_type": "code",
   "execution_count": 34,
   "metadata": {},
   "outputs": [
    {
     "data": {
      "text/plain": [
       "Text(0.5, 0, 'θ (rad)')"
      ]
     },
     "execution_count": 34,
     "metadata": {},
     "output_type": "execute_result"
    },
    {
     "data": {
      "image/png": "[encoded data removed]",
      "text/plain": [
       "<Figure size 432x288 with 1 Axes>"
      ]
     },
     "metadata": {
      "needs_background": "light"
     },
     "output_type": "display_data"
    }
   ],
   "source": [
    "import matplotlib.pyplot as pl\n",
    "\n",
    "θ= np.linspace(0,10*np.pi, 10001)\n",
    "x= ryTri(θ)\n",
    "pl.plot(θ, x)\n",
    "pl.grid('on')\n",
    "pl.xlabel('θ (rad)')\n"
   ]
  },
  {
   "cell_type": "code",
   "execution_count": 37,
   "metadata": {},
   "outputs": [
    {
     "data": {
      "text/plain": [
       "array([0.        , 0.06283185, 0.12566371, 0.18849556, 0.25132741,\n",
       "       0.31415927, 0.37699112, 0.43982297, 0.50265482, 0.56548668,\n",
       "       0.62831853, 0.69115038, 0.75398224, 0.81681409, 0.87964594,\n",
       "       0.9424778 , 1.00530965, 1.0681415 , 1.13097336, 1.19380521,\n",
       "       1.25663706, 1.31946891, 1.38230077, 1.44513262, 1.50796447,\n",
       "       1.57079633, 1.63362818, 1.69646003, 1.75929189, 1.82212374,\n",
       "       1.88495559, 1.94778745, 2.0106193 , 2.07345115, 2.136283  ,\n",
       "       2.19911486, 2.26194671, 2.32477856, 2.38761042, 2.45044227,\n",
       "       2.51327412, 2.57610598, 2.63893783, 2.70176968, 2.76460154,\n",
       "       2.82743339, 2.89026524, 2.95309709, 3.01592895, 3.0787608 ,\n",
       "       3.14159265, 3.20442451, 3.26725636, 3.33008821, 3.39292007,\n",
       "       3.45575192, 3.51858377, 3.58141563, 3.64424748, 3.70707933,\n",
       "       3.76991118, 3.83274304, 3.89557489, 3.95840674, 4.0212386 ,\n",
       "       4.08407045, 4.1469023 , 4.20973416, 4.27256601, 4.33539786,\n",
       "       4.39822972, 4.46106157, 4.52389342, 4.58672527, 4.64955713,\n",
       "       4.71238898, 4.77522083, 4.83805269, 4.90088454, 4.96371639,\n",
       "       5.02654825, 5.0893801 , 5.15221195, 5.2150438 , 5.27787566,\n",
       "       5.34070751, 5.40353936, 5.46637122, 5.52920307, 5.59203492,\n",
       "       5.65486678, 5.71769863, 5.78053048, 5.84336234, 5.90619419,\n",
       "       5.96902604, 6.03185789, 6.09468975, 6.1575216 , 6.22035345,\n",
       "       6.28318531])"
      ]
     },
     "execution_count": 37,
     "metadata": {},
     "output_type": "execute_result"
    }
   ],
   "source": [
    "# x= x0 * (θ<np.pi) + x1 * (θ>=np.pi) # 這一行稍微有深度！！\n",
    "\n",
    "θ = np.linspace(0, 2*np.pi, 101)\n",
    "θ"
   ]
  },
  {
   "cell_type": "code",
   "execution_count": 38,
   "metadata": {},
   "outputs": [
    {
     "data": {
      "text/plain": [
       "array([ True,  True,  True,  True,  True,  True,  True,  True,  True,\n",
       "        True,  True,  True,  True,  True,  True,  True,  True,  True,\n",
       "        True,  True,  True,  True,  True,  True,  True,  True,  True,\n",
       "        True,  True,  True,  True,  True,  True,  True,  True,  True,\n",
       "        True,  True,  True,  True,  True,  True,  True,  True,  True,\n",
       "        True,  True,  True,  True,  True, False, False, False, False,\n",
       "       False, False, False, False, False, False, False, False, False,\n",
       "       False, False, False, False, False, False, False, False, False,\n",
       "       False, False, False, False, False, False, False, False, False,\n",
       "       False, False, False, False, False, False, False, False, False,\n",
       "       False, False, False, False, False, False, False, False, False,\n",
       "       False, False])"
      ]
     },
     "execution_count": 38,
     "metadata": {},
     "output_type": "execute_result"
    }
   ],
   "source": [
    "θ<np.pi"
   ]
  },
  {
   "cell_type": "code",
   "execution_count": 41,
   "metadata": {},
   "outputs": [
    {
     "data": {
      "text/plain": [
       "array([ 1.00000000e+00,  9.60000000e-01,  9.20000000e-01,  8.80000000e-01,\n",
       "        8.40000000e-01,  8.00000000e-01,  7.60000000e-01,  7.20000000e-01,\n",
       "        6.80000000e-01,  6.40000000e-01,  6.00000000e-01,  5.60000000e-01,\n",
       "        5.20000000e-01,  4.80000000e-01,  4.40000000e-01,  4.00000000e-01,\n",
       "        3.60000000e-01,  3.20000000e-01,  2.80000000e-01,  2.40000000e-01,\n",
       "        2.00000000e-01,  1.60000000e-01,  1.20000000e-01,  8.00000000e-02,\n",
       "        4.00000000e-02, -2.22044605e-16, -4.00000000e-02, -8.00000000e-02,\n",
       "       -1.20000000e-01, -1.60000000e-01, -2.00000000e-01, -2.40000000e-01,\n",
       "       -2.80000000e-01, -3.20000000e-01, -3.60000000e-01, -4.00000000e-01,\n",
       "       -4.40000000e-01, -4.80000000e-01, -5.20000000e-01, -5.60000000e-01,\n",
       "       -6.00000000e-01, -6.40000000e-01, -6.80000000e-01, -7.20000000e-01,\n",
       "       -7.60000000e-01, -8.00000000e-01, -8.40000000e-01, -8.80000000e-01,\n",
       "       -9.20000000e-01, -9.60000000e-01, -1.00000000e+00, -1.04000000e+00,\n",
       "       -1.08000000e+00, -1.12000000e+00, -1.16000000e+00, -1.20000000e+00,\n",
       "       -1.24000000e+00, -1.28000000e+00, -1.32000000e+00, -1.36000000e+00,\n",
       "       -1.40000000e+00, -1.44000000e+00, -1.48000000e+00, -1.52000000e+00,\n",
       "       -1.56000000e+00, -1.60000000e+00, -1.64000000e+00, -1.68000000e+00,\n",
       "       -1.72000000e+00, -1.76000000e+00, -1.80000000e+00, -1.84000000e+00,\n",
       "       -1.88000000e+00, -1.92000000e+00, -1.96000000e+00, -2.00000000e+00,\n",
       "       -2.04000000e+00, -2.08000000e+00, -2.12000000e+00, -2.16000000e+00,\n",
       "       -2.20000000e+00, -2.24000000e+00, -2.28000000e+00, -2.32000000e+00,\n",
       "       -2.36000000e+00, -2.40000000e+00, -2.44000000e+00, -2.48000000e+00,\n",
       "       -2.52000000e+00, -2.56000000e+00, -2.60000000e+00, -2.64000000e+00,\n",
       "       -2.68000000e+00, -2.72000000e+00, -2.76000000e+00, -2.80000000e+00,\n",
       "       -2.84000000e+00, -2.88000000e+00, -2.92000000e+00, -2.96000000e+00,\n",
       "       -3.00000000e+00])"
      ]
     },
     "execution_count": 41,
     "metadata": {},
     "output_type": "execute_result"
    }
   ],
   "source": [
    "x0= θ *(-2/np.pi) +1\n",
    "x0"
   ]
  },
  {
   "cell_type": "code",
   "execution_count": 42,
   "metadata": {},
   "outputs": [
    {
     "data": {
      "text/plain": [
       "array([ 1.00000000e+00,  9.60000000e-01,  9.20000000e-01,  8.80000000e-01,\n",
       "        8.40000000e-01,  8.00000000e-01,  7.60000000e-01,  7.20000000e-01,\n",
       "        6.80000000e-01,  6.40000000e-01,  6.00000000e-01,  5.60000000e-01,\n",
       "        5.20000000e-01,  4.80000000e-01,  4.40000000e-01,  4.00000000e-01,\n",
       "        3.60000000e-01,  3.20000000e-01,  2.80000000e-01,  2.40000000e-01,\n",
       "        2.00000000e-01,  1.60000000e-01,  1.20000000e-01,  8.00000000e-02,\n",
       "        4.00000000e-02, -2.22044605e-16, -4.00000000e-02, -8.00000000e-02,\n",
       "       -1.20000000e-01, -1.60000000e-01, -2.00000000e-01, -2.40000000e-01,\n",
       "       -2.80000000e-01, -3.20000000e-01, -3.60000000e-01, -4.00000000e-01,\n",
       "       -4.40000000e-01, -4.80000000e-01, -5.20000000e-01, -5.60000000e-01,\n",
       "       -6.00000000e-01, -6.40000000e-01, -6.80000000e-01, -7.20000000e-01,\n",
       "       -7.60000000e-01, -8.00000000e-01, -8.40000000e-01, -8.80000000e-01,\n",
       "       -9.20000000e-01, -9.60000000e-01, -0.00000000e+00, -0.00000000e+00,\n",
       "       -0.00000000e+00, -0.00000000e+00, -0.00000000e+00, -0.00000000e+00,\n",
       "       -0.00000000e+00, -0.00000000e+00, -0.00000000e+00, -0.00000000e+00,\n",
       "       -0.00000000e+00, -0.00000000e+00, -0.00000000e+00, -0.00000000e+00,\n",
       "       -0.00000000e+00, -0.00000000e+00, -0.00000000e+00, -0.00000000e+00,\n",
       "       -0.00000000e+00, -0.00000000e+00, -0.00000000e+00, -0.00000000e+00,\n",
       "       -0.00000000e+00, -0.00000000e+00, -0.00000000e+00, -0.00000000e+00,\n",
       "       -0.00000000e+00, -0.00000000e+00, -0.00000000e+00, -0.00000000e+00,\n",
       "       -0.00000000e+00, -0.00000000e+00, -0.00000000e+00, -0.00000000e+00,\n",
       "       -0.00000000e+00, -0.00000000e+00, -0.00000000e+00, -0.00000000e+00,\n",
       "       -0.00000000e+00, -0.00000000e+00, -0.00000000e+00, -0.00000000e+00,\n",
       "       -0.00000000e+00, -0.00000000e+00, -0.00000000e+00, -0.00000000e+00,\n",
       "       -0.00000000e+00, -0.00000000e+00, -0.00000000e+00, -0.00000000e+00,\n",
       "       -0.00000000e+00])"
      ]
     },
     "execution_count": 42,
     "metadata": {},
     "output_type": "execute_result"
    }
   ],
   "source": [
    "x0*(θ<np.pi) # 你會看到 (序列的後半段通通是 0)，亦即，僅前半段有效。"
   ]
  },
  {
   "cell_type": "code",
   "execution_count": 43,
   "metadata": {},
   "outputs": [],
   "source": [
    "# (後半段，同理可證！！)"
   ]
  },
  {
   "cell_type": "code",
   "execution_count": 46,
   "metadata": {},
   "outputs": [],
   "source": [
    "import thinkdsp as td\n",
    "td.TriangleSignal??"
   ]
  },
  {
   "cell_type": "markdown",
   "metadata": {},
   "source": [
    "我們剛才寫了一個類似 cos(θ) 的 triangle function, \n",
    "\n",
    "`tri(θ)` \n",
    "\n",
    "- 振幅= 1, \n",
    "- 週期= 2 π,\n",
    "\n",
    "我燜當然也可 把它修改成，振幅 A = amp 、 頻率 f = freq、以及 夾帶一個起始相位  ϕ = offset "
   ]
  },
  {
   "cell_type": "code",
   "execution_count": 47,
   "metadata": {},
   "outputs": [],
   "source": [
    "def ryTri(t, amp=1, freq=440, offset=0 ):\n",
    "    \n",
    "    θ= t * 2 * np.pi * freq + offset # 在此作橫軸之變數變換\n",
    "    \n",
    "    θ= θ % (np.pi * 2) # 這一行讓 θ 周而復始，週期維持在 (2 π)\n",
    "    \n",
    "    x0= θ *(-2/np.pi) +1\n",
    "    x1= θ *(+2/np.pi) -3\n",
    "    \n",
    "    x= x0 * (θ<np.pi) + x1 * (θ>=np.pi) # 這一行稍微有深度！！\n",
    "    \n",
    "    x= x *amp # 最後輸出前，再把縱軸拉到 振幅 = amp\n",
    "    \n",
    "    return x"
   ]
  },
  {
   "cell_type": "markdown",
   "metadata": {},
   "source": [
    "如此就與作者所提供的 class TriangleSignal 有相同的行為。\n",
    "以下測試看看。"
   ]
  },
  {
   "cell_type": "code",
   "execution_count": 65,
   "metadata": {},
   "outputs": [
    {
     "data": {
      "image/png": "[encoded data removed]",
      "text/plain": [
       "<Figure size 432x288 with 1 Axes>"
      ]
     },
     "metadata": {
      "needs_background": "light"
     },
     "output_type": "display_data"
    }
   ],
   "source": [
    "t= np.linspace(0, (1/440)*3, 1000) # 畫 3 個週期\n",
    "x= ryTri(t)\n",
    "pl.plot(t,x)\n",
    "pl.grid()"
   ]
  },
  {
   "cell_type": "code",
   "execution_count": 66,
   "metadata": {},
   "outputs": [
    {
     "data": {
      "image/png": "[encoded data removed]",
      "text/plain": [
       "<Figure size 432x288 with 1 Axes>"
      ]
     },
     "metadata": {
      "needs_background": "light"
     },
     "output_type": "display_data"
    }
   ],
   "source": [
    "y= td.TriangleSignal()\n",
    "y.plot()\n",
    "pl.grid()"
   ]
  },
  {
   "cell_type": "code",
   "execution_count": 2,
   "metadata": {},
   "outputs": [],
   "source": []
  },
  {
   "cell_type": "markdown",
   "metadata": {},
   "source": [
    "Here’s the code that generates Figure 2.1:\n",
    "\n",
    "signal = thinkdsp.TriangleSignal(200)\n",
    "signal.plot()\n",
    "\n",
    "![](../textbook/fg/thinkdsp007.png)\n",
    "\n",
    "Figure 2.2: \n",
    "Spectrum of a triangle signal at 200 Hz, shown on two vertical scales. \n",
    "The version on the right cuts off the fundamental to show the harmonics more clearly.\n",
    "\n",
    "Next we can use the Signal to make a Wave, and use the Wave to make a Spectrum:\n",
    "\n",
    "wave = signal.make_wave(duration=0.5, framerate=10000)\n",
    "spectrum = wave.make_spectrum()\n",
    "spectrum.plot()\n",
    "\n",
    "Figure 2.2 shows two views of the result; the view on the right is scaled to show the harmonics more clearly. As expected, the highest peak is at the fundamental frequency, 200 Hz, and there are additional peaks at harmonic frequencies, which are integer multiples of 200.\n",
    "\n",
    "But one surprise is that there are no peaks at the even multiples: 400, 800, etc. The harmonics of a triangle wave are all odd multiples of the fundamental frequency, in this example 600, 1000, 1400, etc.\n",
    "\n",
    "Another feature of this spectrum is the relationship between the amplitude and frequency of the harmonics. Their amplitude drops off in proportion to frequency squared. For example the frequency ratio of the first two harmonics (200 and 600 Hz) is 3, and the amplitude ratio is approximately 9. The frequency ratio of the next two harmonics (600 and 1000 Hz) is 1.7, and the amplitude ratio is approximately 1.72 = 2.9. This relationship is called the harmonic structure."
   ]
  },
  {
   "cell_type": "markdown",
   "metadata": {},
   "source": [
    "## 2.2  Square waves\n",
    "\n",
    "\n",
    "![](../textbook/fg/thinkdsp008.png)\n",
    "\n",
    "Figure 2.3: Segment of a square signal at 100 Hz.\n",
    "thinkdsp also provides SquareSignal, which represents a square signal. Here’s the class definition:\n",
    "\n",
    "class SquareSignal(Sinusoid):\n",
    "    \n",
    "    def evaluate(self, ts):\n",
    "        cycles = self.freq * ts + self.offset / PI2\n",
    "        frac, _ = np.modf(cycles)\n",
    "        ys = self.amp * np.sign(unbias(frac))\n",
    "        return ys\n",
    "Like TriangleSignal, SquareSignal inherits __init__ from Sinusoid, so it takes the same parameters.\n",
    "\n",
    "And the evaluate method is similar. Again, cycles is the number of cycles since the start time, and frac is the fractional part, which ramps from 0 to 1 each period.\n",
    "\n",
    "unbias shifts frac so it ramps from -0.5 to 0.5, then np.sign maps the negative values to -1 and the positive values to 1. Multiplying by amp yields a square wave that jumps between -amp and amp.\n",
    "\n",
    "\n",
    "![](../textbook/fg/thinkdsp009.png)\n",
    "\n",
    "Figure 2.4: Spectrum of a square signal at 100 Hz.\n",
    "Figure 2.3 shows three periods of a square wave with frequency 100 Hz, and Figure 2.4 shows its spectrum.\n",
    "\n",
    "Like a triangle wave, the square wave contains only odd harmonics, which is why there are peaks at 300, 500, and 700 Hz, etc. But the amplitude of the harmonics drops off more slowly. Specifically, amplitude drops in proportion to frequency (not frequency squared).\n",
    "\n",
    "The exercises at the end of this chapter give you a chance to explore other waveforms and other harmonic structures."
   ]
  },
  {
   "cell_type": "markdown",
   "metadata": {},
   "source": [
    "## 2.3  Aliasing\n",
    "\n",
    "\n",
    "![](../textbook/fg/thinkdsp010.png)\n",
    "\n",
    "Figure 2.5: Spectrum of a triangle signal at 1100 Hz sampled at 10,000 frames per second. The view on the right is scaled to show the harmonics.\n",
    "I have a confession. I chose the examples in the previous section carefully to avoid showing you something confusing. But now it’s time to get confused.\n",
    "\n",
    "Figure 2.5 shows the spectrum of a triangle wave at 1100 Hz, sampled at 10,000 frames per second. Again, the view on the right is scaled to show the harmonics.\n",
    "\n",
    "The harmonics of this wave should be at 3300, 5500, 7700, and 9900 Hz. In the figure, there are peaks at 1100 and 3300 Hz, as expected, but the third peak is at 4500, not 5500 Hz. The fourth peak is at 2300, not 7700 Hz. And if you look closely, the peak that should be at 9900 is actually at 100 Hz. What’s going on?\n",
    "\n",
    "The problem is that when you evaluate the signal at discrete points in time, you lose information about what happened between samples. For low frequency components, that’s not a problem, because you have lots of samples per period.\n",
    "\n",
    "But if you sample a signal at 5000 Hz with 10,000 frames per second, you only have two samples per period. That turns out to be enough, just barely, but if the frequency is higher, it’s not.\n",
    "\n",
    "To see why, let’s generate cosine signals at 4500 and 5500 Hz, and sample them at 10,000 frames per second:\n",
    "\n",
    "    framerate = 10000\n",
    "\n",
    "    signal = thinkdsp.CosSignal(4500)\n",
    "    duration = signal.period*5\n",
    "    segment = signal.make_wave(duration, framerate=framerate)\n",
    "    segment.plot()\n",
    "\n",
    "    signal = thinkdsp.CosSignal(5500)\n",
    "    segment = signal.make_wave(duration, framerate=framerate)\n",
    "    segment.plot()\n",
    "\n",
    "\n",
    "![](../textbook/fg/thinkdsp011.png)\n",
    "\n",
    "Figure 2.6: Cosine signals at 4500 and 5500 Hz, sampled at 10,000 frames per second. The signals are different, but the samples are identical.\n",
    "Figure 2.6 shows the result. I plotted the Signals with thin gray lines and the samples using vertical lines, to make it easier to compare the two Waves. The problem should be clear: even though the Signals are different, the Waves are identical!\n",
    "\n",
    "When we sample a 5500 Hz signal at 10,000 frames per second, the result is indistinguishable from a 4500 Hz signal. For the same reason, a 7700 Hz signal is indistinguishable from 2300 Hz, and a 9900 Hz is indistinguishable from 100 Hz.\n",
    "\n",
    "This effect is called aliasing because when the high frequency signal is sampled, it appears to be a low frequency signal.\n",
    "\n",
    "In this example, the highest frequency we can measure is 5000 Hz, which is half the sampling rate. Frequencies above 5000 Hz are folded back below 5000 Hz, which is why this threshold is sometimes called the “folding frequency”. It is sometimes also called the Nyquist frequency. See http://en.wikipedia.org/wiki/Nyquist_frequency.\n",
    "\n",
    "The folding pattern continues if the aliased frequency goes below zero. For example, the 5th harmonic of the 1100 Hz triangle wave is at 12,100 Hz. Folded at 5000 Hz, it would appear at -2100 Hz, but it gets folded again at 0 Hz, back to 2100 Hz. In fact, you can see a small peak at 2100 Hz in Figure 2.4, and the next one at 4300 Hz."
   ]
  },
  {
   "cell_type": "markdown",
   "metadata": {},
   "source": [
    "## 2.4  Computing the spectrum\n",
    "\n",
    "We have seen the Wave method make_spectrum several times. Here is the implementation (leaving out some details we’ll get to later):\n",
    "\n",
    "from np.fft import rfft, rfftfreq\n",
    "\n",
    "\n",
    "class Wave:\n",
    "\n",
    "    def make_spectrum(self):\n",
    "        n = len(self.ys)\n",
    "        d = 1 / self.framerate\n",
    "\n",
    "        hs = rfft(self.ys)\n",
    "        fs = rfftfreq(n, d)\n",
    "\n",
    "        return Spectrum(hs, fs, self.framerate)\n",
    "        \n",
    "The parameter self is a Wave object. n is the number of samples in the wave, and d is the inverse of the frame rate, which is the time between samples.\n",
    "\n",
    "np.fft is the NumPy module that provides functions related to the Fast Fourier Transform (FFT), which is an efficient algorithm that computes the Discrete Fourier Transform (DFT).\n",
    "\n",
    "make_spectrum uses rfft, which stands for “real FFT”, because the Wave contains real values, not complex. Later we’ll see the full FFT, which can handle complex signals (see Section 7.9). The result of rfft, which I call hs, is a NumPy array of complex numbers that represents the amplitude and phase offset of each frequency component in the wave.\n",
    "\n",
    "The result of rfftfreq, which I call fs, is an array that contains frequencies corresponding to the hs.\n",
    "\n",
    "To understand the values in hs, consider these two ways to think about complex numbers:\n",
    "\n",
    "A complex number is the sum of a real part and an imaginary part, often written x + iy, where i is the imaginary unit, √−1. You can think of x and y as Cartesian coordinates.\n",
    "A complex number is also the product of a magnitude and a complex exponential, A ei φ, where A is the magnitude and φ is the angle in radians, also called the “argument”. You can think of A and φ as polar coordinates.\n",
    "Each value in hs corresponds to a frequency component: its magnitude is proportional to the amplitude of the corresponding component; its angle is the phase offset.\n",
    "\n",
    "The Spectrum class provides two read-only properties, amps and angles, which return NumPy arrays representing the magnitudes and angles of the hs. When we plot a Spectrum object, we usually plot amps versus fs. Sometimes it is also useful to plot angles versus fs.\n",
    "\n",
    "Although it might be tempting to look at the real and imaginary parts of hs, you will almost never need to. I encourage you to think of the DFT as a vector of amplitudes and phase offsets that happen to be encoded in the form of complex numbers.\n",
    "\n",
    "To modify a Spectrum, you can access the hs directly. For example:\n",
    "\n",
    "spectrum.hs *= 2\n",
    "spectrum.hs[spectrum.fs > cutoff] = 0\n",
    "The first line multiplies the elements of hs by 2, which doubles the amplitudes of all components. The second line sets to 0 only the elements of hs where the corresponding frequency exceeds some cutoff frequency.\n",
    "\n",
    "But Spectrum also provides methods to perform these operations:\n",
    "\n",
    "spectrum.scale(2)\n",
    "spectrum.low_pass(cutoff)\n",
    "You can read the documentation of these methods and others at http://greenteapress.com/thinkdsp.html.\n",
    "\n",
    "At this point you should have a better idea of how the Signal, Wave, and Spectrum classes work, but I have not explained how the Fast Fourier Transform works. That will take a few more chapters."
   ]
  },
  {
   "cell_type": "markdown",
   "metadata": {},
   "source": [
    "## 2.5  Exercises\n",
    "\n",
    "Solutions to these exercises are in chap02soln.ipynb.\n",
    "\n",
    "Exercise 1   If you use Jupyter, load chap02.ipynb and try out the examples. You can also view the notebook at http://tinyurl.com/thinkdsp02.\n",
    "Exercise 2   A sawtooth signal has a waveform that ramps up linearly from -1 to 1, then drops to -1 and repeats. See http://en.wikipedia.org/wiki/Sawtooth_wave\n",
    "Write a class called SawtoothSignal that extends Signal and provides evaluate to evaluate a sawtooth signal.\n",
    "\n",
    "Compute the spectrum of a sawtooth wave. How does the harmonic structure compare to triangle and square waves?\n",
    "\n",
    "Exercise 3   Make a square signal at 1100 Hz and make a wave that samples it at 10000 frames per second. If you plot the spectrum, you can see that most of the harmonics are aliased. When you listen to the wave, can you hear the aliased harmonics?\n",
    "Exercise 4   If you have a spectrum object, spectrum, and print the first few values of spectrum.fs, you’ll see that they start at zero. So spectrum.hs[0] is the magnitude of the component with frequency 0. But what does that mean?\n",
    "Try this experiment:\n",
    "\n",
    "Make a triangle signal with frequency 440 and make a Wave with duration 0.01 seconds. Plot the waveform.\n",
    "Make a Spectrum object and print spectrum.hs[0]. What is the amplitude and phase of this component?\n",
    "Set spectrum.hs[0] = 100. What effect does this operation have on the waveform? Hint: Spectrum provides a method called make_wave that computes the Wave that corresponds to the Spectrum.\n",
    "Exercise 5   Write a function that takes a Spectrum as a parameter and modifies it by dividing each element of hs by the corresponding frequency from fs. Hint: since division by zero is undefined, you might want to set spectrum.hs[0] = 0.\n",
    "Test your function using a square, triangle, or sawtooth wave.\n",
    "\n",
    "Compute the Spectrum and plot it.\n",
    "Modify the Spectrum using your function and plot it again.\n",
    "Use Spectrum.make_wave to make a Wave from the modified Spectrum, and listen to it. What effect does this operation have on the signal?\n",
    "Exercise 6   Triangle and square waves have odd harmonics only; the sawtooth wave has both even and odd harmonics. The harmonics of the square and sawtooth waves drop off in proportion to 1/f; the harmonics of the triangle wave drop off like 1/f2. Can you find a waveform that has even and odd harmonics that drop off like 1/f2?\n",
    "Hint: There are two ways you could approach this: you could construct the signal you want by adding up sinusoids, or you could start with a signal that is similar to what you want and modify it."
   ]
  }
 ],
 "metadata": {
  "kernelspec": {
   "display_name": "Python 3",
   "language": "python",
   "name": "python3"
  },
  "language_info": {
   "codemirror_mode": {
    "name": "ipython",
    "version": 3
   },
   "file_extension": ".py",
   "mimetype": "text/x-python",
   "name": "python",
   "nbconvert_exporter": "python",
   "pygments_lexer": "ipython3",
   "version": "3.7.4"
  },
  "latex_envs": {
   "LaTeX_envs_menu_present": true,
   "autoclose": false,
   "autocomplete": true,
   "bibliofile": "biblio.bib",
   "cite_by": "apalike",
   "current_citInitial": 1,
   "eqLabelWithNumbers": true,
   "eqNumInitial": 1,
   "hotkeys": {
    "equation": "Ctrl-E",
    "itemize": "Ctrl-I"
   },
   "labels_anchors": false,
   "latex_user_defs": false,
   "report_style_numbering": false,
   "user_envs_cfg": false
  },
  "nbTranslate": {
   "displayLangs": [
    "zh-TW",
    "en"
   ],
   "hotkey": "alt-t",
   "langInMainMenu": true,
   "sourceLang": "en",
   "targetLang": "zh-TW",
   "useGoogleTranslate": true
  },
  "toc": {
   "base_numbering": 1,
   "nav_menu": {},
   "number_sections": false,
   "sideBar": true,
   "skip_h1_title": false,
   "title_cell": "Table of Contents",
   "title_sidebar": "Contents",
   "toc_cell": false,
   "toc_position": {
    "height": "calc(100% - 180px)",
    "left": "10px",
    "top": "150px",
    "width": "165px"
   },
   "toc_section_display": true,
   "toc_window_display": true
  },
  "varInspector": {
   "cols": {
    "lenName": 16,
    "lenType": 16,
    "lenVar": 40
   },
   "kernels_config": {
    "python": {
     "delete_cmd_postfix": "",
     "delete_cmd_prefix": "del ",
     "library": "var_list.py",
     "varRefreshCmd": "print(var_dic_list())"
    },
    "r": {
     "delete_cmd_postfix": ") ",
     "delete_cmd_prefix": "rm(",
     "library": "var_list.r",
     "varRefreshCmd": "cat(var_dic_list()) "
    }
   },
   "types_to_exclude": [
    "module",
    "function",
    "builtin_function_or_method",
    "instance",
    "_Feature"
   ],
   "window_display": false
  }
 },
 "nbformat": 4,
 "nbformat_minor": 2
}
