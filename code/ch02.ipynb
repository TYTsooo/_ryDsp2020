{
 "cells": [
  {
   "cell_type": "markdown",
   "metadata": {},
   "source": [
    "[Local](./ch02.ipynb),\n",
    "[Github](https://github.com/renyuanL/_ryDsp2020/blob/master/code/ch02.ipynb),\n",
    "[Colab](https://colab.research.google.com/github/renyuanL/_ryDsp2020/blob/master/code/ch02.ipynb)"
   ]
  },
  {
   "cell_type": "markdown",
   "metadata": {},
   "source": [
    "## Ch02. Harmonics\n",
    "\n",
    "textbook\n",
    "[@Local](../textbook/harmonics.html)\n",
    "[@Original](http://greenteapress.com/thinkdsp/html/thinkdsp003.html)\n",
    "\n",
    "\n",
    "- Triangle waves\n",
    "- Square waves\n",
    "- Aliasing\n",
    "- Computing the spectrum\n",
    "- Exercises"
   ]
  },
  {
   "cell_type": "code",
   "execution_count": null,
   "metadata": {},
   "outputs": [],
   "source": [
    "# If you run at your local machine, (Windows or Mac), please skip this cell\n",
    "\n",
    "#\n",
    "# But if you run at Colab, Read me first ...\n",
    "#\n",
    "# If you run at Colab, you need using Jupyter external OS command 'wget' to get 2 python modules,\n",
    "# before you can successully import them.\n",
    "# please remove '#' such that those !wget can be run in advance.\n",
    "#\n",
    "!wget \"https://raw.githubusercontent.com/AllenDowney/ThinkDSP/master/code/thinkdsp.py\"\n",
    "!wget \"https://raw.githubusercontent.com/AllenDowney/ThinkDSP/master/code/thinkplot.py\""
   ]
  },
  {
   "cell_type": "markdown",
   "metadata": {},
   "source": []
  },
  {
   "cell_type": "markdown",
   "metadata": {},
   "source": [
    "# Chapter 2  Harmonics\n",
    "\n",
    "In this chapter I present several new waveforms; we will look at their spectrums to understand their harmonic structure, which is the set of sinusoids they are made up of.\n",
    "\n",
    "I’ll also introduce one of the most important phenomena in digital signal processing: aliasing. And I’ll explain a little more about how the Spectrum class works.\n",
    "\n",
    "The code for this chapter is in chap02.ipynb, which is in the repository for this book (see Section 0.2). You can also view it at http://tinyurl.com/thinkdsp02."
   ]
  },
  {
   "cell_type": "markdown",
   "metadata": {},
   "source": [
    "## 2.1  Triangle waves\n",
    "\n",
    "A sinusoid contains only one frequency component, so its spectrum has only one peak. More complicated waveforms, like the violin recording, yield DFTs with many peaks. In this section we investigate the relationship between waveforms and their spectrums.\n",
    "\n",
    "![](../textbook/fg/thinkdsp006.png)\n",
    "\n",
    "Figure 2.1: Segment of a triangle signal at 200 Hz.\n",
    "\n",
    "- a wiki article about \n",
    "[Triangle wave](https://en.wikipedia.org/wiki/Triangle_wave)\n",
    "\n",
    "![](https://upload.wikimedia.org/wikipedia/commons/4/4f/Triangle-td_and_fd.png)\n",
    "\n",
    "\n",
    "- [hear it](https://upload.wikimedia.org/wikipedia/commons/d/df/220_Hz_anti-aliased_triangle_wave.ogg)\n",
    "\n",
    "----"
   ]
  },
  {
   "cell_type": "markdown",
   "metadata": {},
   "source": [
    "- doing some math about it\n",
    "\n",
    "![](fg/fg_triangle.png)\n",
    "\n",
    "----\n",
    "![](fg/fg_triangle_2.png)"
   ]
  },
  {
   "cell_type": "markdown",
   "metadata": {},
   "source": [
    "I’ll start with a triangle waveform, which is like a straight-line version of a sinusoid. \n",
    "Figure 2.1 shows a triangle waveform with frequency 200 Hz.\n",
    "\n",
    "To generate a triangle wave, you can start with a `thinkdsp.TriangleSignal`:\n",
    "\n",
    "```python\n",
    "class TriangleSignal(Sinusoid):\n",
    "    \n",
    "    def evaluate(self, ts):\n",
    "        cycles = self.freq * ts + self.offset / PI2\n",
    "        frac, _ = np.modf(cycles)\n",
    "        ys = np.abs(frac - 0.5)\n",
    "        ys = normalize(unbias(ys), self.amp)\n",
    "        return ys\n",
    "```\n",
    "\n",
    "TriangleSignal inherits `__init__` from `class Sinusoid`, so it takes the same arguments: freq, amp, and offset.\n",
    "\n",
    "The only difference is `def evaluate`. As we saw before, ts is the sequence of sample times where we want to evaluate the signal.\n",
    "\n",
    "There are many ways to generate a triangle wave. The details are not important, but here’s how evaluate works:\n",
    "\n",
    "- `cycles` is the number of cycles since the start time. \n",
    "- `np.modf` splits the number of cycles into the fraction part, stored in `frac`, and the integer part, which is ignored 1.\n",
    "\n",
    "- `frac` is a sequence that ramps from 0 to 1 with the given frequency. \n",
    "    - Subtracting 0.5 yields values between -0.5 and 0.5. \n",
    "    - Taking the absolute value yields a waveform that `zig-zags` between 0.5 and 0.\n",
    "\n",
    "- `unbias` shifts the waveform down so it is centered at 0; then \n",
    "- `normalize` scales it to the given amplitude, amp.\n",
    "\n",
    "----\n",
    "\n",
    "作者說來簡單，這裡卻大有學問，讓我們逐行來解析，甚至發展自己的版本來模仿及從中學習重要的技術。\n",
    "We will develop a version of triangle signal by ourselves.\n"
   ]
  },
  {
   "cell_type": "code",
   "execution_count": null,
   "metadata": {},
   "outputs": [],
   "source": [
    "import numpy as np\n",
    "import thinkdsp\n",
    "import scipy as sp\n",
    "\n",
    "6%10, 16%10, 26%10, -6%10,-16%10, (-6)%(-10)\n"
   ]
  },
  {
   "cell_type": "code",
   "execution_count": null,
   "metadata": {},
   "outputs": [],
   "source": [
    "0.6%1.0, 1.6%1.0, 2.6%1.0, -.6%1.0,-1.6%1.0"
   ]
  },
  {
   "cell_type": "markdown",
   "metadata": {},
   "source": [
    "-  How do I type the Greek letter in Juputer code cell ?\n",
    "- 希臘字母怎麼打進 Juputer code cell?\n",
    "    - \\pi    【Tab】 \n",
    "    - \\alpha 【Tab】\n",
    "    - \\beta  【Tab】"
   ]
  },
  {
   "cell_type": "code",
   "execution_count": null,
   "metadata": {},
   "outputs": [],
   "source": [
    "π=1\n",
    "α=2\n",
    "β=3\n",
    "π+α*β\n",
    "甲= 10\n",
    "乙= 20\n",
    "年紀= 30\n",
    "甲+乙+年紀"
   ]
  },
  {
   "cell_type": "code",
   "execution_count": null,
   "metadata": {},
   "outputs": [],
   "source": [
    "import math\n",
    "math.pi\n",
    "\n",
    "import numpy\n",
    "numpy.pi\n",
    "\n",
    "π= numpy.pi\n",
    "\n",
    "π\n"
   ]
  },
  {
   "cell_type": "code",
   "execution_count": null,
   "metadata": {},
   "outputs": [],
   "source": [
    "π= np.pi\n",
    "0.6%π, 1.6%π, 2.6%π, 3.6%π, 10.6%π, (10*π+0.1)%π"
   ]
  },
  {
   "cell_type": "markdown",
   "metadata": {},
   "source": [
    "- 確認利用 % (mod) 求餘數，可以用在實數。 "
   ]
  },
  {
   "cell_type": "code",
   "execution_count": null,
   "metadata": {},
   "outputs": [],
   "source": [
    "def ryTri(θ):\n",
    "    \n",
    "    θ= θ % (np.pi * 2) # 這一行讓 θ 周而復始，週期維持在 (2 π)\n",
    "    \n",
    "    x0= θ *(-2/np.pi) +1\n",
    "    x1= θ *(+2/np.pi) -3\n",
    "    \n",
    "    x= x0 * (θ<np.pi) + x1 * (θ>=np.pi) # 這一行稍微有深度！！\n",
    "    \n",
    "    return x\n"
   ]
  },
  {
   "cell_type": "code",
   "execution_count": null,
   "metadata": {},
   "outputs": [],
   "source": [
    "import matplotlib.pyplot as pl\n",
    "\n",
    "θ= np.linspace(0,10*np.pi, 10001)\n",
    "x= ryTri(θ)\n",
    "pl.plot(θ, x)\n",
    "pl.grid('on')\n",
    "pl.xlabel('θ (rad)')\n"
   ]
  },
  {
   "cell_type": "code",
   "execution_count": null,
   "metadata": {},
   "outputs": [],
   "source": [
    "# x= x0 * (θ<np.pi) + x1 * (θ>=np.pi) # 這一行稍微有深度！！\n",
    "\n",
    "θ = np.linspace(0, 2*np.pi, 101)\n",
    "θ"
   ]
  },
  {
   "cell_type": "code",
   "execution_count": null,
   "metadata": {},
   "outputs": [],
   "source": [
    "θ<np.pi"
   ]
  },
  {
   "cell_type": "code",
   "execution_count": null,
   "metadata": {},
   "outputs": [],
   "source": [
    "x0= θ *(-2/np.pi) +1\n",
    "x0"
   ]
  },
  {
   "cell_type": "code",
   "execution_count": null,
   "metadata": {},
   "outputs": [],
   "source": [
    "x0*(θ<np.pi) # 你會看到 (序列的後半段通通是 0)，亦即，僅前半段有效。"
   ]
  },
  {
   "cell_type": "code",
   "execution_count": null,
   "metadata": {},
   "outputs": [],
   "source": [
    "# (後半段，同理可證！！)"
   ]
  },
  {
   "cell_type": "code",
   "execution_count": null,
   "metadata": {},
   "outputs": [],
   "source": [
    "import thinkdsp as td\n",
    "td.TriangleSignal??"
   ]
  },
  {
   "cell_type": "markdown",
   "metadata": {},
   "source": [
    "我們剛才寫了一個類似 cos(θ) 的 triangle function, \n",
    "\n",
    "`tri(θ)` \n",
    "\n",
    "- 振幅= 1, \n",
    "- 週期= 2 π,\n",
    "\n",
    "我們當然也可把它修改成，振幅 A = amp 、 頻率 f = freq、以及 夾帶一個起始相位  ϕ = offset "
   ]
  },
  {
   "cell_type": "code",
   "execution_count": null,
   "metadata": {
    "code_folding": []
   },
   "outputs": [],
   "source": [
    "def ryTri(t, amp=1, freq=440, offset=0 ):\n",
    "    \n",
    "    θ= t * 2 * np.pi * freq + offset # 在此作橫軸之變數變換\n",
    "    \n",
    "    θ= θ % (np.pi * 2) # 這一行讓 θ 周而復始，週期維持在 (2 π)\n",
    "    \n",
    "    x0= θ *(-2/np.pi) +1\n",
    "    x1= θ *(+2/np.pi) -3\n",
    "    \n",
    "    x= x0 * (θ<np.pi) + x1 * (θ>=np.pi) # 這一行稍微有深度！！\n",
    "    \n",
    "    x= x *amp # 最後輸出前，再把縱軸拉到 振幅 = amp\n",
    "    \n",
    "    return x"
   ]
  },
  {
   "cell_type": "markdown",
   "metadata": {},
   "source": [
    "如此就與作者所提供的 class TriangleSignal 有相同的行為。\n",
    "以下測試看看。"
   ]
  },
  {
   "cell_type": "code",
   "execution_count": null,
   "metadata": {},
   "outputs": [],
   "source": [
    "import matplotlib.pyplot as pl\n",
    "\n",
    "t= np.linspace(0, (1/100)*3, 10000) # 畫 3 個週期\n",
    "x= ryTri(t, freq= 100, amp=10, offset=0)\n",
    "pl.plot(t,x)\n",
    "pl.grid()"
   ]
  },
  {
   "cell_type": "code",
   "execution_count": null,
   "metadata": {},
   "outputs": [],
   "source": [
    "x= ryTri(t, freq= 100, amp=10, offset=np.pi/2)\n",
    "pl.plot(t,x)\n",
    "pl.grid()"
   ]
  },
  {
   "cell_type": "code",
   "execution_count": null,
   "metadata": {},
   "outputs": [],
   "source": [
    "import thinkdsp as td\n",
    "\n",
    "y= td.TriangleSignal()\n",
    "y.plot()\n",
    "pl.grid()"
   ]
  },
  {
   "cell_type": "markdown",
   "metadata": {},
   "source": [
    "- 以下，我們回到作者寫法：\n",
    "\n",
    "```python\n",
    "class TriangleSignal(Sinusoid):\n",
    "    \"\"\"Represents a triangle signal.\"\"\"\n",
    "\n",
    "    def evaluate(self, ts):\n",
    "        \"\"\"Evaluates the signal at the given times.\n",
    "\n",
    "        ts: float array of times\n",
    "\n",
    "        returns: float wave array\n",
    "        \"\"\"\n",
    "        ts = np.asarray(ts)\n",
    "        cycles = self.freq * ts + self.offset / PI2\n",
    "        frac, _ = np.modf(cycles) # cycles % 1.0\n",
    "        ys = np.abs(frac - 0.5)\n",
    "        ys = normalize(unbias(ys), self.amp)\n",
    "        return ys\n",
    "```"
   ]
  },
  {
   "cell_type": "markdown",
   "metadata": {},
   "source": [
    "- 1. \n",
    "\n",
    "首先，class TriangleSignal 繼承了 class Sinusoid \n",
    "(我們也記得 class Sinusoid 繼承 class Signal)\n",
    "\n",
    "``` python\n",
    "class Signal:\n",
    "    def period(self):\n",
    "    def plot(self, framerate=11025):\n",
    "    def make_wave(self, duration=1, start=0, framerate=11025):\n",
    "\n",
    "class Sinusoid(Signal):    \n",
    "    def period(self):\n",
    "    def evaluate(self, ts):\n",
    "\n",
    "class TriangleSignal(Sinusoid):\n",
    "    def evaluate(self, ts):\n",
    "```\n",
    "\n",
    "- 2.\n",
    "\n",
    "最上層的 class Signal 並未定義 任何數學函數來計算信號的數值，\n",
    "\n",
    "接下來 的 class Sinusoid \n",
    "利用 def evaluate \n",
    "來定義 數學函數為 np.sin 或 np.cos\n",
    "\n",
    "\n",
    "- 3.\n",
    "\n",
    "接下來的 class TriangleSignal 則是覆寫(overwrite) def evaluate:\n",
    "運用一些數學推導，創造出三角波的形狀的數學函數。\n",
    "\n",
    "- 4. \n",
    "\n",
    "作者使用的數學原理在此解析一下：\n",
    "\n"
   ]
  },
  {
   "cell_type": "markdown",
   "metadata": {},
   "source": [
    "```python\n",
    "ts = np.asarray(ts)\n",
    "cycles = self.freq * ts + self.offset / PI2\n",
    "frac, _ = np.modf(cycles)\n",
    "ys = np.abs(frac - 0.5)\n",
    "ys = normalize(unbias(ys), self.amp)\n",
    "```"
   ]
  },
  {
   "cell_type": "code",
   "execution_count": null,
   "metadata": {},
   "outputs": [],
   "source": [
    "# 查 3 個函數的意義:\n",
    "\n",
    "#np.modf?\n",
    "# equivalent to \"x % 1.0\" (有小數的實數，除以 1.0 的餘數)\n",
    "# modf(+1.6) == +0.6\n",
    "# modf(-1.6) == -0.6   (注意一下，-1.6 % 1.0 == +0.4)\n",
    "\n",
    "#td.unbias?\n",
    "# zero mean it\n",
    "\n",
    "#td.normalize??\n",
    "# scale the ampplitude into -amp, +amp\n",
    "\n",
    "\n"
   ]
  },
  {
   "cell_type": "code",
   "execution_count": null,
   "metadata": {},
   "outputs": [],
   "source": [
    "np.modf(-1.9), (-1.9)%1.0"
   ]
  },
  {
   "cell_type": "code",
   "execution_count": null,
   "metadata": {},
   "outputs": [],
   "source": [
    "# 逐行解析作者的演算法\n",
    "\n",
    "import numpy as np\n",
    "import thinkdsp as td\n",
    "import matplotlib.pyplot as pl\n",
    "\n",
    "ts= np.linspace(0,3,1000) # 設定時間序列為 0 ~ 3 sec (取1000點)\n",
    "\n",
    "offset=0\n",
    "freq=  1\n",
    "amp=   2\n",
    "\n",
    "t=       np.asarray(ts)\n",
    "cycles=  freq * t + offset / (np.pi*2) #PI2\n",
    "\n",
    "#frac, _= np.modf(cycles) # 逐行解析過程，發現此行有問題，在t 落於負值時有誤，需用下行修正之。\n",
    "\n",
    "frac= cycles%1.0 # 除以 1.0，取餘數(=小數)，周而復始，週期性出現。週期 = 1.0 (cycle)\n",
    "\n",
    "y0= frac - .5             # 圖形 下移 .5\n",
    "y1= np.abs(y0)            # 取絕對值，負的部分翻上來\n",
    "y2= td.unbias(y1)         # zero-mean y1\n",
    "y3= td.normalize(y2, amp) # scaling to -amp ~ +amp\n",
    "\n",
    "pl.plot(\n",
    "    t, cycles,'r',\n",
    "    t, frac,  'g',\n",
    "    t, y0,    'b', \n",
    "    t, y1,    'c', \n",
    "    t, y2,    'm',\n",
    "    t, y3,    'y'\n",
    "    )\n",
    "\n",
    "pl.grid()"
   ]
  },
  {
   "cell_type": "markdown",
   "metadata": {},
   "source": [
    "- 解析過作者的 class TriangleSignal， 我們也來把自己寫的 def ryTri 改寫成 class RyTriSignal ...\n"
   ]
  },
  {
   "cell_type": "code",
   "execution_count": null,
   "metadata": {},
   "outputs": [],
   "source": [
    "import numpy as np\n",
    "from thinkdsp import Sinusoid\n",
    "\n",
    "class RyTriSignal(Sinusoid):\n",
    "    \"\"\"ry Represents a triangle signal.\"\"\"\n",
    "    \n",
    "    # 把原來的 class TriangleSignal 中的 def evaluate 改寫掉！！\n",
    "    \n",
    "    '''\n",
    "    def evaluate(self, ts):\n",
    "        \"\"\"Evaluates the signal at the given times.\n",
    "\n",
    "        ts: float array of times\n",
    "\n",
    "        returns: float wave array\n",
    "        \"\"\"\n",
    "        ts = np.asarray(ts)\n",
    "        \n",
    "        cycles = self.freq * ts + self.offset / PI2\n",
    "        frac, _ = np.modf(cycles)\n",
    "        ys = np.abs(frac - 0.5)\n",
    "        ys = normalize(unbias(ys), self.amp)\n",
    "        \n",
    "        return ys\n",
    "    '''\n",
    "    \n",
    "    # 把我們已寫好測試過的 函數 copy 過來，比對一下，做幾個語法上的修正。\n",
    "    \n",
    "    #def ryTri(t, amp=1, freq=440, offset=0 ):\n",
    "    \n",
    "    def evaluate(self, ts):\n",
    "    \n",
    "        θ= ts * 2 * np.pi * self.freq + self.offset # 在此作橫軸之變數變換\n",
    "\n",
    "        θ= θ % (np.pi * 2) # 這一行讓 θ 周而復始，週期維持在 (2 π)\n",
    "\n",
    "        x0= θ *(-2/np.pi) +1\n",
    "        x1= θ *(+2/np.pi) -3\n",
    "\n",
    "        x= x0 * (θ<np.pi) + x1 * (θ>=np.pi) # 這一行稍微有深度！！\n",
    "\n",
    "        x= x * self.amp # 最後輸出前，再把縱軸拉到 振幅 = amp\n",
    "\n",
    "        return x"
   ]
  },
  {
   "cell_type": "code",
   "execution_count": null,
   "metadata": {},
   "outputs": [],
   "source": [
    "x= RyTriSignal()\n",
    "x.plot()"
   ]
  },
  {
   "cell_type": "code",
   "execution_count": null,
   "metadata": {},
   "outputs": [],
   "source": [
    "w= x.make_wave()\n",
    "w.make_audio()"
   ]
  },
  {
   "cell_type": "markdown",
   "metadata": {},
   "source": [
    "- 大功告成！！"
   ]
  },
  {
   "cell_type": "code",
   "execution_count": null,
   "metadata": {},
   "outputs": [],
   "source": [
    "s= w.make_spectrum()\n",
    "s.plot()\n",
    "\n",
    "import matplotlib.pyplot as pl\n",
    "pl.grid()"
   ]
  },
  {
   "cell_type": "code",
   "execution_count": null,
   "metadata": {},
   "outputs": [],
   "source": []
  },
  {
   "cell_type": "markdown",
   "metadata": {},
   "source": [
    "Here’s the code that generates Figure 2.1:"
   ]
  },
  {
   "cell_type": "code",
   "execution_count": null,
   "metadata": {},
   "outputs": [],
   "source": [
    "# 使用 作者 thinkdsp 的 class TriangleSignal\n",
    "import thinkdsp\n",
    "\n",
    "signal = thinkdsp.TriangleSignal(200)\n",
    "signal.plot()"
   ]
  },
  {
   "cell_type": "code",
   "execution_count": null,
   "metadata": {},
   "outputs": [],
   "source": [
    "# 使用自己的 class RyTriSignal\n",
    "\n",
    "rySignal= RyTriSignal(freq= 200)\n",
    "rySignal.plot()\n",
    "pl.grid()"
   ]
  },
  {
   "cell_type": "markdown",
   "metadata": {},
   "source": [
    "- 接下來再回到 教科書 提到的 三角信號的 頻譜....\n"
   ]
  },
  {
   "cell_type": "markdown",
   "metadata": {},
   "source": [
    "![](../textbook/fg/thinkdsp007.png)\n",
    "\n",
    "Figure 2.2: \n",
    "Spectrum of a triangle signal at 200 Hz, shown on two vertical scales. \n",
    "The version on the right cuts off the fundamental to show the harmonics more clearly."
   ]
  },
  {
   "cell_type": "markdown",
   "metadata": {},
   "source": [
    "- Next we can use the 【Signal】 to make a 【Wave】, and use the Wave to make a 【Spectrum】:\n",
    "\n",
    "\n",
    "    - 【Signal】 --->【Wave】---> 【Spectrum】"
   ]
  },
  {
   "cell_type": "code",
   "execution_count": null,
   "metadata": {},
   "outputs": [],
   "source": [
    "# 自己做做看，並可試著修正 參數 duration=  , framerate= \n",
    "\n",
    "wave = signal.make_wave(duration=0.5, framerate=10000)\n",
    "spectrum = wave.make_spectrum()\n",
    "spectrum.plot()\n",
    "\n",
    "pl.grid()"
   ]
  },
  {
   "cell_type": "code",
   "execution_count": null,
   "metadata": {},
   "outputs": [],
   "source": [
    "# 看仔細一點..."
   ]
  },
  {
   "cell_type": "code",
   "execution_count": null,
   "metadata": {},
   "outputs": [],
   "source": [
    "spectrum.plot(high=1500);pl.grid()"
   ]
  },
  {
   "cell_type": "markdown",
   "metadata": {},
   "source": [
    "- 圖 2.2 的 一些觀察與解釋\n",
    "\n",
    "- Figure 2.2 shows two views of the result; the view on the right is scaled to show the harmonics more clearly. \n",
    "    - As expected, the highest peak is at the fundamental frequency, 200 Hz, and there are additional peaks at harmonic frequencies, which are integer multiples of 200.\n",
    "\n",
    "- But one `surprise` is that there are `no peaks at the even multiples`: 400, 800, etc. \n",
    "    - The harmonics of a triangle wave are `all odd multiples` of the fundamental frequency, in this example 600, 1000, 1400, etc.\n",
    "\n",
    "- Another feature of this spectrum is the relationship between the amplitude and frequency of the harmonics. Their amplitude `drops off` in proportion to `frequency squared`. \n",
    "    - For example the frequency ratio of the first two harmonics (200 and 600 Hz) is 3, and the amplitude ratio is approximately 9. The frequency ratio of the next two harmonics (600 and 1000 Hz) is 1.7, and the amplitude ratio is approximately 1.72 = 2.9. This relationship is called the harmonic structure.\n",
    "    \n",
    "- 目前我們僅靠 數值計算、作圖、觀察，得到上述結論。在學到 DFT 時，會用理論來演繹。"
   ]
  },
  {
   "cell_type": "markdown",
   "metadata": {},
   "source": [
    "## 2.2  Square waves\n",
    "\n",
    "\n",
    "![](../textbook/fg/thinkdsp008.png)\n",
    "\n",
    "Figure 2.3: Segment of a square signal at 100 Hz.\n",
    "\n",
    "[Square wave @Wikipedia](https://en.wikipedia.org/wiki/Square_wave)\n",
    "\n",
    "[hear it @1KHz](https://upload.wikimedia.org/wikipedia/commons/9/92/Square_wave_1000.ogg)"
   ]
  },
  {
   "cell_type": "markdown",
   "metadata": {},
   "source": [
    "- `thinkdsp` also provides `SquareSignal`, which represents a square signal. \n",
    "Here’s the class definition:\n",
    "\n",
    "```python\n",
    "class SquareSignal(Sinusoid):\n",
    "    \n",
    "    def evaluate(self, ts):\n",
    "        cycles = self.freq * ts + self.offset / PI2\n",
    "        frac, _ = np.modf(cycles)\n",
    "        ys = self.amp * np.sign(unbias(frac))\n",
    "        return ys\n",
    "```\n",
    "\n",
    "Like `class TriangleSignal`, `class SquareSignal` inherits `def __init__` from `class Sinusoid`, so it takes the same parameters.\n",
    "\n",
    "And the `def evaluate` method is similar. \n",
    "Again, `cycles` is the number of cycles since the start time, \n",
    "and `frac` is the fractional part, which ramps from 0 to 1 each period.\n",
    "\n",
    "`unbias` shifts frac so it ramps from -0.5 to 0.5, \n",
    "then `np.sign` maps the negative values to -1 and the positive values to 1. \n",
    "Multiplying by `amp` yields a square wave that jumps between -amp and amp.\n",
    "\n",
    "![](fg/fg_square01.png)"
   ]
  },
  {
   "cell_type": "code",
   "execution_count": null,
   "metadata": {},
   "outputs": [],
   "source": []
  },
  {
   "cell_type": "markdown",
   "metadata": {},
   "source": [
    "- Let's write our own square signal class as follows...."
   ]
  },
  {
   "cell_type": "code",
   "execution_count": null,
   "metadata": {},
   "outputs": [],
   "source": [
    "from thinkdsp import Sinusoid\n",
    "import numpy as np\n",
    "\n",
    "\n",
    "class RySqrSignal(Sinusoid):\n",
    "    \"\"\"ry Represents a square signal.\"\"\"\n",
    "        \n",
    "    def evaluate(self, ts):\n",
    "    \n",
    "        θ= ts * 2 * np.pi * self.freq + self.offset # 在此作橫軸之變數變換\n",
    "\n",
    "        θ= θ % (np.pi * 2) # 這一行讓 θ 周而復始，週期維持在 (2 π)\n",
    "\n",
    "        x0= -1 #上半周 #θ *(-2/np.pi) +1\n",
    "        x1= +1 #下半周 #θ *(+2/np.pi) -3\n",
    "\n",
    "        x= x0 * (θ<np.pi) + x1 * (θ>=np.pi) # 這一行稍微有深度！！\n",
    "\n",
    "        x= x * self.amp # 最後輸出前，再把縱軸拉到 振幅 = amp\n",
    "\n",
    "        return x"
   ]
  },
  {
   "cell_type": "code",
   "execution_count": null,
   "metadata": {},
   "outputs": [],
   "source": [
    "x= RySqrSignal(freq=100)\n",
    "x.plot()"
   ]
  },
  {
   "cell_type": "code",
   "execution_count": null,
   "metadata": {},
   "outputs": [],
   "source": [
    "w= x.make_wave()\n",
    "w.make_audio()\n"
   ]
  },
  {
   "cell_type": "code",
   "execution_count": null,
   "metadata": {},
   "outputs": [],
   "source": [
    "spec= w.make_spectrum()\n",
    "spec.plot()"
   ]
  },
  {
   "cell_type": "code",
   "execution_count": null,
   "metadata": {},
   "outputs": [],
   "source": []
  },
  {
   "cell_type": "markdown",
   "metadata": {},
   "source": [
    "![](../textbook/fg/thinkdsp009.png)\n",
    "\n",
    "Figure 2.4: Spectrum of a square signal at 100 Hz.\n",
    "\n",
    "- Figure 2.3 shows three periods of a square wave with frequency 100 Hz\n",
    "- Figure 2.4 shows its spectrum.\n",
    "\n",
    "Like a triangle wave, the square wave contains `only odd harmonics`, \n",
    "which is why there are peaks at 300, 500, and 700 Hz, etc. \n",
    "But the amplitude of the harmonics `drops off more slowly`. \n",
    "\n",
    "Specifically, amplitude drops in proportion to frequency (not frequency squared).\n",
    "\n",
    "The exercises at the end of this chapter give you a chance \n",
    "to explore other waveforms and other harmonic structures."
   ]
  },
  {
   "cell_type": "code",
   "execution_count": null,
   "metadata": {},
   "outputs": [],
   "source": [
    "spec.plot(high=1000)\n",
    "\n",
    "# to see the x axis in more detail, use, pl.xticks()\n",
    "pl.xticks(np.arange(0,1000,100))\n",
    "pl.grid()\n",
    "\n",
    "# you will see spectrum peaks \n",
    "# at the frequency= 100, 300,500,700,900 Hz, \n",
    "# all odd multiples"
   ]
  },
  {
   "cell_type": "code",
   "execution_count": null,
   "metadata": {},
   "outputs": [],
   "source": []
  },
  {
   "cell_type": "code",
   "execution_count": null,
   "metadata": {},
   "outputs": [],
   "source": [
    "# 比較一下，三角波形方波形的頻譜。(在相同的基本頻率  freq=100 之下)\n",
    "import thinkdsp as td\n",
    "import matplotlib.pyplot as pl\n",
    "\n",
    "\n",
    "xTri= td.TriangleSignal(freq=100)\n",
    "xSqr= td.SquareSignal(freq=100)"
   ]
  },
  {
   "cell_type": "code",
   "execution_count": null,
   "metadata": {},
   "outputs": [],
   "source": [
    "xTri.plot()\n",
    "pl.grid()"
   ]
  },
  {
   "cell_type": "code",
   "execution_count": null,
   "metadata": {},
   "outputs": [],
   "source": [
    "xSqr.plot()\n",
    "pl.grid()"
   ]
  },
  {
   "cell_type": "code",
   "execution_count": null,
   "metadata": {},
   "outputs": [],
   "source": [
    "# The spectrum of TriangleSignal\n",
    "\n",
    "xTri.make_wave().make_spectrum().plot(high=1000)\n",
    "pl.grid()"
   ]
  },
  {
   "cell_type": "code",
   "execution_count": null,
   "metadata": {},
   "outputs": [],
   "source": [
    "# The spectrum of SquareSignal\n",
    "\n",
    "xSqr.make_wave().make_spectrum().plot(high=1000)\n",
    "pl.grid()"
   ]
  },
  {
   "cell_type": "code",
   "execution_count": null,
   "metadata": {},
   "outputs": [],
   "source": []
  },
  {
   "cell_type": "markdown",
   "metadata": {},
   "source": [
    "## 2.3  [Aliasing](https://en.wikipedia.org/wiki/Aliasing)\n",
    "\n",
    "\n",
    "\n",
    "In signal processing and related disciplines, `aliasing` is an effect that causes different signals to become `indistinguishable` (or aliases of one another) when sampled. \n",
    "\n",
    "It also often refers to the distortion or artifact that results when a signal reconstructed from samples is different from the original continuous signal.\n",
    "\n",
    "----\n",
    "[@GoogleTranslate](https://translate.google.com/?source=gtx_m#view=home&op=translate&sl=en&tl=ja&text=alias)\n",
    "\n",
    "- a false or assumed identity.\n",
    "- used to indicate that a named person is also known or more familiar under another specified name.\n",
    "- misidentify (a signal frequency), introducing distortion or error.\n",
    "\n",
    "- 別名 alias, pseudonym, pen name, nom de plume\n",
    "- 通称 alias, popular name, nickname\n",
    "- 別称 alias, pseudonym, pen name\n",
    "- 仮名 pseudonym, Kana, alias, Japanese syllabary, pen name, nom de plume"
   ]
  },
  {
   "cell_type": "code",
   "execution_count": null,
   "metadata": {},
   "outputs": [],
   "source": [
    "import numpy as np\n",
    "import matplotlib.pyplot as pl\n",
    "\n",
    "π= np.pi\n",
    "\n",
    "ω1= π * 1/4\n",
    "ω2= π * 9/4  # ω2= ω1 + π*2\n",
    "\n",
    "t= np.linspace(0,10, 10001)\n",
    "x1= np.cos(ω1 * t)\n",
    "x2= np.cos(ω2 * t)\n",
    "\n",
    "pl.plot(t,x1,'r',t,x2,'b')\n",
    "pl.grid()\n"
   ]
  },
  {
   "cell_type": "code",
   "execution_count": null,
   "metadata": {},
   "outputs": [],
   "source": [
    "n= np.arange(0,11)\n",
    "\n",
    "x1= np.cos(ω1 * n)\n",
    "x2= np.cos(ω2 * n)\n",
    "\n",
    "pl.figure()\n",
    "pl.stem(n,x1,'r',use_line_collection=True)\n",
    "pl.grid()\n",
    "\n",
    "pl.figure()\n",
    "pl.stem(n,x2,'b',use_line_collection=True)\n",
    "pl.grid()"
   ]
  },
  {
   "cell_type": "markdown",
   "metadata": {},
   "source": [
    "- we can see that \n",
    "    - $\\omega_1 \\ne \\omega_2$\n",
    "    - $cos(\\omega_1 t) \\ne cos(\\omega_2 t), \\text{for all } t \\in RealNumber $\n",
    "- but, \n",
    "    - if $\\omega_2 = \\omega_1 + 2 \\pi$\n",
    "    - $cos(\\omega_1 n) = cos(\\omega_2 n), \\text{for all } n \\in IntegerNumber $\n",
    "\n",
    "\n",
    "- That is to say... \n",
    "- we `cannot discriminate` $\\omega_1$ and $\\omega_2$, although they are different,\n",
    "- by observing $cos(\\omega_1 n)$ and $cos(\\omega_2 n)$"
   ]
  },
  {
   "cell_type": "code",
   "execution_count": null,
   "metadata": {},
   "outputs": [],
   "source": [
    "t= np.linspace(0, 10, 1001)\n",
    "\n",
    "x1t= np.cos(ω1 * t)\n",
    "\n",
    "x2t= np.cos(ω2 * t)\n",
    "\n",
    "n= np.arange(0, 11)\n",
    "\n",
    "x1n= np.cos(ω1 * n)\n",
    "\n",
    "pl.figure()\n",
    "\n",
    "pl.plot(t,x1t,'red', t, x2t,'lightblue')\n",
    "\n",
    "pl.stem(n,x1n,'green',use_line_collection=True)\n",
    "pl.grid()\n"
   ]
  },
  {
   "cell_type": "markdown",
   "metadata": {},
   "source": [
    "- In addtion to the above $ω_1$, $ω_2$, \n",
    "- there is another frequency $ω_3$,\n",
    "- which has the same sampled value at integer $n$\n"
   ]
  },
  {
   "cell_type": "code",
   "execution_count": null,
   "metadata": {},
   "outputs": [],
   "source": [
    "t= np.linspace(0, 10, 1001)\n",
    "n= np.arange(0, 11)\n",
    "\n",
    "x1t= np.cos(ω1 * t)\n",
    "x2t= np.cos(ω2 * t)\n",
    "x1n= np.cos(ω1 * n)\n",
    "\n",
    "pl.figure()\n",
    "pl.plot(t,x1t,'red', t, x2t,'lightblue')\n",
    "pl.stem(n,x1n,'green',use_line_collection=True)\n",
    "\n",
    "# In addtion to the above ω1, ω2, \n",
    "# there is another frequency ω3,\n",
    "# which has the same sampled value at integer n\n",
    "\n",
    "ω3 = π * 7/4  # ω3 = - ω1 + 2 π\n",
    "\n",
    "x3t= np.cos(ω3 * t)\n",
    "pl.plot(t,x3t,'orange')\n",
    "\n",
    "pl.grid()"
   ]
  },
  {
   "cell_type": "markdown",
   "metadata": {},
   "source": [
    "- To sum up, for `discrete-time` `sinusoidal` signal, the frequencies will be called aliases to each other, as long as they have the following relationship:\n",
    "    - \n",
    "$\n",
    "    \\omega_k = \\omega_0 + k*2\\pi \n",
    "$\n",
    "\n",
    "- for `cosine` signal,  the following are also aliasing frequencies\n",
    "    - \n",
    "    $\\omega_m = (-\\omega_0) + m*2\\pi $\n",
    "\n",
    "- for `sine` signal,  the following are also aliasing frequencies\n",
    "    - \n",
    "    $\\omega_n = (\\pi-\\omega_0) + n*2\\pi $"
   ]
  },
  {
   "cell_type": "code",
   "execution_count": null,
   "metadata": {},
   "outputs": [],
   "source": []
  },
  {
   "cell_type": "code",
   "execution_count": null,
   "metadata": {},
   "outputs": [],
   "source": []
  },
  {
   "cell_type": "markdown",
   "metadata": {},
   "source": [
    "- To avoid the  aliasing effect, we can increase the `Sampling Rate`.\n",
    "- Theoratically, the Sampling Rate should be at least 2 times the signal frequency.\n",
    "- Do an experiment in the following ....\n"
   ]
  },
  {
   "cell_type": "code",
   "execution_count": null,
   "metadata": {},
   "outputs": [],
   "source": [
    "ω1= π * 1/4 \n",
    "ω2= π * 9/4  # ω2= ω1 + π*2\n",
    "\n",
    "f1= ω1/(2*π)\n",
    "f2= ω2/(2*π)\n",
    "\n",
    "f1, f2"
   ]
  },
  {
   "cell_type": "code",
   "execution_count": null,
   "metadata": {},
   "outputs": [],
   "source": [
    "T= 10\n",
    "\n",
    "t= np.linspace(0, T, 1001)\n",
    "\n",
    "\n",
    "x1t= np.cos(ω1 * t)\n",
    "x2t= np.cos(ω2 * t)\n",
    "\n",
    "Fs= 1 #  changing Fs to be 2,5,10\n",
    "Ts= 1/Fs\n",
    "\n",
    "n= np.arange(0, T*Fs+1)\n",
    "x1n= np.cos(ω1 * n * Ts)\n",
    "x2n= np.cos(ω2 * n * Ts) \n",
    "\n",
    "pl.figure()\n",
    "pl.plot(t, x1t, 'red', \n",
    "        t, x2t,'lightblue')\n",
    "\n",
    "pl.stem(n*Ts, x1n, \n",
    "        linefmt='g', markerfmt='go', use_line_collection=True)\n",
    "pl.stem(n*Ts, x2n, \n",
    "        linefmt='b', markerfmt='bx', use_line_collection=True)\n",
    "\n",
    "pl.grid()\n"
   ]
  },
  {
   "cell_type": "code",
   "execution_count": null,
   "metadata": {},
   "outputs": [],
   "source": []
  },
  {
   "cell_type": "code",
   "execution_count": null,
   "metadata": {},
   "outputs": [],
   "source": []
  },
  {
   "cell_type": "code",
   "execution_count": null,
   "metadata": {},
   "outputs": [],
   "source": [
    "# for sine signal, with 3 different frequencies\n",
    "# ω1, ω2, ω3\n",
    "\n",
    "t= np.linspace(0, 10, 1001)\n",
    "n= np.arange(0, 11)\n",
    "\n",
    "x1t= np.sin(ω1 * t)\n",
    "x2t= np.sin(ω2 * t)\n",
    "x1n= np.sin(ω1 * n)\n",
    "\n",
    "pl.figure()\n",
    "pl.plot(t,x1t,'red', t, x2t,'lightblue')\n",
    "pl.stem(n,x1n,'green',use_line_collection=True)\n",
    "\n",
    "# In addtion to the above ω1, ω2, \n",
    "# there is another frequency ω3,\n",
    "# which has the same sampled value at integer n\n",
    "\n",
    "ω3 = π * 7/4  # ω3 = - ω1 + 2 π\n",
    "\n",
    "x3t= np.sin(ω3 * t + π) #= sin(ω3(t+Δt)), with a time shift (Δt = π/ω3 = 4/7)\n",
    "pl.plot(t,x3t,'orange')\n",
    "\n",
    "pl.grid()"
   ]
  },
  {
   "cell_type": "markdown",
   "metadata": {},
   "source": [
    "![](fg/fg_aliasing_2.png)"
   ]
  },
  {
   "cell_type": "code",
   "execution_count": null,
   "metadata": {},
   "outputs": [],
   "source": []
  },
  {
   "cell_type": "markdown",
   "metadata": {},
   "source": [
    "![](fg/fg_aliasing_3.png)"
   ]
  },
  {
   "cell_type": "markdown",
   "metadata": {},
   "source": [
    "- What is the relationships between 【original frequency】, 【Sampling Rate】, and the 【reconstructed frequency】?\n",
    "\n",
    "![](fg/fg_aliasing_4.png)"
   ]
  },
  {
   "cell_type": "code",
   "execution_count": null,
   "metadata": {},
   "outputs": [],
   "source": [
    "import thinkdsp as td\n",
    "import matplotlib.pyplot as pl\n",
    "\n",
    "f1=      500\n",
    "Fs=    20000\n",
    "s= td.CosSignal(freq= f1)\n",
    "s.plot();pl.grid()"
   ]
  },
  {
   "cell_type": "code",
   "execution_count": null,
   "metadata": {},
   "outputs": [],
   "source": [
    "w= s.make_wave(framerate=Fs)\n",
    "w.make_spectrum().plot();pl.grid()\n",
    "\n",
    "w.make_audio()"
   ]
  },
  {
   "cell_type": "code",
   "execution_count": null,
   "metadata": {},
   "outputs": [],
   "source": [
    "import thinkdsp as td\n",
    "f2=    20500\n",
    "Fs=    20000\n",
    "s= td.CosSignal(freq= f2)\n",
    "#s.plot();pl.grid()\n",
    "\n",
    "w= s.make_wave(framerate=Fs)\n",
    "w.make_spectrum().plot();pl.grid()\n",
    "w.make_audio()"
   ]
  },
  {
   "cell_type": "code",
   "execution_count": null,
   "metadata": {},
   "outputs": [],
   "source": [
    "import thinkdsp as td\n",
    "f3=    19500\n",
    "Fs=    20000\n",
    "s= td.CosSignal(freq= f3)\n",
    "#s.plot();pl.grid()\n",
    "\n",
    "w= s.make_wave(framerate=Fs)\n",
    "w.make_spectrum().plot();pl.grid()\n",
    "w.make_audio()"
   ]
  },
  {
   "cell_type": "code",
   "execution_count": null,
   "metadata": {},
   "outputs": [],
   "source": [
    "import thinkdsp as td\n",
    "f3=    19000\n",
    "Fs=    20000\n",
    "s= td.CosSignal(freq= f3)\n",
    "#s.plot();pl.grid()\n",
    "\n",
    "w= s.make_wave(framerate=Fs)\n",
    "w.make_spectrum().plot();pl.grid()\n",
    "w.make_audio()"
   ]
  },
  {
   "cell_type": "code",
   "execution_count": null,
   "metadata": {},
   "outputs": [],
   "source": []
  },
  {
   "cell_type": "code",
   "execution_count": null,
   "metadata": {},
   "outputs": [],
   "source": []
  },
  {
   "cell_type": "markdown",
   "metadata": {},
   "source": [
    "![](../textbook/fg/thinkdsp010.png)\n",
    "\n",
    "Figure 2.5: \n",
    "\n",
    "Spectrum of a triangle signal at 1100 Hz sampled at 10,000 frames per second. \n",
    "The view on the right is scaled to show the harmonics.\n",
    "\n",
    "----"
   ]
  },
  {
   "cell_type": "markdown",
   "metadata": {},
   "source": [
    "I have a confession. I chose the examples in the previous section carefully to avoid showing you something confusing. But now it’s time to get confused.\n",
    "\n",
    "Figure 2.5 shows the spectrum of a triangle wave at 1100 Hz, sampled at 10,000 frames per second. Again, the view on the right is scaled to show the harmonics.\n",
    "\n",
    "The harmonics of this wave should be at 3300, 5500, 7700, and 9900 Hz. In the figure, there are peaks at 1100 and 3300 Hz, as expected, but the third peak is at 4500, not 5500 Hz. The fourth peak is at 2300, not 7700 Hz. And if you look closely, the peak that should be at 9900 is actually at 100 Hz. \n",
    "\n",
    "\n",
    "- `What’s going on?`"
   ]
  },
  {
   "cell_type": "code",
   "execution_count": null,
   "metadata": {},
   "outputs": [],
   "source": [
    "# Let's do an experiment by ourselves\n",
    "import thinkdsp as td\n",
    "\n",
    "x= td.TriangleSignal(freq= 1100)\n",
    "w= x.make_wave(framerate= 10000)\n",
    "s= w.make_spectrum()\n",
    "s.plot()\n",
    "\n",
    "pl.grid()\n"
   ]
  },
  {
   "cell_type": "code",
   "execution_count": null,
   "metadata": {},
   "outputs": [],
   "source": [
    "# To look into the detail, \n",
    "# I use some pyplot utility before plot the spectrum\n",
    "\n",
    "\n",
    "pl.figure(figsize=(15,5))\n",
    "pl.xticks(np.arange(0,5000,200))\n",
    "pl.grid()\n",
    "\n",
    "s.plot()\n",
    "\n",
    "\n",
    "\n",
    "\n"
   ]
  },
  {
   "cell_type": "markdown",
   "metadata": {},
   "source": [
    "![](fg/fg_aliasing.png)"
   ]
  },
  {
   "cell_type": "code",
   "execution_count": null,
   "metadata": {},
   "outputs": [],
   "source": []
  },
  {
   "cell_type": "code",
   "execution_count": null,
   "metadata": {},
   "outputs": [],
   "source": []
  },
  {
   "cell_type": "markdown",
   "metadata": {},
   "source": [
    "The problem is that when you evaluate the signal at discrete points in time, you lose information about what happened between samples. For low frequency components (e.g., freq= 100Hz), \n",
    "that’s not a problem, because you have `lots of samples per period`.\n",
    "\n",
    "But if you sample a signal at `5000` Hz (freq= 5000, very HIGH) with `10,000` frames per second, \n",
    "you only have `two samples per period`. \n",
    "That turns out to be enough, just barely, \n",
    "but if the frequency is higher, it’s not."
   ]
  },
  {
   "cell_type": "markdown",
   "metadata": {},
   "source": [
    "To see why, let’s generate cosine signals at 4500 and 5500 Hz, and sample them at 10,000 frames per second:\n",
    "\n",
    "```python\n",
    "framerate = 10000\n",
    "\n",
    "signal = thinkdsp.CosSignal(4500)\n",
    "duration = signal.period*5\n",
    "segment = signal.make_wave(duration, framerate=framerate)\n",
    "segment.plot()\n",
    "\n",
    "signal = thinkdsp.CosSignal(5500)\n",
    "segment = signal.make_wave(duration, framerate=framerate)\n",
    "segment.plot()\n",
    "```\n",
    "\n"
   ]
  },
  {
   "cell_type": "code",
   "execution_count": null,
   "metadata": {},
   "outputs": [],
   "source": [
    "import thinkdsp\n",
    "\n",
    "sig4500 = thinkdsp.CosSignal(4500)\n",
    "\n",
    "sig4500.plot(framerate=1000000) \n",
    "# to approximate the signal in continuous signal, \n",
    "# let framerate be very large\n",
    "# here, we can set it be 1,000,000 per sec\n",
    "\n",
    "pl.grid()"
   ]
  },
  {
   "cell_type": "code",
   "execution_count": null,
   "metadata": {},
   "outputs": [],
   "source": [
    "framerate= 10000\n",
    "duration = sig4500.period*3\n",
    "\n",
    "seg4500=   sig4500.make_wave(duration, framerate=framerate)\n",
    "seg4500.plot(marker= 'o', linestyle='--', color='r')\n",
    "pl.grid()"
   ]
  },
  {
   "cell_type": "code",
   "execution_count": null,
   "metadata": {},
   "outputs": [],
   "source": [
    "# overlap the above 2 plots at a figure...\n",
    "\n",
    "sig4500.plot(framerate=1000000)\n",
    "seg4500.plot(marker= 'o', linestyle='--', color='r')\n",
    "pl.grid()"
   ]
  },
  {
   "cell_type": "code",
   "execution_count": null,
   "metadata": {},
   "outputs": [],
   "source": [
    "# do the same things for another frequency (5500 Hz)\n",
    "sig5500 = thinkdsp.CosSignal(5500)\n",
    "sig5500.plot(framerate=1000000)\n",
    "pl.grid()\n"
   ]
  },
  {
   "cell_type": "code",
   "execution_count": null,
   "metadata": {},
   "outputs": [],
   "source": [
    "framerate= 10000\n",
    "duration = sig5500.period*3\n",
    "\n",
    "seg5500= sig5500.make_wave(duration, framerate=framerate)\n",
    "seg5500.plot(marker= 'x', linestyle=':', color='g')\n",
    "pl.grid()\n"
   ]
  },
  {
   "cell_type": "code",
   "execution_count": null,
   "metadata": {},
   "outputs": [],
   "source": [
    "# overlap the above 2 plots at a figure...\n",
    "\n",
    "sig5500.plot(framerate=1000000)\n",
    "seg5500.plot(marker= 'x', linestyle=':', color='g')\n",
    "pl.grid()"
   ]
  },
  {
   "cell_type": "code",
   "execution_count": null,
   "metadata": {},
   "outputs": [],
   "source": []
  },
  {
   "cell_type": "code",
   "execution_count": null,
   "metadata": {},
   "outputs": [],
   "source": [
    "# plot them all in a figure and look into them in detail...\n",
    "\n",
    "pl.figure(figsize=(10,5))\n",
    "\n",
    "sig4500.plot(framerate=1000000)\n",
    "sig5500.plot(framerate=1000000)\n",
    "\n",
    "seg4500.plot(marker= 'o', linestyle='--', color='r')\n",
    "seg5500.plot(marker= 'x', linestyle=':', color='g')\n",
    "\n",
    "pl.grid()\n"
   ]
  },
  {
   "cell_type": "markdown",
   "metadata": {},
   "source": [
    "- Ry does some interpretation about the above plot.....\n",
    "\n",
    "- a short description: \n",
    "    - taking samples at sampling rate = `10000 samples/sec` (the red or green lines)\n",
    "    - cannot discriminate between `sig4500` (dark blue) and `sig5500` (light blue)."
   ]
  },
  {
   "cell_type": "markdown",
   "metadata": {},
   "source": [
    "- The following is what the author (Allen) explained...\n",
    "\n",
    "![](../textbook/fg/thinkdsp011.png)\n",
    "\n",
    "Figure 2.6: \n",
    "- Cosine signals at 4500 and 5500 Hz, sampled at 10,000 frames per second. \n",
    "- The `signals are different`, but the `samples are identical`.\n"
   ]
  },
  {
   "cell_type": "markdown",
   "metadata": {},
   "source": [
    "Figure 2.6 shows the result. \n",
    "\n",
    "\n",
    "Allen plotted the Signals with thin gray lines and the samples using vertical lines, to make it easier to compare the two Waves. The problem should be clear: even though the Signals are different, the Waves are identical!\n",
    "\n",
    "When we sample a 5500 Hz signal at 10,000 frames per second, the result is indistinguishable from a 4500 Hz signal. For the same reason, a 7700 Hz signal is indistinguishable from 2300 Hz, and a 9900 Hz is indistinguishable from 100 Hz.\n",
    "\n",
    "This effect is called `aliasing` \n",
    "\n",
    "that means when the high frequency signal is sampled, \n",
    "it appears to be a low frequency signal.\n",
    "\n",
    "In this example, the `highest frequency we can measure` is 5000 Hz, which is `half the sampling rate`. \n",
    "\n",
    "Frequencies above 5000 Hz are folded back below 5000 Hz, \n",
    "which is why this threshold is sometimes called the “folding frequency”. \n",
    "\n",
    "It is sometimes also called the `Nyquist frequency`. See http://en.wikipedia.org/wiki/Nyquist_frequency.\n",
    "\n",
    "The folding pattern continues if the aliased frequency goes below zero. \n",
    "\n",
    "For example, the 5th harmonic of the 1100 Hz triangle wave is at 12,100 Hz. \n",
    "Folded at 5000 Hz, it would appear at -2100 Hz, but it gets folded again at 0 Hz, back to 2100 Hz. \n",
    "In fact, you can see a small peak at 2100 Hz in Figure 2.4, and the next one at 4300 Hz."
   ]
  },
  {
   "cell_type": "markdown",
   "metadata": {},
   "source": [
    "----\n",
    "\n",
    "[Aliasing @Wiki](https://en.wikipedia.org/wiki/Aliasing)\n",
    "\n",
    "- Two different sinusoids that fit the same set of samples.\n",
    "![](https://upload.wikimedia.org/wikipedia/commons/thumb/2/28/AliasingSines.svg/300px-AliasingSines.svg.png)"
   ]
  },
  {
   "cell_type": "markdown",
   "metadata": {},
   "source": [
    "## 2.4  Computing the spectrum\n",
    "\n",
    "We have seen the `class Wave` has a method `def make_spectrum` several times. \n",
    "Here is the implementation (leaving out some details we’ll get to later):\n",
    "\n",
    "```python\n",
    "from np.fft import rfft, rfftfreq\n",
    "\n",
    "class Wave:\n",
    "    \n",
    "    def make_spectrum(self):\n",
    "        n = len(self.ys)\n",
    "        d = 1 / self.framerate\n",
    "\n",
    "        hs = rfft(self.ys)\n",
    "        fs = rfftfreq(n, d)\n",
    "\n",
    "        return Spectrum(hs, fs, self.framerate)\n",
    "```"
   ]
  },
  {
   "cell_type": "code",
   "execution_count": 6,
   "metadata": {},
   "outputs": [
    {
     "data": {
      "text/html": [
       "\n",
       "                <audio  controls=\"controls\" >\n",
       "                    <source src=\"data:audio/wav;base64,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\" type=\"audio/wav\" />\n",
       "                    Your browser does not support the audio element.\n",
       "                </audio>\n",
       "              "
      ],
      "text/plain": [
       "<IPython.lib.display.Audio object>"
      ]
     },
     "execution_count": 6,
     "metadata": {},
     "output_type": "execute_result"
    },
    {
     "data": {
      "image/png": "[encoded data removed]",
      "text/plain": [
       "<Figure size 432x288 with 1 Axes>"
      ]
     },
     "metadata": {
      "needs_background": "light"
     },
     "output_type": "display_data"
    }
   ],
   "source": [
    "import thinkdsp as td\n",
    "\n",
    "s= td.CosSignal()\n",
    "w= s.make_wave()\n",
    "w.plot()\n",
    "w.make_audio()"
   ]
  },
  {
   "cell_type": "code",
   "execution_count": 7,
   "metadata": {},
   "outputs": [
    {
     "data": {
      "image/png": "[encoded data removed]",
      "text/plain": [
       "<Figure size 432x288 with 1 Axes>"
      ]
     },
     "metadata": {
      "needs_background": "light"
     },
     "output_type": "display_data"
    }
   ],
   "source": [
    "s= w.make_spectrum()\n",
    "s.plot()"
   ]
  },
  {
   "cell_type": "code",
   "execution_count": 8,
   "metadata": {},
   "outputs": [
    {
     "data": {
      "text/plain": [
       "(11025,\n",
       " 1.0000907111756168,\n",
       " array([0.000e+00, 1.000e+00, 2.000e+00, ..., 5.510e+03, 5.511e+03,\n",
       "        5.512e+03]),\n",
       " array([ 1.98711382e-12+0.00000000e+00j,  2.02534046e-12+6.78371706e-13j,\n",
       "         1.13857438e-12+1.84231883e-12j, ...,\n",
       "        -8.89808761e-13-1.50598915e-12j,  8.05310161e-13+8.59827898e-13j,\n",
       "         1.67138808e-12-2.68747132e-12j]),\n",
       " array([ 1.98711382e-12,  2.02534046e-12,  1.13857438e-12, ...,\n",
       "        -8.89808761e-13,  8.05310161e-13,  1.67138808e-12]),\n",
       " array([ 0.00000000e+00,  6.78371706e-13,  1.84231883e-12, ...,\n",
       "        -1.50598915e-12,  8.59827898e-13, -2.68747132e-12]),\n",
       " array([1.98711382e-12, 2.13592887e-12, 2.16575397e-12, ...,\n",
       "        1.74921782e-12, 1.17806132e-12, 3.16481282e-12]),\n",
       " array([ 0.        ,  0.32319771,  1.01723818, ..., -2.10445829,\n",
       "         0.81812714, -1.014416  ]))"
      ]
     },
     "execution_count": 8,
     "metadata": {},
     "output_type": "execute_result"
    }
   ],
   "source": [
    "# dir(s)\n",
    "'''\n",
    " 'framerate', 'freq_res',\n",
    " 'fs',        'hs',\n",
    " 'imag',      'real',\n",
    " 'amps',      'angles'\n",
    "'''\n",
    "s.framerate, s.freq_res,\\\n",
    "s.fs,        s.hs,      \\\n",
    "s.real,      s.imag,    \\\n",
    "s.amps,      s.angles"
   ]
  },
  {
   "cell_type": "code",
   "execution_count": 9,
   "metadata": {},
   "outputs": [],
   "source": [
    "import numpy as np\n",
    "np.fft?"
   ]
  },
  {
   "cell_type": "markdown",
   "metadata": {},
   "source": [
    "Background information\n",
    "----------------------\n",
    "\n",
    "Fourier analysis is fundamentally a method for expressing a function as a\n",
    "`sum of periodic components`, and for recovering the function from those\n",
    "components.  When both the function and its Fourier transform are\n",
    "replaced with discretized counterparts, it is called the discrete Fourier\n",
    "transform (DFT).  \n",
    "\n",
    "The DFT has become a mainstay of numerical computing in\n",
    "part because of a very fast algorithm for computing it, called the Fast\n",
    "Fourier Transform (FFT), which was known to Gauss (1805) and was brought\n",
    "to light in its current form by Cooley and Tukey [CT]_.  Press et al. [NR]_\n",
    "provide an accessible introduction to Fourier analysis and its\n",
    "applications.\n",
    "\n",
    "Because the discrete Fourier transform separates its input into\n",
    "components that contribute at discrete frequencies, it has a great number\n",
    "of applications in digital signal processing, e.g., for filtering, and in\n",
    "this context the discretized input to the transform is customarily\n",
    "referred to as a `signal`, which exists in the `time domain`.  \n",
    "\n",
    "The output is called a `spectrum` or `transform` and exists in the `frequency\n",
    "domain`."
   ]
  },
  {
   "cell_type": "markdown",
   "metadata": {},
   "source": [
    "[Definition @ Wikipedia](https://en.wikipedia.org/wiki/Discrete_Fourier_transform)\n",
    "\n",
    "The discrete Fourier transform transforms a sequence of N complex numbers \n",
    "\n",
    "$ \\left\\{\\mathbf {x_{n}} \\right\\}:=x_{0},x_{1},\\ldots ,x_{N-1}$\n",
    "\n",
    "into another sequence of complex numbers, \n",
    "\n",
    "$ \\left\\{\\mathbf {X_{k}} \\right\\}:=X_{0},X_{1},\\ldots ,X_{N-1},$\n",
    "\n",
    "which is defined by\n",
    "\n",
    "$ {\\begin{aligned}X_{k}&=\\sum _{n=0}^{N-1}x_{n}\\cdot e^{-{\\frac {i2\\pi }{N}}kn}\\\\&=\\sum _{n=0}^{N-1}x_{n}\\cdot \\left[\\cos \\left({\\frac {2\\pi }{N}}kn\\right)-i\\cdot \\sin \\left({\\frac {2\\pi }{N}}kn\\right)\\right],\\end{aligned}}$\n",
    "\n",
    "where the last expression follows from the first one by `Euler's formula`.\n",
    "\n",
    "![](fg/fg_expCircle.PNG)\n",
    "\n",
    "![](fg/fg_dft.png)"
   ]
  },
  {
   "cell_type": "markdown",
   "metadata": {},
   "source": [
    "Implementation details\n",
    "----------------------\n",
    "\n",
    "There are many ways to define the DFT, varying in the `sign` of the `exponent`, `normalization`, etc.  \n",
    "\n",
    "In this implementation, the `(N-point) DFT` is defined as\n",
    "\n",
    "$\n",
    "\\text{for } k= 0,\\ldots,N-1\n",
    "\\\\   \n",
    "X_k =  \\sum_{n=0}^{N-1}  \\left(e^{-j{2\\pi \\over N}}\\right)^{kn} \\cdot x_n  \n",
    "$"
   ]
  },
  {
   "cell_type": "code",
   "execution_count": null,
   "metadata": {},
   "outputs": [],
   "source": [
    "import numpy as np\n",
    "np.fft.fft??"
   ]
  },
  {
   "cell_type": "code",
   "execution_count": 11,
   "metadata": {},
   "outputs": [
    {
     "data": {
      "text/plain": [
       "(array([[1.000, 0.000],\n",
       "        [0.000, 1.000]]), array([[ 1.000+0.000j,  1.000+0.000j],\n",
       "        [ 1.000+0.000j, -1.000+0.000j]]), array([[ 1.000+0.000j,  1.000+0.000j],\n",
       "        [ 1.000+0.000j, -1.000+0.000j]]))"
      ]
     },
     "execution_count": 11,
     "metadata": {},
     "output_type": "execute_result"
    }
   ],
   "source": [
    "import numpy as np\n",
    "np.set_printoptions(precision=3, floatmode='fixed')\n",
    "\n",
    "x= np.eye(2)\n",
    "X= np.fft.fft(x)\n",
    "fftMatrix= X\n",
    "x, X, fftMatrix"
   ]
  },
  {
   "cell_type": "code",
   "execution_count": 12,
   "metadata": {},
   "outputs": [
    {
     "data": {
      "text/plain": [
       "array([[ 1.000+0.000j,  1.000+0.000j,  1.000+0.000j],\n",
       "       [ 1.000+0.000j, -0.500-0.866j, -0.500+0.866j],\n",
       "       [ 1.000+0.000j, -0.500+0.866j, -0.500-0.866j]])"
      ]
     },
     "execution_count": 12,
     "metadata": {},
     "output_type": "execute_result"
    }
   ],
   "source": [
    "x= np.eye(3)\n",
    "X= np.fft.fft(x)\n",
    "fftMatrix= X\n",
    "fftMatrix"
   ]
  },
  {
   "cell_type": "code",
   "execution_count": 13,
   "metadata": {},
   "outputs": [
    {
     "data": {
      "text/plain": [
       "array([[ 1.000+0.000j,  1.000+0.000j,  1.000+0.000j,  1.000+0.000j],\n",
       "       [ 1.000+0.000j,  0.000-1.000j, -1.000+0.000j,  0.000+1.000j],\n",
       "       [ 1.000+0.000j, -1.000+0.000j,  1.000+0.000j, -1.000+0.000j],\n",
       "       [ 1.000+0.000j,  0.000+1.000j, -1.000+0.000j,  0.000-1.000j]])"
      ]
     },
     "execution_count": 13,
     "metadata": {},
     "output_type": "execute_result"
    }
   ],
   "source": [
    "x= np.eye(4)\n",
    "X= np.fft.fft(x)\n",
    "fftMatrix= X\n",
    "x \n",
    "fftMatrix"
   ]
  },
  {
   "cell_type": "code",
   "execution_count": 23,
   "metadata": {},
   "outputs": [
    {
     "data": {
      "text/plain": [
       "(6.123233995736766e-17-1j)"
      ]
     },
     "execution_count": 23,
     "metadata": {},
     "output_type": "execute_result"
    }
   ],
   "source": [
    "π=   np.pi\n",
    "N=4\n",
    "np.exp(-1j*2*π/N)"
   ]
  },
  {
   "cell_type": "code",
   "execution_count": 22,
   "metadata": {},
   "outputs": [
    {
     "data": {
      "text/plain": [
       "(-9+38j)"
      ]
     },
     "execution_count": 22,
     "metadata": {},
     "output_type": "execute_result"
    }
   ],
   "source": [
    "(3+4j) * (5+6j)"
   ]
  },
  {
   "cell_type": "code",
   "execution_count": 24,
   "metadata": {},
   "outputs": [
    {
     "data": {
      "text/plain": [
       "((1+0j),\n",
       " (6.123233995736766e-17-1j),\n",
       " (-1-1.2246467991473532e-16j),\n",
       " (-1.8369701987210297e-16+1j))"
      ]
     },
     "execution_count": 24,
     "metadata": {},
     "output_type": "execute_result"
    }
   ],
   "source": [
    "np.exp(-1j*2*π/N *0), \\\n",
    "np.exp(-1j*2*π/N *1), \\\n",
    "np.exp(-1j*2*π/N *2), \\\n",
    "np.exp(-1j*2*π/N*3)"
   ]
  },
  {
   "cell_type": "markdown",
   "metadata": {},
   "source": [
    "$\n",
    "n=0,1,2,3\\\\\n",
    "....\\\\\n",
    "k=0 ,\\\\\n",
    "e^{-j*2\\pi/4*k*n} =e^{-j*2\\pi/4*0*n} =(+1, +1, +1, +1)\\\\\n",
    "k=1 , \\\\\n",
    "e^{-j*2\\pi/4*k*n} =e^{-j*2\\pi/4*1*n} =(+1, -j, -1, +j)\\\\\n",
    "k=2 , \\\\\n",
    "e^{-j*2\\pi/4*k*n} =e^{-j*2\\pi/4*2*n} =(+1, -1, +1, -1)\\\\\n",
    "k=3 , \\\\\n",
    "e^{-j*2\\pi/4*k*n} =e^{-j*2\\pi/4*3*n} =(+1, +j, -1, -j)\\\\\n",
    "$"
   ]
  },
  {
   "cell_type": "markdown",
   "metadata": {},
   "source": []
  },
  {
   "cell_type": "markdown",
   "metadata": {},
   "source": [
    "The transformation matrix $W$ \n",
    "\n",
    "can be defined as\n",
    "$ W=\\left[{\\omega^{nk}}\\right]_{n,k=0,\\ldots , N-1}$,\n",
    "\n",
    "or equivalently:\n",
    "\n",
    "$ \n",
    "W={\n",
    "\\begin{bmatrix}\n",
    "    1      & 1          & 1         & 1         & \\cdots & 1\\\\\n",
    "    1      & \\omega     &\\omega^{2} &\\omega^{3} &\\cdots  &\\omega^{N-1}   \\\\\n",
    "    1      & \\omega^{2} &\\omega^{4} &\\omega^{6} &\\cdots  &\\omega^{2(N-1)}\\\\\n",
    "    1      & \\omega^{3} &\\omega^{6} &\\omega^{9} &\\cdots  &\\omega^{3(N-1)}\\\\\n",
    "    \\vdots & \\vdots     &\\vdots     &\\vdots     &\\ddots  &\\vdots \\\\\n",
    "    1      & \\omega^{N-1} &\\omega^{2(N-1)} &\\omega^{3(N-1)} &\\cdots &\\omega^{(N-1)(N-1)}\\\\\n",
    "\\end{bmatrix}}\n",
    "$\n",
    "\n",
    "\n",
    "where, \n",
    "\n",
    "$ \\omega =e^{-j {2\\pi \\over N}}$\n",
    "\n"
   ]
  },
  {
   "cell_type": "code",
   "execution_count": 27,
   "metadata": {},
   "outputs": [
    {
     "data": {
      "text/plain": [
       "(array([ 1.000e+00,  6.123e-17, -1.000e+00, -1.837e-16,  1.000e+00,\n",
       "         3.062e-16, -1.000e+00, -4.286e-16,  1.000e+00,  5.511e-16,\n",
       "        -1.000e+00, -2.450e-15,  1.000e+00, -9.803e-16, -1.000e+00,\n",
       "        -2.695e-15,  1.000e+00, -7.354e-16, -1.000e+00, -2.940e-15,\n",
       "         1.000e+00, -4.905e-16, -1.000e+00, -3.185e-15,  1.000e+00,\n",
       "        -2.455e-16, -1.000e+00, -3.430e-15,  1.000e+00, -6.190e-19,\n",
       "        -1.000e+00, -3.675e-15]),\n",
       " array([-2.052e-14+0.000e+00j,  3.207e-15-6.295e-15j,\n",
       "        -2.702e-15-3.962e-15j, -1.790e-15-1.217e-16j,\n",
       "        -1.295e-16-1.256e-15j, -2.172e-15-2.055e-15j,\n",
       "        -3.240e-15-2.816e-16j, -4.185e-15-5.590e-16j,\n",
       "         1.600e+01-1.745e-14j,  4.185e-15-5.590e-16j,\n",
       "         3.240e-15-2.816e-16j,  2.172e-15-2.055e-15j,\n",
       "         1.295e-16-1.256e-15j,  1.790e-15-1.217e-16j,\n",
       "         2.702e-15-3.962e-15j, -3.207e-15-6.295e-15j,\n",
       "         2.052e-14+0.000e+00j, -3.207e-15+6.295e-15j,\n",
       "         2.702e-15+3.962e-15j,  1.790e-15+1.217e-16j,\n",
       "         1.295e-16+1.256e-15j,  2.172e-15+2.055e-15j,\n",
       "         3.240e-15+2.816e-16j,  4.185e-15+5.590e-16j,\n",
       "         1.600e+01+1.745e-14j, -4.185e-15+5.590e-16j,\n",
       "        -3.240e-15+2.816e-16j, -2.172e-15+2.055e-15j,\n",
       "        -1.295e-16+1.256e-15j, -1.790e-15+1.217e-16j,\n",
       "        -2.702e-15+3.962e-15j,  3.207e-15+6.295e-15j]))"
      ]
     },
     "execution_count": 27,
     "metadata": {},
     "output_type": "execute_result"
    }
   ],
   "source": [
    "N= 32\n",
    "n= np.arange(N)\n",
    "x= np.cos(n/4 *2*π) #+ np.cos(n/8 *2*π) + np.cos(n/16 *2*π)\n",
    "\n",
    "X= np.fft.fft(x)\n",
    "x, X"
   ]
  },
  {
   "cell_type": "code",
   "execution_count": 28,
   "metadata": {},
   "outputs": [
    {
     "name": "stderr",
     "output_type": "stream",
     "text": [
      "C:\\Anaconda3\\lib\\site-packages\\ipykernel_launcher.py:2: UserWarning: In Matplotlib 3.3 individual lines on a stem plot will be added as a LineCollection instead of individual lines. This significantly improves the performance of a stem plot. To remove this warning and switch to the new behaviour, set the \"use_line_collection\" keyword argument to True.\n",
      "  \n"
     ]
    },
    {
     "data": {
      "image/png": "[encoded data removed]",
      "text/plain": [
       "<Figure size 432x288 with 1 Axes>"
      ]
     },
     "metadata": {
      "needs_background": "light"
     },
     "output_type": "display_data"
    }
   ],
   "source": [
    "import matplotlib.pyplot as pl\n",
    "pl.stem(x);pl.grid()"
   ]
  },
  {
   "cell_type": "code",
   "execution_count": 29,
   "metadata": {},
   "outputs": [
    {
     "name": "stderr",
     "output_type": "stream",
     "text": [
      "C:\\Anaconda3\\lib\\site-packages\\ipykernel_launcher.py:1: UserWarning: In Matplotlib 3.3 individual lines on a stem plot will be added as a LineCollection instead of individual lines. This significantly improves the performance of a stem plot. To remove this warning and switch to the new behaviour, set the \"use_line_collection\" keyword argument to True.\n",
      "  \"\"\"Entry point for launching an IPython kernel.\n"
     ]
    },
    {
     "data": {
      "image/png": "[encoded data removed]",
      "text/plain": [
       "<Figure size 432x288 with 1 Axes>"
      ]
     },
     "metadata": {
      "needs_background": "light"
     },
     "output_type": "display_data"
    }
   ],
   "source": [
    "pl.stem(np.abs(X));pl.grid()"
   ]
  },
  {
   "cell_type": "code",
   "execution_count": 30,
   "metadata": {},
   "outputs": [
    {
     "data": {
      "text/plain": [
       "(array([  0.000,   1.000,   2.000,   3.000,   4.000,   5.000,   6.000,\n",
       "          7.000,   8.000,   9.000,  10.000,  11.000,  12.000,  13.000,\n",
       "         14.000,  15.000,  16.000,  17.000,  18.000,  19.000,  20.000,\n",
       "         21.000,  22.000,  23.000,  24.000,  25.000,  26.000,  27.000,\n",
       "         28.000,  29.000,  30.000,  31.000,  32.000,  33.000,  34.000,\n",
       "         35.000,  36.000,  37.000,  38.000,  39.000,  40.000,  41.000,\n",
       "         42.000,  43.000,  44.000,  45.000,  46.000,  47.000,  48.000,\n",
       "         49.000, -50.000, -49.000, -48.000, -47.000, -46.000, -45.000,\n",
       "        -44.000, -43.000, -42.000, -41.000, -40.000, -39.000, -38.000,\n",
       "        -37.000, -36.000, -35.000, -34.000, -33.000, -32.000, -31.000,\n",
       "        -30.000, -29.000, -28.000, -27.000, -26.000, -25.000, -24.000,\n",
       "        -23.000, -22.000, -21.000, -20.000, -19.000, -18.000, -17.000,\n",
       "        -16.000, -15.000, -14.000, -13.000, -12.000, -11.000, -10.000,\n",
       "         -9.000,  -8.000,  -7.000,  -6.000,  -5.000,  -4.000,  -3.000,\n",
       "         -2.000,  -1.000]),\n",
       " array([ 0.000,  1.000,  2.000,  3.000,  4.000,  5.000,  6.000,  7.000,\n",
       "         8.000,  9.000, 10.000, 11.000, 12.000, 13.000, 14.000, 15.000,\n",
       "        16.000, 17.000, 18.000, 19.000, 20.000, 21.000, 22.000, 23.000,\n",
       "        24.000, 25.000, 26.000, 27.000, 28.000, 29.000, 30.000, 31.000,\n",
       "        32.000, 33.000, 34.000, 35.000, 36.000, 37.000, 38.000, 39.000,\n",
       "        40.000, 41.000, 42.000, 43.000, 44.000, 45.000, 46.000, 47.000,\n",
       "        48.000, 49.000, 50.000]))"
      ]
     },
     "execution_count": 30,
     "metadata": {},
     "output_type": "execute_result"
    }
   ],
   "source": [
    "#np.fft.fftfreq?\n",
    "Fs= 100\n",
    "N=  100\n",
    "_fftfreq= np.fft.fftfreq(N,1/Fs)\n",
    "_rfftfreq= np.fft.rfftfreq(N,1/Fs)\n",
    "_fftfreq, _rfftfreq\n"
   ]
  },
  {
   "cell_type": "code",
   "execution_count": 34,
   "metadata": {},
   "outputs": [
    {
     "data": {
      "image/png": "[encoded data removed]",
      "text/plain": [
       "<Figure size 432x288 with 1 Axes>"
      ]
     },
     "metadata": {
      "needs_background": "light"
     },
     "output_type": "display_data"
    }
   ],
   "source": [
    "#np.fft.rfft?\n",
    "\n",
    "pl.plot(x,'o-');pl.grid()"
   ]
  },
  {
   "cell_type": "code",
   "execution_count": 35,
   "metadata": {},
   "outputs": [
    {
     "data": {
      "text/plain": [
       "array([-2.052e-14+0.000e+00j,  3.207e-15-6.295e-15j,\n",
       "       -2.702e-15-3.962e-15j, -1.790e-15-1.217e-16j,\n",
       "       -1.295e-16-1.256e-15j, -2.172e-15-2.055e-15j,\n",
       "       -3.240e-15-2.816e-16j, -4.185e-15-5.590e-16j,\n",
       "        1.600e+01-1.745e-14j,  4.185e-15-5.590e-16j,\n",
       "        3.240e-15-2.816e-16j,  2.172e-15-2.055e-15j,\n",
       "        1.295e-16-1.256e-15j,  1.790e-15-1.217e-16j,\n",
       "        2.702e-15-3.962e-15j, -3.207e-15-6.295e-15j,\n",
       "        2.052e-14+0.000e+00j, -3.207e-15+6.295e-15j,\n",
       "        2.702e-15+3.962e-15j,  1.790e-15+1.217e-16j,\n",
       "        1.295e-16+1.256e-15j,  2.172e-15+2.055e-15j,\n",
       "        3.240e-15+2.816e-16j,  4.185e-15+5.590e-16j,\n",
       "        1.600e+01+1.745e-14j, -4.185e-15+5.590e-16j,\n",
       "       -3.240e-15+2.816e-16j, -2.172e-15+2.055e-15j,\n",
       "       -1.295e-16+1.256e-15j, -1.790e-15+1.217e-16j,\n",
       "       -2.702e-15+3.962e-15j,  3.207e-15+6.295e-15j])"
      ]
     },
     "execution_count": 35,
     "metadata": {},
     "output_type": "execute_result"
    }
   ],
   "source": [
    "X= np.fft.fft(x)\n",
    "X"
   ]
  },
  {
   "cell_type": "code",
   "execution_count": 40,
   "metadata": {},
   "outputs": [
    {
     "data": {
      "text/plain": [
       "[<matplotlib.lines.Line2D at 0x19c010fce48>]"
      ]
     },
     "execution_count": 40,
     "metadata": {},
     "output_type": "execute_result"
    },
    {
     "data": {
      "image/png": "[encoded data removed]",
      "text/plain": [
       "<Figure size 432x288 with 1 Axes>"
      ]
     },
     "metadata": {
      "needs_background": "light"
     },
     "output_type": "display_data"
    }
   ],
   "source": [
    "pl.plot(X,'x-')"
   ]
  },
  {
   "cell_type": "markdown",
   "metadata": {},
   "source": [
    "The parameter \n",
    "`self` is a Wave object. \n",
    "`n` is the number of samples in the wave, \n",
    "and `d` is the inverse of the frame rate, which is the time between samples.\n",
    "\n",
    "`np.fft` is the NumPy module that provides functions related to the `Fast Fourier Transform (FFT)`, \n",
    "which is an efficient algorithm that computes the `Discrete Fourier Transform (DFT)`.\n",
    "\n",
    "`def make_spectrum` uses `rfft`, which stands for “real FFT”, because the Wave contains real values, not complex.\n",
    "\n",
    "Later we’ll see the full FFT, which can handle complex signals (see Section 7.9). \n",
    "The result of rfft, which I call `hs`, is a NumPy array of complex numbers that represents the amplitude and phase offset of each frequency component in the wave.\n",
    "\n",
    "The result of `rfftfreq`, which I call `fs`, is an array that contains frequencies corresponding to the `hs`.\n",
    "\n",
    "To understand the values in `hs`, consider these two ways to think about complex numbers:"
   ]
  },
  {
   "cell_type": "markdown",
   "metadata": {},
   "source": [
    "A complex number is the sum of a `real part` and an `imaginary part`, \n",
    "often written $x + iy$ = $x + jy$, \n",
    "where $i$ or $j$ is the imaginary unit, \n",
    "$ i = j = \\sqrt{-1}$\n",
    "\n",
    "You can think of $x$ and $y$ as `Cartesian coordinates`.\n",
    "\n",
    "A complex number is also the product of a magnitude and a complex exponential, \n",
    "\n",
    "$A e^{j φ}$, \n",
    "\n",
    "where A is the magnitude and φ is the `angle in radians`, also called the `“argument”`. \n",
    "You can think of A and φ as `Polar coordinates`.\n",
    "\n",
    "![](https://upload.wikimedia.org/wikipedia/commons/thumb/1/13/Polar_graph_paper.svg/300px-Polar_graph_paper.svg.png)\n",
    "\n",
    "![](https://upload.wikimedia.org/wikipedia/commons/thumb/7/78/Polar_to_cartesian.svg/250px-Polar_to_cartesian.svg.png)\n",
    "\n"
   ]
  },
  {
   "cell_type": "markdown",
   "metadata": {},
   "source": [
    "Each value in hs corresponds to a frequency component: its magnitude is proportional to the amplitude of the corresponding component; its angle is the phase offset."
   ]
  },
  {
   "cell_type": "markdown",
   "metadata": {},
   "source": [
    "The `class Spectrum` inherits `class _SpectrumParent`, \n",
    "which provides two read-only properties, \n",
    "`amps` and `angles`, \n",
    "which return NumPy arrays representing the magnitudes and angles of the hs. \n",
    "\n",
    "```python\n",
    "class _SpectrumParent:\n",
    "    \"\"\"Contains code common to Spectrum and DCT.\n",
    "    \"\"\"\n",
    "\n",
    "    def __init__(self, hs, fs, framerate, full=False):\n",
    "        \"\"\"Initializes a spectrum.\n",
    "\n",
    "        hs: array of amplitudes (real or complex)\n",
    "        fs: array of frequencies\n",
    "        framerate: frames per second\n",
    "        full: boolean to indicate full or real FFT\n",
    "        \"\"\"\n",
    "        self.hs = np.asanyarray(hs)\n",
    "        self.fs = np.asanyarray(fs)\n",
    "        self.framerate = framerate\n",
    "        self.full = full\n",
    "\n",
    "\n",
    "    @property\n",
    "    def max_freq(self):\n",
    "        \"\"\"Returns the Nyquist frequency for this spectrum.\"\"\"\n",
    "        return self.framerate / 2\n",
    "\n",
    "    @property\n",
    "    def amps(self):\n",
    "        \"\"\"Returns a sequence of amplitudes (read-only property).\"\"\"\n",
    "        return np.absolute(self.hs)\n",
    "```"
   ]
  },
  {
   "cell_type": "markdown",
   "metadata": {},
   "source": [
    "```python\n",
    "class Spectrum(_SpectrumParent):\n",
    "    \"\"\"Represents the spectrum of a signal.\"\"\"\n",
    "    \n",
    "    @property\n",
    "    def real(self):\n",
    "        \"\"\"Returns the real part of the hs (read-only property).\"\"\"\n",
    "        return np.real(self.hs)\n",
    "\n",
    "    @property\n",
    "    def imag(self):\n",
    "        \"\"\"Returns the imaginary part of the hs (read-only property).\"\"\"\n",
    "        return np.imag(self.hs)\n",
    "\n",
    "    @property\n",
    "    def angles(self):\n",
    "        \"\"\"Returns a sequence of angles (read-only property).\"\"\"\n",
    "        return np.angle(self.hs)\n",
    "```"
   ]
  },
  {
   "cell_type": "markdown",
   "metadata": {},
   "source": [
    "When we plot a Spectrum object, we usually plot `amps` versus `fs`. \n",
    "\n",
    "Sometimes it is also useful to plot `angles` versus `fs`.\n",
    "\n",
    "Although it might be tempting to look at the real and imaginary parts of hs, you will almost never need to. \n",
    "\n",
    "I encourage you to think of the DFT as a vector of amplitudes and phase offsets that happen to be encoded in the form of complex numbers."
   ]
  },
  {
   "cell_type": "markdown",
   "metadata": {},
   "source": [
    "To modify a Spectrum, you can access the `hs` directly. For example:\n",
    "\n",
    "```python\n",
    "    spectrum.hs *= 2\n",
    "    spectrum.hs[spectrum.fs > cutoff] = 0\n",
    "```\n",
    "\n",
    "- The first line multiplies the elements of hs by 2, which doubles the amplitudes of all components. \n",
    "- The second line sets to 0 only the elements of hs where the corresponding frequency exceeds some cutoff frequency."
   ]
  },
  {
   "cell_type": "markdown",
   "metadata": {},
   "source": [
    "But Spectrum also provides methods to perform these operations:\n",
    "\n",
    "```python\n",
    "spectrum.scale(2)\n",
    "spectrum.low_pass(cutoff)\n",
    "```\n",
    "\n",
    "```python\n",
    "class Spectrum(_SpectrumParent):\n",
    "    \n",
    "    def scale(self, factor):\n",
    "        \"\"\"Multiplies all elements by the given factor.\n",
    "\n",
    "        factor: what to multiply the magnitude by (could be complex)\n",
    "        \"\"\"\n",
    "        self.hs *= factor\n",
    "\n",
    "    def low_pass(self, cutoff, factor=0):\n",
    "        \"\"\"Attenuate frequencies above the cutoff.\n",
    "\n",
    "        cutoff: frequency in Hz\n",
    "        factor: what to multiply the magnitude by\n",
    "        \"\"\"\n",
    "        self.hs[abs(self.fs) > cutoff] *= factor\n",
    "```        \n",
    "You can read the documentation of these methods and others at http://greenteapress.com/thinkdsp.html.\n",
    "\n",
    "At this point you should have a better idea of how the `class Signal`, `class Wave`, and `class Spectrum` work together, but I have not explained how the `Fast Fourier Transform (FFT)` works. \n",
    "\n",
    "That will take a few more chapters."
   ]
  },
  {
   "cell_type": "markdown",
   "metadata": {},
   "source": [
    "## 2.5  Exercises\n",
    "\n",
    "Solutions to these exercises are in `chap02soln.ipynb`.\n",
    "\n",
    "### Exercise 1   \n",
    "\n",
    "If you use Jupyter, load [chap02.ipynb](./chap02.ipynb) and try out the examples. You can also view the notebook at http://tinyurl.com/thinkdsp02."
   ]
  },
  {
   "cell_type": "markdown",
   "metadata": {},
   "source": [
    "### Exercise 2   \n",
    "\n",
    "A [sawtooth signal](http://en.wikipedia.org/wiki/Sawtooth_wave) has a waveform that ramps up linearly from -1 to 1, then drops to -1 and repeats. See http://en.wikipedia.org/wiki/Sawtooth_wave\n",
    "\n",
    "Write a class called SawtoothSignal that extends Signal and provides evaluate to evaluate a sawtooth signal.\n",
    "\n",
    "Compute the spectrum of a sawtooth wave. How does the harmonic structure compare to triangle and square waves?\n",
    "\n",
    "![](https://upload.wikimedia.org/wikipedia/commons/8/82/Sawtooth-td_and_fd.png)\n",
    "\n",
    "\n",
    "- The piecewise linear function\n",
    "\n",
    "$ x(t)=t-\\underbrace {\\lfloor t\\rfloor } _{\\operatorname {floor} (t)}$, \n",
    "\n",
    "based on the `floor function` of time t\n",
    "\n",
    "\n",
    "- or equivalently,\n",
    "\n",
    "$ x(t)=t{\\pmod {1.0}}$, \n",
    "\n",
    "is an example of a sawtooth wave with period 1.0\n",
    "\n",
    "----"
   ]
  },
  {
   "cell_type": "code",
   "execution_count": 1,
   "metadata": {},
   "outputs": [],
   "source": [
    "# [rySol]\n",
    "\n",
    "from thinkdsp import Sinusoid\n",
    "import numpy as np\n",
    "\n",
    "#\n",
    "# copy these 2 for references...\n",
    "#\n",
    "# class RyTriSignal(Sinusoid):\n",
    "# class RySqrSignal(Sinusoid):\n",
    "#\n",
    "\n",
    "#'''\n",
    "class RyTriSignal(Sinusoid):\n",
    "    \"\"\"ry Represents a triangle signal.\"\"\"\n",
    "        \n",
    "    def evaluate(self, ts):\n",
    "    \n",
    "        θ= ts * 2 * np.pi * self.freq + self.offset # 在此作橫軸之變數變換\n",
    "\n",
    "        θ= θ % (np.pi * 2) # 這一行讓 θ 周而復始，週期維持在 (2 π)\n",
    "\n",
    "        x0= θ *(-2/np.pi) +1\n",
    "        x1= θ *(+2/np.pi) -3\n",
    "\n",
    "        x= x0 * (θ<np.pi) + x1 * (θ>=np.pi) # 這一行稍微有深度！！\n",
    "\n",
    "        x= x * self.amp # 最後輸出前，再把縱軸拉到 振幅 = amp\n",
    "\n",
    "        return x\n",
    "\n",
    "class RySqrSignal(Sinusoid):\n",
    "    \"\"\"ry Represents a square signal.\"\"\"\n",
    "        \n",
    "    def evaluate(self, ts):\n",
    "    \n",
    "        θ= ts * 2 * np.pi * self.freq + self.offset # 在此作橫軸之變數變換\n",
    "\n",
    "        θ= θ % (np.pi * 2) # 這一行讓 θ 周而復始，週期維持在 (2 π)\n",
    "\n",
    "        x0= -1 #上半周 #θ *(-2/np.pi) +1\n",
    "        x1= +1 #下半周 #θ *(+2/np.pi) -3\n",
    "\n",
    "        x= x0 * (θ<np.pi) + x1 * (θ>=np.pi) # 這一行稍微有深度！！\n",
    "\n",
    "        x= x * self.amp # 最後輸出前，再把縱軸拉到 振幅 = amp\n",
    "\n",
    "        return x       \n",
    "#'''\n",
    "\n",
    "\n",
    "class RySawtoothSignal(Sinusoid):\n",
    "    \"\"\"ry Represents a sawtooth signal.\"\"\"\n",
    "        \n",
    "    def evaluate(self, ts):\n",
    "    \n",
    "        θ= ts * 2 * np.pi * self.freq + self.offset # 在此作橫軸之變數變換\n",
    "\n",
    "        θ= θ % (np.pi * 2) # 這一行讓 θ 周而復始，週期維持在 (2 π)\n",
    "\n",
    "        x= -1 + θ/np.pi # 從 -1 開始爬坡，上半週期到達　0,下半周期到達 +1 \n",
    "       \n",
    "        x= x * self.amp # 最後輸出前，再把縱軸拉到 振幅 = amp\n",
    "\n",
    "        return x"
   ]
  },
  {
   "cell_type": "markdown",
   "metadata": {},
   "source": [
    "![](fg/fg_sawtooth.png)"
   ]
  },
  {
   "cell_type": "code",
   "execution_count": 3,
   "metadata": {},
   "outputs": [
    {
     "data": {
      "image/png": "[encoded data removed]",
      "text/plain": [
       "<Figure size 432x288 with 1 Axes>"
      ]
     },
     "metadata": {
      "needs_background": "light"
     },
     "output_type": "display_data"
    }
   ],
   "source": [
    "# Let's test what we have created\n",
    "import matplotlib.pylab as pl\n",
    "\n",
    "x= RySawtoothSignal(freq=100)\n",
    "x.plot()\n",
    "pl.grid()"
   ]
  },
  {
   "cell_type": "code",
   "execution_count": 4,
   "metadata": {},
   "outputs": [
    {
     "data": {
      "text/html": [
       "\n",
       "                <audio  controls=\"controls\" >\n",
       "                    <source src=\"data:audio/wav;base64,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\" type=\"audio/wav\" />\n",
       "                    Your browser does not support the audio element.\n",
       "                </audio>\n",
       "              "
      ],
      "text/plain": [
       "<IPython.lib.display.Audio object>"
      ]
     },
     "execution_count": 4,
     "metadata": {},
     "output_type": "execute_result"
    },
    {
     "data": {
      "image/png": "[encoded data removed]",
      "text/plain": [
       "<Figure size 432x288 with 1 Axes>"
      ]
     },
     "metadata": {
      "needs_background": "light"
     },
     "output_type": "display_data"
    }
   ],
   "source": [
    "# see and hear it\n",
    "\n",
    "w= x.make_wave()\n",
    "w.segment(duration=.1).plot()\n",
    "w.make_audio()\n"
   ]
  },
  {
   "cell_type": "code",
   "execution_count": 5,
   "metadata": {},
   "outputs": [
    {
     "data": {
      "image/png": "[encoded data removed]",
      "text/plain": [
       "<Figure size 432x288 with 1 Axes>"
      ]
     },
     "metadata": {
      "needs_background": "light"
     },
     "output_type": "display_data"
    }
   ],
   "source": [
    "# make its spectrum\n",
    "\n",
    "s= w.make_spectrum()\n",
    "s.plot(high=1000)\n",
    "\n",
    "# you will see the spectrum has both odd and even multiples of 100 Hz\n"
   ]
  },
  {
   "cell_type": "code",
   "execution_count": null,
   "metadata": {},
   "outputs": [],
   "source": []
  },
  {
   "cell_type": "markdown",
   "metadata": {},
   "source": []
  },
  {
   "cell_type": "markdown",
   "metadata": {},
   "source": []
  },
  {
   "cell_type": "markdown",
   "metadata": {},
   "source": [
    "### Exercise 3   \n",
    "\n",
    "Make a square signal at 1100 Hz and make a wave that samples it at 10000 frames per second. If you plot the spectrum, you can see that most of the harmonics are aliased. When you listen to the wave, can you hear the aliased harmonics?"
   ]
  },
  {
   "cell_type": "code",
   "execution_count": null,
   "metadata": {},
   "outputs": [],
   "source": [
    "import thinkdsp as td\n",
    "\n",
    "x= td.CosSignal(freq=1100) \n",
    "w= x.make_wave(framerate=10000)\n",
    "s= w.make_spectrum()\n",
    "s.plot()\n",
    "w.make_audio()"
   ]
  },
  {
   "cell_type": "code",
   "execution_count": null,
   "metadata": {},
   "outputs": [],
   "source": [
    "x= td.TriangleSignal(freq=1100) \n",
    "w= x.make_wave(framerate=10000)\n",
    "s= w.make_spectrum()\n",
    "s.plot()\n",
    "w.make_audio()"
   ]
  },
  {
   "cell_type": "code",
   "execution_count": null,
   "metadata": {},
   "outputs": [],
   "source": [
    "x= td.SquareSignal(freq=1100) \n",
    "w= x.make_wave(framerate=10000)\n",
    "s= w.make_spectrum()\n",
    "s.plot()\n",
    "w.make_audio()"
   ]
  },
  {
   "cell_type": "code",
   "execution_count": null,
   "metadata": {},
   "outputs": [],
   "source": [
    "x= td.SawtoothSignal(freq=1100) \n",
    "w= x.make_wave(framerate=10000)\n",
    "s= w.make_spectrum()\n",
    "s.plot()\n",
    "w.make_audio()"
   ]
  },
  {
   "cell_type": "code",
   "execution_count": null,
   "metadata": {},
   "outputs": [],
   "source": []
  },
  {
   "cell_type": "code",
   "execution_count": null,
   "metadata": {},
   "outputs": [],
   "source": []
  },
  {
   "cell_type": "markdown",
   "metadata": {},
   "source": [
    "### Exercise 4   \n",
    "\n",
    "If you have a spectrum object, spectrum, and print the first few values of spectrum.fs, you’ll see that they start at zero. So spectrum.hs[0] is the magnitude of the component with frequency 0. But what does that mean?\n",
    "Try this experiment:\n",
    "\n",
    "Make a triangle signal with frequency 440 and make a Wave with duration 0.01 seconds. Plot the waveform.\n",
    "Make a Spectrum object and print spectrum.hs[0]. What is the amplitude and phase of this component?\n",
    "Set spectrum.hs[0] = 100. What effect does this operation have on the waveform? Hint: Spectrum provides a method called make_wave that computes the Wave that corresponds to the Spectrum."
   ]
  },
  {
   "cell_type": "code",
   "execution_count": null,
   "metadata": {},
   "outputs": [],
   "source": [
    "import matplotlib.pyplot as pl\n",
    "import thinkdsp as td\n",
    "\n",
    "x= td.CosSignal(freq=1100) \n",
    "w= x.make_wave(framerate=10000)\n",
    "s= w.make_spectrum()\n",
    "s.plot()\n",
    "s.hs[0]"
   ]
  },
  {
   "cell_type": "code",
   "execution_count": null,
   "metadata": {},
   "outputs": [],
   "source": [
    "s.hs[0]=5000\n",
    "s.plot()"
   ]
  },
  {
   "cell_type": "code",
   "execution_count": null,
   "metadata": {},
   "outputs": [],
   "source": [
    "w0= s.make_wave()\n",
    "w0.plot()\n",
    "# you will see the min and max of the waveform was raised up \n",
    "# and the center of the amplitude was raised from 0 to 0.5"
   ]
  },
  {
   "cell_type": "code",
   "execution_count": null,
   "metadata": {},
   "outputs": [],
   "source": [
    "w.plot() # this is the original for comparison"
   ]
  },
  {
   "cell_type": "markdown",
   "metadata": {},
   "source": []
  },
  {
   "cell_type": "markdown",
   "metadata": {},
   "source": [
    "### Exercise 5   \n",
    "\n",
    "Write a function that takes a Spectrum as a parameter and modifies it by dividing each element of hs by the corresponding frequency from fs. Hint: since division by zero is undefined, you might want to set spectrum.hs[0] = 0.\n",
    "Test your function using a square, triangle, or sawtooth wave.\n",
    "\n",
    "Compute the Spectrum and plot it.\n",
    "\n",
    "Modify the Spectrum using your function and plot it again.\n",
    "\n",
    "Use Spectrum.make_wave to make a Wave from the modified Spectrum, and listen to it. What effect does this operation have on the signal?"
   ]
  },
  {
   "cell_type": "markdown",
   "metadata": {},
   "source": [
    "### Exercise 6   \n",
    "\n",
    "Triangle and square waves have odd harmonics only; \n",
    "the sawtooth wave has both even and odd harmonics. \n",
    "\n",
    "The harmonics of the square and sawtooth waves drop off in proportion to 1/f; \n",
    "the harmonics of the triangle wave drop off like $1/f^2$. \n",
    "\n",
    "Can you find a waveform that has even and odd harmonics that drop off like $1/f^2$?\n",
    "\n",
    "- Hint: There are two ways you could approach this: \n",
    "    - you could construct the signal you want by adding up sinusoids, \n",
    "    - or you could start with a signal that is similar to what you want and modify it."
   ]
  },
  {
   "cell_type": "code",
   "execution_count": null,
   "metadata": {},
   "outputs": [],
   "source": [
    "#[rySol01]\n",
    "\n",
    "xSqr= RySqrSignal(freq= 100)\n",
    "xTri= RyTriSignal(freq= 100)\n",
    "xSaw= RySawtoothSignal(freq= 100)\n",
    "\n",
    "x= xTri+xSaw\n",
    "x.plot()"
   ]
  },
  {
   "cell_type": "code",
   "execution_count": null,
   "metadata": {},
   "outputs": [],
   "source": [
    "w= x.make_wave()\n",
    "s= w.make_spectrum()\n",
    "s.plot(high=1000)\n",
    "pl.grid()"
   ]
  },
  {
   "cell_type": "code",
   "execution_count": null,
   "metadata": {},
   "outputs": [],
   "source": [
    "#[rySol02]\n",
    "\n",
    "import thinkdsp as td\n",
    "\n",
    "x1= td.CosSignal(freq=100*1, amp=1/1) \n",
    "x2= td.CosSignal(freq=100*2, amp=1/2) \n",
    "x3= td.CosSignal(freq=100*3, amp=1/3) \n",
    "x4= td.CosSignal(freq=100*4, amp=1/4) \n",
    "x5= td.CosSignal(freq=100*5, amp=1/5) \n",
    "\n",
    "x= x1 + x2 + x3 + x4 + x5\n",
    "x.plot()"
   ]
  },
  {
   "cell_type": "code",
   "execution_count": null,
   "metadata": {},
   "outputs": [],
   "source": [
    "w= x.make_wave()\n",
    "s= w.make_spectrum()\n",
    "s.plot(high=1000)\n",
    "pl.grid()\n"
   ]
  },
  {
   "cell_type": "code",
   "execution_count": null,
   "metadata": {},
   "outputs": [],
   "source": [
    "import thinkdsp as td\n",
    "\n",
    "x1= td.CosSignal(freq=100*1, amp=1/1**2) \n",
    "x2= td.CosSignal(freq=100*2, amp=1/2**2) \n",
    "x3= td.CosSignal(freq=100*3, amp=1/3**2) \n",
    "x4= td.CosSignal(freq=100*4, amp=1/4**2) \n",
    "x5= td.CosSignal(freq=100*5, amp=1/5**2) \n",
    "\n",
    "x= x1 + x2 + x3 + x4 + x5\n",
    "x.plot()\n"
   ]
  },
  {
   "cell_type": "code",
   "execution_count": null,
   "metadata": {},
   "outputs": [],
   "source": [
    "w= x.make_wave()\n",
    "s= w.make_spectrum()\n",
    "s.plot(high=1000)\n",
    "pl.grid()"
   ]
  },
  {
   "cell_type": "code",
   "execution_count": null,
   "metadata": {},
   "outputs": [],
   "source": [
    "#[rySol03]\n",
    "\n",
    "x= td.CosSignal(freq=100*1, amp=1/1**2) \n",
    "for k in range(2,10):\n",
    "    xk= td.CosSignal(freq=100*k, amp=1/k**2)\n",
    "    x = x+xk\n",
    "    \n",
    "x.plot()\n"
   ]
  },
  {
   "cell_type": "code",
   "execution_count": null,
   "metadata": {},
   "outputs": [],
   "source": [
    "# or use \"list comprehension\", only 1 line as follows\n",
    "\n",
    "x= sum([td.CosSignal(freq=100*k, amp=1/k**2) for k in range(1,10)])\n",
    "\n",
    "x.plot()\n"
   ]
  },
  {
   "cell_type": "code",
   "execution_count": null,
   "metadata": {},
   "outputs": [],
   "source": []
  }
 ],
 "metadata": {
  "kernelspec": {
   "display_name": "Python 3",
   "language": "python",
   "name": "python3"
  },
  "language_info": {
   "codemirror_mode": {
    "name": "ipython",
    "version": 3
   },
   "file_extension": ".py",
   "mimetype": "text/x-python",
   "name": "python",
   "nbconvert_exporter": "python",
   "pygments_lexer": "ipython3",
   "version": "3.7.4"
  },
  "latex_envs": {
   "LaTeX_envs_menu_present": true,
   "autoclose": false,
   "autocomplete": true,
   "bibliofile": "biblio.bib",
   "cite_by": "apalike",
   "current_citInitial": 1,
   "eqLabelWithNumbers": true,
   "eqNumInitial": 1,
   "hotkeys": {
    "equation": "Ctrl-E",
    "itemize": "Ctrl-I"
   },
   "labels_anchors": false,
   "latex_user_defs": false,
   "report_style_numbering": false,
   "user_envs_cfg": false
  },
  "nbTranslate": {
   "displayLangs": [
    "zh-TW",
    "en"
   ],
   "hotkey": "alt-t",
   "langInMainMenu": true,
   "sourceLang": "en",
   "targetLang": "zh-TW",
   "useGoogleTranslate": true
  },
  "toc": {
   "base_numbering": 1,
   "nav_menu": {},
   "number_sections": false,
   "sideBar": true,
   "skip_h1_title": false,
   "title_cell": "Table of Contents",
   "title_sidebar": "Contents",
   "toc_cell": false,
   "toc_position": {
    "height": "calc(100% - 180px)",
    "left": "10px",
    "top": "150px",
    "width": "165px"
   },
   "toc_section_display": true,
   "toc_window_display": false
  },
  "varInspector": {
   "cols": {
    "lenName": 16,
    "lenType": 16,
    "lenVar": 40
   },
   "kernels_config": {
    "python": {
     "delete_cmd_postfix": "",
     "delete_cmd_prefix": "del ",
     "library": "var_list.py",
     "varRefreshCmd": "print(var_dic_list())"
    },
    "r": {
     "delete_cmd_postfix": ") ",
     "delete_cmd_prefix": "rm(",
     "library": "var_list.r",
     "varRefreshCmd": "cat(var_dic_list()) "
    }
   },
   "types_to_exclude": [
    "module",
    "function",
    "builtin_function_or_method",
    "instance",
    "_Feature"
   ],
   "window_display": false
  }
 },
 "nbformat": 4,
 "nbformat_minor": 2
}
