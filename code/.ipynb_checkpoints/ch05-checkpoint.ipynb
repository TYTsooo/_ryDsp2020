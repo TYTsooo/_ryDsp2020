{
 "cells": [
  {
   "cell_type": "markdown",
   "metadata": {},
   "source": [
    "[Local](./ch05.ipynb),\n",
    "[Github](https://github.com/renyuanL/_ryDsp2020/blob/master/code/ch05.ipynb),\n",
    "[Colab](https://colab.research.google.com/github/renyuanL/_ryDsp2020/blob/master/code/ch05.ipynb)\n",
    "\n",
    "[TextBook@greenteapress](http://greenteapress.com/thinkdsp/html/thinkdsp006.html)\n"
   ]
  },
  {
   "cell_type": "markdown",
   "metadata": {},
   "source": [
    "# Chapter 5  Autocorrelation\n",
    "\n",
    "In the previous chapter I characterized white noise as “uncorrelated”, which means that each value is independent of the others, and Brownian noise as “correlated”, because each value depends on the preceding value. In this chapter I define these terms more precisely and present the autocorrelation function, which is a useful tool for signal analysis.\n",
    "\n",
    "The code for this chapter is in chap05.ipynb, which is in the repository for this book (see Section 0.2). You can also view it at http://tinyurl.com/thinkdsp05.\n",
    "\n",
    "## 5.1  Correlation\n",
    "\n",
    "In general, correlation between variables means that if you know the value of one, you have some information about the other. There are several ways to quantify correlation, but the most common is the Pearson product-moment correlation coefficient, usually denoted ρ. \n",
    "\n",
    "For  random variables, $X$ and $Y$, \n",
    "\n",
    "$\n",
    "ρ_{XY} = \\frac{σ_{XY}}{σ_{X} ~ \\cdot ~ σ_{Y}} \n",
    "\\\\\n",
    "where,\n",
    "\\\\\n",
    "σ_{XY} = E[(X-µ_X) \\cdot (Y-µ_Y)]\\\\\n",
    "σ_X = \\sqrt{E[(X-µ_X)^2]}\\\\\n",
    "σ_Y = \\sqrt{E[(Y-µ_Y)^2]}\\\\\n",
    "µ_X = E[X] \\\\\n",
    "µ_Y = E[Y] \n",
    "$\n",
    "\n",
    "where $µ_X$ and $µ_X$ are the means of $X$ and $Y$, \n",
    "and $σ_X$ and $σ_Y$ are their standard deviations.\n"
   ]
  },
  {
   "cell_type": "markdown",
   "metadata": {},
   "source": [
    "If a random variable, $X$, can be represented \n",
    "as an array containing N values, $x_0, x_1, ..., x_{N-1}$\n",
    "then,\n",
    "\n",
    "$\n",
    "E[X] \\approx \\bar{X} = \\frac{1}{N} ~\\cdot~ \\sum_{i=0}^{N-1}{x_i} \n",
    "$"
   ]
  },
  {
   "cell_type": "markdown",
   "metadata": {},
   "source": [
    "There are 2 ways to estimate the variance,\n",
    "$\n",
    "E[(X-µ_X)^2]\n",
    "$\n",
    "\n",
    "- (biased estimate)\n",
    "    - `ddof=0`,\n",
    "    - \n",
    "    $\n",
    "    E[(X-µ_X)^2] \\approx \\frac{1}{N} ~\\cdot~ \\sum_{i=0}^{N-1}{(x_i-\\bar{X})^2} \n",
    "    $\n",
    "\n",
    "\n",
    "- (unbiased estimate) \n",
    "    - `ddof=1`,\n",
    "    - \n",
    "    $\n",
    "    E[(X-µ_X)^2]\\approx \\frac{1}{N-1} ~\\cdot~ \\sum_{i=0}^{N-1}{(x_i-\\bar{X})^2} \n",
    "    $"
   ]
  },
  {
   "cell_type": "markdown",
   "metadata": {},
   "source": [
    "- (biased estimate)\n",
    "    - `ddof=0`,\n",
    "    - \n",
    "    $\n",
    "    E[(X-µ_X)(Y-µ_Y)] \n",
    "    \\approx \n",
    "    \\frac{1}{N} ~\\cdot~ \n",
    "    \\sum_{i=0}^{N-1}{(x_i-\\bar{X})^2 \\cdot (y_i-\\bar{Y})^2} \n",
    "    $ \n",
    "\n",
    "- (biased estimate)\n",
    "    - `ddof=1`,\n",
    "    - \n",
    "    $\n",
    "    E[(X-µ_X)(Y-µ_Y)] \n",
    "    \\approx \n",
    "    \\frac{1}{N-1} ~\\cdot~ \n",
    "    \\sum_{i=0}^{N-1}{(x_i-\\bar{X})^2 \\cdot (y_i-\\bar{Y})^2} \n",
    "    $"
   ]
  },
  {
   "cell_type": "markdown",
   "metadata": {},
   "source": [
    "Pearson’s correlation is always between -1 and +1 (including both). \n",
    "- If ρ is positive, we say that the correlation is positive, which means that when one variable is high, the other tends to be high. \n",
    "- If ρ is negative, the correlation is negative, so when one variable is high, the other tends to be low.\n",
    "\n",
    "The magnitude of ρ indicates the strength of the correlation. \n",
    "- If ρ is 1 or -1, the variables are perfectly correlated, which means that if you know one, you can make a perfect prediction about the other. \n",
    "- If ρ is near zero, the correlation is `probably weak`, so if you know one, it doesn’t tell you much about the others,\n",
    "\n",
    "I say “probably weak” because it is also possible that there is a nonlinear relationship that is not captured by the coefficient of correlation. \n",
    "- Nonlinear relationships are often important in statistics, but less often relevant for signal processing, so I won’t say more about them here.\n",
    "\n",
    "Python provides several ways to compute correlations. \n",
    "- np.corrcoef takes any number of variables and computes a correlation matrix that includes correlations between each pair of variables.\n",
    "\n",
    "----"
   ]
  },
  {
   "cell_type": "markdown",
   "metadata": {},
   "source": [
    "![](http://greenteapress.com/thinkdsp/html/thinkdsp026.png)\n",
    "\n",
    "Figure 5.1: Two sine waves that differ by a phase offset of 1 radian; their coefficient of correlation is 0.54."
   ]
  },
  {
   "cell_type": "markdown",
   "metadata": {},
   "source": []
  },
  {
   "cell_type": "markdown",
   "metadata": {},
   "source": []
  },
  {
   "cell_type": "markdown",
   "metadata": {},
   "source": [
    "I’ll present an example with only two variables. First, I define a function that constructs sine waves with different phase offsets:\n",
    "\n",
    "```python\n",
    "def make_sine(offset):\n",
    "    signal = thinkdsp.SinSignal(freq=440, offset=offset)\n",
    "    wave = signal.make_wave(duration=0.5, framerate=10000)\n",
    "    return wave\n",
    "```\n",
    "\n",
    "Next, I instantiate two waves with different offsets:\n",
    "\n",
    "```python\n",
    "wave1 = make_sine(offset=0)\n",
    "wave2 = make_sine(offset=1)\n",
    "```\n",
    "\n",
    "Figure 5.1 shows what the first few periods of these waves look like. \n",
    "- When one wave is high, the other is usually high, so we expect them to be correlated."
   ]
  },
  {
   "cell_type": "markdown",
   "metadata": {},
   "source": [
    "```python\n",
    ">>> corr_matrix = np.corrcoef(wave1.ys, \n",
    "                              wave2.ys, \n",
    "                              ddof = 0\n",
    "                             )\n",
    "\n",
    "[[ 1.    0.54]\n",
    " [ 0.54  1.  ]]\n",
    "```"
   ]
  },
  {
   "cell_type": "code",
   "execution_count": 21,
   "metadata": {},
   "outputs": [
    {
     "data": {
      "text/plain": [
       "array([[ 2.5, -2.5],\n",
       "       [-2.5,  2.5]])"
      ]
     },
     "execution_count": 21,
     "metadata": {},
     "output_type": "execute_result"
    }
   ],
   "source": [
    "import numpy as np\n",
    "# np.corrcoef??\n",
    "# np.cov??\n",
    "x=[-2, -1, 0, +1, +2]\n",
    "y=[+2, +1, 0, -1, -2]\n",
    "x= np.array(x)\n",
    "y= np.array(y)\n",
    "\n",
    "np.cov(x,y)"
   ]
  },
  {
   "cell_type": "code",
   "execution_count": 22,
   "metadata": {},
   "outputs": [
    {
     "data": {
      "text/plain": [
       "array([[ 1., -1.],\n",
       "       [-1.,  1.]])"
      ]
     },
     "execution_count": 22,
     "metadata": {},
     "output_type": "execute_result"
    }
   ],
   "source": [
    "np.corrcoef(x,y) "
   ]
  },
  {
   "cell_type": "code",
   "execution_count": 29,
   "metadata": {},
   "outputs": [
    {
     "data": {
      "text/plain": [
       "2.5"
      ]
     },
     "execution_count": 29,
     "metadata": {},
     "output_type": "execute_result"
    }
   ],
   "source": [
    "np.dot(x,x)/(len(x)-1)"
   ]
  },
  {
   "cell_type": "code",
   "execution_count": 30,
   "metadata": {},
   "outputs": [
    {
     "data": {
      "text/plain": [
       "-2.5"
      ]
     },
     "execution_count": 30,
     "metadata": {},
     "output_type": "execute_result"
    }
   ],
   "source": [
    "np.dot(x,y)/(len(x)-1)"
   ]
  },
  {
   "cell_type": "code",
   "execution_count": null,
   "metadata": {},
   "outputs": [],
   "source": []
  },
  {
   "cell_type": "code",
   "execution_count": null,
   "metadata": {},
   "outputs": [],
   "source": []
  },
  {
   "cell_type": "markdown",
   "metadata": {},
   "source": [
    "`biased` vs `unbiased` estimation:\n",
    "\n",
    "- The option `ddof = 0` indicates that `.corrcoef()` should divide by $N$, as in the equation above, rather than use the default, $N−1$.\n",
    "\n",
    "The result is a correlation matrix: \n",
    "- the first element is the correlation of wave1 with itself, which is always 1. \n",
    "- Similarly, the last element is the correlation of wave2 with itself."
   ]
  },
  {
   "cell_type": "markdown",
   "metadata": {},
   "source": [
    "![](http://greenteapress.com/thinkdsp/html/thinkdsp027.png)\n",
    "Figure 5.2: The correlation of two sine waves as a function of the phase offset between them. The result is a cosine.\n",
    "\n",
    "The off-diagonal elements contain the value we’re interested in, the correlation of wave1 and wave2. \n",
    "- The value 0.54 indicates that the strength of the correlation is moderate.\n",
    "\n",
    "- As the phase offset increases, this correlation decreases until the waves are 180 degrees out of phase, which yields correlation -1. \n",
    "\n",
    "- Then it increases until the offset differs by 360 degrees. At that point we have come full circle and the correlation is 1.\n",
    "\n",
    "Figure 5.2 shows the relationship between correlation and phase offset for a sine wave. The shape of that curve should look familiar; it is a cosine.\n",
    "\n",
    "thinkdsp provides a simple interface for computing the correlation between waves:\n",
    "```python\n",
    ">>> wave1.corr(wave2)\n",
    "0.54\n",
    "```"
   ]
  },
  {
   "cell_type": "markdown",
   "metadata": {},
   "source": [
    "## 5.2  Serial correlation\n",
    "\n",
    "Signals often represent measurements of quantities that vary in time. For example, the sound signals we’ve worked with represent measurements of voltage (or current), which correspond to the changes in air pressure we perceive as sound.\n",
    "\n",
    "Measurements like this almost always have serial correlation, which is the correlation between each element and the next (or the previous). To compute serial correlation, we can shift a signal and then compute the correlation of the shifted version with the original.\n",
    "\n",
    "def serial_corr(wave, lag=1):\n",
    "    n = len(wave)\n",
    "    y1 = wave.ys[lag:]\n",
    "    y2 = wave.ys[:n-lag]\n",
    "    corr = np.corrcoef(y1, y2, ddof=0)[0, 1]\n",
    "    return corr\n",
    "serial_corr takes a Wave object and lag, which is the integer number of places to shift the wave. It computes the correlation of the wave with a shifted version of itself.\n",
    "\n",
    "We can test this function with the noise signals from the previous chapter. We expect UU noise to be uncorrelated, based on the way it’s generated (not to mention the name):\n",
    "\n",
    "signal = thinkdsp.UncorrelatedGaussianNoise()\n",
    "wave = signal.make_wave(duration=0.5, framerate=11025)\n",
    "serial_corr(wave)\n",
    "When I ran this example, I got 0.006, which indicates a very small serial correlation. You might get a different value when you run it, but it should be comparably small.\n",
    "\n",
    "In a Brownian noise signal, each value is the sum of the previous value and a random “step”, so we expect a strong serial correlation:\n",
    "\n",
    "signal = thinkdsp.BrownianNoise()\n",
    "wave = signal.make_wave(duration=0.5, framerate=11025)\n",
    "serial_corr(wave)\n",
    "Sure enough, the result I got is greater than 0.999.\n",
    "\n",
    "\n",
    "Figure 5.3: Serial correlation for pink noise with a range of parameters.\n",
    "Since pink noise is in some sense between Brownian noise and UU noise, we might expect an intermediate correlation:\n",
    "\n",
    "signal = thinkdsp.PinkNoise(beta=1)\n",
    "wave = signal.make_wave(duration=0.5, framerate=11025)\n",
    "serial_corr(wave)\n",
    "With parameter β=1, I got a serial correlation of 0.851. As we vary the parameter from β=0, which is uncorrelated noise, to β=2, which is Brownian, serial correlation ranges from 0 to almost 1, as shown in Figure 5.3.\n",
    "\n",
    "## 5.3  Autocorrelation\n",
    "\n",
    "In the previous section we computed the correlation between each value and the next, so we shifted the elements of the array by 1. But we can easily compute serial correlations with different lags.\n",
    "\n",
    "\n",
    "Figure 5.4: Autocorrelation functions for pink noise with a range of parameters.\n",
    "You can think of serial_corr as a function that maps from each value of lag to the corresponding correlation, and we can evaluate that function by looping through values of lag:\n",
    "\n",
    "def autocorr(wave):\n",
    "    lags = range(len(wave.ys)//2)\n",
    "    corrs = [serial_corr(wave, lag) for lag in lags]\n",
    "    return lags, corrs\n",
    "autocorr takes a Wave object and returns the autocorrelation function as a pair of sequences: lags is a sequence of integers from 0 to half the length of the wave; corrs is the sequence of serial correlations for each lag.\n",
    "\n",
    "Figure 5.4 shows autocorrelation functions for pink noise with three values of β. For low values of β, the signal is less correlated, and the autocorrelation function drops off to zero quickly. For larger values, serial correlation is stronger and drops off more slowly. With β=1.7 serial correlation is strong even for long lags; this phenomenon is called long-range dependence, because it indicates that each value in the signal depends on many preceding values.\n",
    "\n",
    "## 5.4  Autocorrelation of periodic signals\n",
    "The autocorrelation of pink noise has interesting mathematical properties, but limited applications. The autocorrelation of periodic signals is more useful.\n",
    "\n",
    "\n",
    "Figure 5.5: Spectrogram of a vocal chirp.\n",
    "As an example, I downloaded from freesound.org a recording of someone singing a chirp; the repository for this book includes the file: 28042__bcjordan__voicedownbew.wav. You can use the Jupyter notebook for this chapter, chap05.ipynb, to play it.\n",
    "\n",
    "Figure 5.5 shows the spectrogram of this wave. The fundamental frequency and some of the harmonics show up clearly. The chirp starts near 500 Hz and drops down to about 300 Hz, roughly from C5 to E4.\n",
    "\n",
    "\n",
    "Figure 5.6: Spectrum of a segment from a vocal chirp.\n",
    "To estimate pitch at a particular point in time, we could use the spectrum, but it doesn’t work very well. To see why not, I’ll take a short segment from the wave and plot its spectrum:\n",
    "\n",
    "    duration = 0.01\n",
    "    segment = wave.segment(start=0.2, duration=duration)\n",
    "    spectrum = segment.make_spectrum()\n",
    "    spectrum.plot(high=1000)\n",
    "This segment starts at 0.2 seconds and lasts 0.01 seconds. Figure 5.6 shows its spectrum. There is a clear peak near 400 Hz, but it is hard to identify the pitch precisely. The length of the segment is 441 samples at a framerate of 44100 Hz, so the frequency resolution is 100 Hz (see Section 3.5). That means the estimated pitch might be off by 50 Hz; in musical terms, the range from 350 Hz to 450 Hz is about 5 semitones, which is a big difference!\n",
    "\n",
    "We could get better frequency resolution by taking a longer segment, but since the pitch is changing over time, we would also get “motion blur”; that is, the peak would spread between the start and end pitch of the segment, as we saw in Section 3.3.\n",
    "\n",
    "We can estimate pitch more precisely using autocorrelation. If a signal is periodic, we expect the autocorrelation to spike when the lag equals the period.\n",
    "\n",
    "\n",
    "Figure 5.7: Two segments from a chirp, one starting 0.0023 seconds after the other.\n",
    "To show why that works, I’ll plot two segments from the same recording.\n",
    "\n",
    "import matplotlib.pyplot as plt\n",
    "\n",
    "def plot_shifted(wave, offset=0.001, start=0.2):\n",
    "    segment1 = wave.segment(start=start, duration=0.01)\n",
    "    segment1.plot(linewidth=2, alpha=0.8)\n",
    "\n",
    "    segment2 = wave.segment(start=start-offset, duration=0.01)\n",
    "    segment2.shift(offset)\n",
    "    segment2.plot(linewidth=2, alpha=0.4)\n",
    "\n",
    "    corr = segment1.corr(segment2)\n",
    "    text = r'$\\rho =$ %.2g' % corr\n",
    "    plt.text(segment1.start+0.0005, -0.8, text)\n",
    "    plt.xlabel('Time (s)')\n",
    "One segment starts at 0.2 seconds; the other starts 0.0023 seconds later. Figure 5.7 shows the result. The segments are similar, and their correlation is 0.99. This result suggests that the period is near 0.0023 seconds, which corresponds to a frequency of 435 Hz.\n",
    "\n",
    "\n",
    "Figure 5.8: Autocorrelation function for a segment from a chirp.\n",
    "For this example, I estimated the period by trial and error. To automate the process, we can use the autocorrelation function.\n",
    "\n",
    "    lags, corrs = autocorr(segment)\n",
    "    plt.plot(lags, corrs)\n",
    "Figure 5.8 shows the autocorrelation function for the segment starting at t=0.2 seconds. The first peak occurs at lag=101. We can compute the frequency that corresponds to that period like this:\n",
    "\n",
    "    period = lag / segment.framerate\n",
    "    frequency = 1 / period\n",
    "The estimated fundamental frequency is 437 Hz. To evaluate the precision of the estimate, we can run the same computation with lags 100 and 102, which correspond to frequencies 432 and 441 Hz. The frequency precision using autocorrelation is less than 10 Hz, compared with 100 Hz using the spectrum. In musical terms, the expected error is about 30 cents (a third of a semitone).\n",
    "\n",
    "## 5.5  Correlation as dot product\n",
    "\n",
    "I started the chapter with this definition of Pearson’s correlation coefficient:\n",
    "\n",
    "ρ = \t\n",
    " \t\n",
    " \n",
    "∑\n",
    "i\n",
    " (xi − µx) (yi − µy)\n",
    "N σx σy\n",
    " \n",
    "Then I used ρ to define serial correlation and autocorrelation. That’s consistent with how these terms are used in statistics, but in the context of signal processing, the definitions are a little different.\n",
    "\n",
    "In signal processing, we are often working with unbiased signals, where the mean is 0, and normalized signals, where the standard deviation is 1. In that case, the definition of ρ simplifies to:\n",
    "\n",
    "ρ = \t\n",
    "1\n",
    "N\n",
    " \t\n",
    " \n",
    "∑\n",
    "i\n",
    " xi yi \n",
    "And it is common to simplify even further:\n",
    "\n",
    "r = \t\n",
    " \n",
    "∑\n",
    "i\n",
    " xi yi \n",
    "This definition of correlation is not “standardized”, so it doesn’t generally fall between -1 and 1. But it has other useful properties.\n",
    "\n",
    "If you think of x and y as vectors, you might recognize this formula as the dot product, x · y. See http://en.wikipedia.org/wiki/Dot_product.\n",
    "\n",
    "The dot product indicates the degree to which the signals are similar. If they are normalized so their standard deviations are 1,\n",
    "\n",
    "x · y = cosθ \n",
    "where θ is the angle between the vectors. And that explains why Figure 5.2 is a cosine curve.\n",
    "\n",
    "## 5.6  Using NumPy\n",
    "\n",
    "\n",
    "Figure 5.9: Autocorrelation function computed with np.correlate.\n",
    "NumPy provides a function, correlate, that computes the correlation of two functions or the autocorrelation of one function. We can use it to compute the autocorrelation of the segment from the previous section:\n",
    "\n",
    "corrs2 = np.correlate(segment.ys, segment.ys, mode='same')\n",
    "The option mode tells correlate what range of lag to use. With the value ’same’, the range is from −N/2 to N/2, where N is the length of the wave array.\n",
    "\n",
    "Figure 5.9 shows the result. It is symmetric because the two signals are identical, so a negative lag on one has the same effect as a positive lag on the other. To compare with the results from autocorr, we can select the second half:\n",
    "\n",
    "    N = len(corrs2)\n",
    "    half = corrs2[N//2:]\n",
    "If you compare Figure 5.9 to Figure 5.8, you’ll notice that the correlations computed by np.correlate get smaller as the lags increase. That’s because np.correlate uses the unstandardized definition of correlation; as the lag gets bigger, the overlap between the two signals gets smaller, so the magnitude of the correlations decreases.\n",
    "\n",
    "We can correct that by dividing through by the lengths:\n",
    "\n",
    "    lengths = range(N, N//2, -1)\n",
    "    half /= lengths\n",
    "Finally, we can standardize the results so the correlation with lag=0 is 1.\n",
    "\n",
    "    half /= half[0]\n",
    "With these adjustments, the results computed by autocorr and np.correlate are nearly the same. They still differ by 1-2%. The reason is not important, but if you are curious: autocorr standardizes the correlations independently for each lag; for np.correlate, we standardized them all at the end.\n",
    "\n",
    "More importantly, now you know what autocorrelation is, how to use it to estimate the fundamental period of a signal, and two ways to compute it.\n",
    "\n",
    "## 5.7  Exercises\n",
    "Solutions to these exercises are in chap05soln.ipynb.\n",
    "\n",
    "Exercise 1   The Jupyter notebook for this chapter, chap05.ipynb, includes an interaction that lets you compute autocorrelations for different lags. Use this interaction to estimate the pitch of the vocal chirp for a few different start times.\n",
    "Exercise 2   The example code in chap05.ipynb shows how to use autocorrelation to estimate the fundamental frequency of a periodic signal. Encapsulate this code in a function called estimate_fundamental, and use it to track the pitch of a recorded sound.\n",
    "To see how well it works, try superimposing your pitch estimates on a spectrogram of the recording.\n",
    "\n",
    "Exercise 3   If you did the exercises in the previous chapter, you downloaded the historical price of BitCoins and estimated the power spectrum of the price changes. Using the same data, compute the autocorrelation of BitCoin prices. Does the autocorrelation function drop off quickly? Is there evidence of periodic behavior?\n",
    "Exercise 4   In the repository for this book you will find a Jupyter notebook called saxophone.ipynb that explores autocorrelation, pitch perception, and a phenomenon called the missing fundamental. Read through this notebook and run the examples. Try selecting a different segment of the recording and running the examples again.\n",
    "Vi Hart has an excellent video called “What is up with Noises? (The Science and Mathematics of Sound, Frequency, and Pitch)”; it demonstrates the missing fundamental phenomenon and explains how pitch perception works (at least, to the degree that we know). Watch it at https://www.youtube.com/watch?v=i_0DXxNeaQ0."
   ]
  },
  {
   "cell_type": "markdown",
   "metadata": {},
   "source": []
  },
  {
   "cell_type": "markdown",
   "metadata": {},
   "source": []
  },
  {
   "cell_type": "markdown",
   "metadata": {},
   "source": []
  }
 ],
 "metadata": {
  "kernelspec": {
   "display_name": "Python 3",
   "language": "python",
   "name": "python3"
  },
  "language_info": {
   "codemirror_mode": {
    "name": "ipython",
    "version": 3
   },
   "file_extension": ".py",
   "mimetype": "text/x-python",
   "name": "python",
   "nbconvert_exporter": "python",
   "pygments_lexer": "ipython3",
   "version": "3.7.4"
  },
  "latex_envs": {
   "LaTeX_envs_menu_present": true,
   "autoclose": false,
   "autocomplete": true,
   "bibliofile": "biblio.bib",
   "cite_by": "apalike",
   "current_citInitial": 1,
   "eqLabelWithNumbers": true,
   "eqNumInitial": 1,
   "hotkeys": {
    "equation": "Ctrl-E",
    "itemize": "Ctrl-I"
   },
   "labels_anchors": false,
   "latex_user_defs": false,
   "report_style_numbering": false,
   "user_envs_cfg": false
  },
  "nbTranslate": {
   "displayLangs": [
    "zh-TW",
    "en"
   ],
   "hotkey": "alt-t",
   "langInMainMenu": true,
   "sourceLang": "en",
   "targetLang": "zh-TW",
   "useGoogleTranslate": true
  },
  "toc": {
   "base_numbering": 1,
   "nav_menu": {},
   "number_sections": true,
   "sideBar": true,
   "skip_h1_title": true,
   "title_cell": "Table of Contents",
   "title_sidebar": "Contents",
   "toc_cell": false,
   "toc_position": {
    "height": "calc(100% - 180px)",
    "left": "10px",
    "top": "150px",
    "width": "165px"
   },
   "toc_section_display": true,
   "toc_window_display": false
  },
  "varInspector": {
   "cols": {
    "lenName": 16,
    "lenType": 16,
    "lenVar": 40
   },
   "kernels_config": {
    "python": {
     "delete_cmd_postfix": "",
     "delete_cmd_prefix": "del ",
     "library": "var_list.py",
     "varRefreshCmd": "print(var_dic_list())"
    },
    "r": {
     "delete_cmd_postfix": ") ",
     "delete_cmd_prefix": "rm(",
     "library": "var_list.r",
     "varRefreshCmd": "cat(var_dic_list()) "
    }
   },
   "types_to_exclude": [
    "module",
    "function",
    "builtin_function_or_method",
    "instance",
    "_Feature"
   ],
   "window_display": false
  }
 },
 "nbformat": 4,
 "nbformat_minor": 2
}
