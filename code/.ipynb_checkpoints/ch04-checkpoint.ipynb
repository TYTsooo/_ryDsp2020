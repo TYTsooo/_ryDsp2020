{
 "cells": [
  {
   "cell_type": "markdown",
   "metadata": {},
   "source": [
    "[Local](./ch04.ipynb),\n",
    "[Github](https://github.com/renyuanL/_ryDsp2020/blob/master/code/ch04.ipynb),\n",
    "[Colab](https://colab.research.google.com/github/renyuanL/_ryDsp2020/blob/master/code/ch04.ipynb)\n",
    "\n",
    "[TextBook@greenteapress](http://greenteapress.com/thinkdsp/html/thinkdsp005.html)\n"
   ]
  },
  {
   "cell_type": "markdown",
   "metadata": {},
   "source": [
    "# Chapter 4  Noise\n",
    "\n",
    "In English, “noise” means an unwanted or unpleasant sound. In the context of signal processing, it has two different senses:\n",
    "\n",
    "As in English, it can mean an unwanted signal of any kind. If two signals interfere with each other, each signal would consider the other to be noise. “Noise” also refers to a signal that contains components at many frequencies, so it lacks the harmonic structure of the periodic signals we saw in previous chapters.\n",
    "This chapter is about the second kind.\n",
    "\n",
    "The code for this chapter is in chap04.ipynb, which is in the repository for this book (see Section 0.2). You can also view it at http://tinyurl.com/thinkdsp04."
   ]
  },
  {
   "cell_type": "markdown",
   "metadata": {},
   "source": [
    "First of all, let's generate a white noise signal using Audacity.\n",
    "\n",
    "![](fg/fg_audacity_03_whiteNoise.png)"
   ]
  },
  {
   "cell_type": "markdown",
   "metadata": {},
   "source": [
    "4.1  Uncorrelated noise\n",
    "\n",
    "![](http://greenteapress.com/thinkdsp/html/thinkdsp018.png)\n",
    "Figure 4.1: Waveform of uncorrelated uniform noise."
   ]
  },
  {
   "cell_type": "markdown",
   "metadata": {},
   "source": [
    "The simplest way to understand noise is to generate it, and the simplest kind to generate is `uncorrelated uniform noise` (UU noise). \n",
    "\n",
    "- “Uniform” means the signal contains random values from a uniform distribution; that is, every value in the range is equally likely. \n",
    "- “Uncorrelated” means that the values are independent; that is, knowing one value provides no information about the others.\n",
    "\n",
    "Here’s a class that represents UU noise:\n",
    "\n",
    "```python\n",
    "class _Noise(Signal):\n",
    "    \"\"\"Represents a noise signal (abstract parent class).\"\"\"\n",
    "\n",
    "    def __init__(self, amp=1.0):\n",
    "        \"\"\"Initializes a white noise signal.\n",
    "\n",
    "        amp: float amplitude, 1.0 is nominal max\n",
    "        \"\"\"\n",
    "        self.amp = amp\n",
    "\n",
    "    @property\n",
    "    def period(self):\n",
    "        \"\"\"Period of the signal in seconds.\n",
    "\n",
    "        returns: float seconds\n",
    "        \"\"\"\n",
    "        return ValueError(\"Non-periodic signal.\")\n",
    "    \n",
    "class UncorrelatedUniformNoise(_Noise):\n",
    "    \"\"\"Represents uncorrelated uniform noise.\"\"\"\n",
    "\n",
    "    def evaluate(self, ts):\n",
    "        \"\"\"Evaluates the signal at the given times.\n",
    "\n",
    "        ts: float array of times\n",
    "\n",
    "        returns: float wave array\n",
    "        \"\"\"\n",
    "        ys = np.random.uniform(-self.amp, self.amp, len(ts))\n",
    "        return ys\n",
    "```\n",
    "\n",
    "----\n",
    "\n",
    "### Reviewing `class Signal`\n",
    "\n",
    "```python\n",
    "class Signal:\n",
    "    \"\"\"Represents a time-varying signal.\"\"\"\n",
    "\n",
    "    def __add__(self, other):\n",
    "        \n",
    "    @property\n",
    "    def period(self):\n",
    "        \n",
    "    def plot(self, framerate=11025):\n",
    "    \n",
    "    def make_wave(self, duration=1, start=0, framerate=11025):\n",
    "                \n",
    "```\n",
    "\n"
   ]
  },
  {
   "cell_type": "markdown",
   "metadata": {},
   "source": [
    "UncorrelatedUniformNoise inherits from _Noise, \n",
    "which inherits from Signal."
   ]
  },
  {
   "cell_type": "markdown",
   "metadata": {},
   "source": [
    "As usual, the evaluate function takes `ts`, the times when the signal should be evaluated. \n",
    "It uses `np.random.uniform`, which generates values from a uniform distribution. \n",
    "In this example, the values are in the range between `-amp` to `amp`.\n",
    "\n",
    "The following example generates UU noise with duration 0.5 seconds at 11,025 samples per second.\n",
    "\n",
    "```python\n",
    "    signal = thinkdsp.UncorrelatedUniformNoise()\n",
    "    wave = signal.make_wave(duration=0.5, framerate=11025)\n",
    "```\n",
    "\n",
    "If you play this wave, it sounds like the static you hear if you tune a radio between channels. Figure 4.1 shows what the waveform looks like. As expected, it looks pretty random."
   ]
  },
  {
   "cell_type": "markdown",
   "metadata": {},
   "source": [
    "Now let’s take a look at the spectrum:\n",
    "\n",
    "![](http://greenteapress.com/thinkdsp/html/thinkdsp019.png)\n",
    "Figure 4.2: Power spectrum of uncorrelated uniform noise.\n",
    "\n",
    "\n",
    "```python\n",
    "spectrum = wave.make_spectrum()\n",
    "spectrum.plot_power()\n",
    "```\n",
    "\n",
    "- `Spectrum.plot_power` is similar to `Spectrum.plot`, except that it plots power instead of amplitude. Power is the square of amplitude. I am switching from amplitude to power in this chapter because it is more conventional in the context of noise.\n",
    "\n",
    "Figure 4.2 shows the result. Like the signal, the spectrum looks pretty random. In fact, it is random, but we have to be more precise about the word “random”. There are at least three things we might like to know about a noise signal or its spectrum:\n",
    "\n",
    "- `Distribution`: \n",
    "\n",
    "The distribution of a random signal is the set of possible values and their probabilities. \n",
    "\n",
    "For example, in the `uniform` noise signal, the set of values is the range from -1 to 1, and all values have the same probability. \n",
    "\n",
    "An alternative is `Gaussian` noise, where the set of values is the range from negative to positive infinity, but values near 0 are the most likely, with probability that drops off according to the Gaussian or “bell” curve.\n",
    "\n",
    "- `Correlation`: \n",
    "Is each value in the signal independent of the others, or are there dependencies between them? In UU noise, the values are independent. \n",
    "\n",
    "An alternative is `Brownian` noise, where each value is the sum of the previous value and a random “step”. So if the value of the signal is high at a particular point in time, we expect it to stay high, and if it is low, we expect it to stay low.\n",
    "\n",
    "Relationship between power and frequency: In the spectrum of UU noise, the power at all frequencies is drawn from the same distribution; that is, the average power is the same for all frequencies. \n",
    "\n",
    "An alternative is `pink` noise, where power is inversely related to frequency; that is, the power at frequency $f$ is drawn from a distribution whose mean is proportional to $1/f$."
   ]
  },
  {
   "cell_type": "markdown",
   "metadata": {},
   "source": [
    "## 4.2  Integrated spectrum"
   ]
  },
  {
   "cell_type": "markdown",
   "metadata": {},
   "source": [
    "## 4.3  Brownian noise"
   ]
  },
  {
   "cell_type": "markdown",
   "metadata": {},
   "source": [
    "## 4.4  Pink Noise"
   ]
  },
  {
   "cell_type": "markdown",
   "metadata": {},
   "source": [
    "## 4.5  Gaussian noise"
   ]
  },
  {
   "cell_type": "markdown",
   "metadata": {},
   "source": [
    "## 4.6  Exercises"
   ]
  },
  {
   "cell_type": "markdown",
   "metadata": {},
   "source": []
  }
 ],
 "metadata": {
  "kernelspec": {
   "display_name": "Python 3",
   "language": "python",
   "name": "python3"
  },
  "language_info": {
   "codemirror_mode": {
    "name": "ipython",
    "version": 3
   },
   "file_extension": ".py",
   "mimetype": "text/x-python",
   "name": "python",
   "nbconvert_exporter": "python",
   "pygments_lexer": "ipython3",
   "version": "3.7.4"
  },
  "latex_envs": {
   "LaTeX_envs_menu_present": true,
   "autoclose": false,
   "autocomplete": true,
   "bibliofile": "biblio.bib",
   "cite_by": "apalike",
   "current_citInitial": 1,
   "eqLabelWithNumbers": true,
   "eqNumInitial": 1,
   "hotkeys": {
    "equation": "Ctrl-E",
    "itemize": "Ctrl-I"
   },
   "labels_anchors": false,
   "latex_user_defs": false,
   "report_style_numbering": false,
   "user_envs_cfg": false
  },
  "nbTranslate": {
   "displayLangs": [
    "zh-TW",
    "en"
   ],
   "hotkey": "alt-t",
   "langInMainMenu": true,
   "sourceLang": "en",
   "targetLang": "zh-TW",
   "useGoogleTranslate": true
  },
  "toc": {
   "base_numbering": 1,
   "nav_menu": {},
   "number_sections": true,
   "sideBar": true,
   "skip_h1_title": false,
   "title_cell": "Table of Contents",
   "title_sidebar": "Contents",
   "toc_cell": false,
   "toc_position": {},
   "toc_section_display": true,
   "toc_window_display": false
  },
  "varInspector": {
   "cols": {
    "lenName": 16,
    "lenType": 16,
    "lenVar": 40
   },
   "kernels_config": {
    "python": {
     "delete_cmd_postfix": "",
     "delete_cmd_prefix": "del ",
     "library": "var_list.py",
     "varRefreshCmd": "print(var_dic_list())"
    },
    "r": {
     "delete_cmd_postfix": ") ",
     "delete_cmd_prefix": "rm(",
     "library": "var_list.r",
     "varRefreshCmd": "cat(var_dic_list()) "
    }
   },
   "types_to_exclude": [
    "module",
    "function",
    "builtin_function_or_method",
    "instance",
    "_Feature"
   ],
   "window_display": false
  }
 },
 "nbformat": 4,
 "nbformat_minor": 2
}
