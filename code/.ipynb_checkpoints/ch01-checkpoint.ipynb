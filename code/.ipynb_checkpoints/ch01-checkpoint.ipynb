{
 "cells": [
  {
   "cell_type": "markdown",
   "metadata": {},
   "source": [
    "[Local](./ch01.ipynb),\n",
    "[Github](https://github.com/renyuanL/_ryDsp2020/blob/master/code/ch01.ipynb),\n",
    "[Colab](https://colab.research.google.com/github/renyuanL/_ryDsp2020/blob/master/code/ch01.ipynb)"
   ]
  },
  {
   "cell_type": "markdown",
   "metadata": {},
   "source": [
    "## Ch01. Sounds and signals\n",
    "\n",
    "- Periodic signals\n",
    "- Spectral decomposition\n",
    "- Signals\n",
    "- Reading and writing Waves\n",
    "- Spectrums\n",
    "- Wave objects\n",
    "- Signal objects\n",
    "- Exercises"
   ]
  },
  {
   "cell_type": "markdown",
   "metadata": {},
   "source": [
    "# Chapter 1  Sounds and signals\n",
    "\n",
    "----"
   ]
  },
  {
   "cell_type": "markdown",
   "metadata": {},
   "source": [
    "A signal represents a quantity that varies in time. That definition is pretty abstract, so let’s start with a concrete example: sound. Sound is variation in air pressure. A sound signal represents variations in air pressure over time.\n",
    "\n",
    "A microphone is a device that measures these variations and generates an electrical signal that represents sound. A speaker is a device that takes an electrical signal and produces sound. Microphones and speakers are called transducers because they transduce, or convert, signals from one form to another.\n",
    "\n",
    "This book is about signal processing, which includes processes for synthesizing, transforming, and analyzing signals. I will focus on sound signals, but the same methods apply to electronic signals, mechanical vibration, and signals in many other domains.\n",
    "\n",
    "They also apply to signals that vary in space rather than time, like elevation along a hiking trail. And they apply to signals in more than one dimension, like an image, which you can think of as a signal that varies in two-dimensional space. Or a movie, which is a signal that varies in two-dimensional space and time.\n",
    "\n",
    "But we start with simple one-dimensional sound.\n",
    "\n",
    "The code for this chapter is in chap01.ipynb, which is in the repository for this book (see Section 0.2). You can also view it at http://tinyurl.com/thinkdsp01."
   ]
  },
  {
   "cell_type": "markdown",
   "metadata": {},
   "source": [
    "![image.png](fg/fg_hd001.png)\n"
   ]
  },
  {
   "cell_type": "markdown",
   "metadata": {},
   "source": [
    "## 1.1  Periodic signals\n"
   ]
  },
  {
   "cell_type": "markdown",
   "metadata": {},
   "source": [
    "![](http://greenteapress.com/thinkdsp/html/thinkdsp001.png)\n",
    "Figure 1.1: Segment from a recording of a bell."
   ]
  },
  {
   "cell_type": "markdown",
   "metadata": {},
   "source": [
    "![](fg/fg_hand001.png)\n"
   ]
  },
  {
   "cell_type": "markdown",
   "metadata": {},
   "source": [
    "We’ll start with periodic signals, which are signals that repeat themselves after some period of time. For example, if you strike a bell, it vibrates and generates sound. If you record that sound and plot the transduced signal, it looks like Figure 1.1.\n",
    "\n",
    "This signal resembles a sinusoid, which means it has the same shape as the trigonometric sine function.\n",
    "\n",
    "You can see that this signal is periodic. I chose the duration to show three full repetitions, also known as cycles. The duration of each cycle, called the period, is about 2.3 ms.\n",
    "\n",
    "The frequency of a signal is the number of cycles per second, which is the inverse of the period. The units of frequency are cycles per second, or Hertz, abbreviated “Hz”. (Strictly speaking, the number of cycles is a dimensionless number, so a Hertz is really a “per second”).\n",
    "\n",
    "The frequency of this signal is about 439 Hz, slightly lower than 440 Hz, which is the standard tuning pitch for orchestral music. The musical name of this note is A, or more specifically, A4. If you are not familiar with “scientific pitch notation”, the numerical suffix indicates which octave the note is in. A4 is the A above middle C. A5 is one octave higher. See http://en.wikipedia.org/wiki/Scientific_pitch_notation.\n",
    "\n",
    "![](https://upload.wikimedia.org/wikipedia/commons/thumb/2/2e/Piano_Frequencies.svg/520px-Piano_Frequencies.svg.png)\n",
    "- An 88-key piano, with the octaves numbered and Middle C (cyan) and A440 (yellow) highlighted.\n"
   ]
  },
  {
   "cell_type": "markdown",
   "metadata": {},
   "source": [
    "![](http://greenteapress.com/thinkdsp/html/thinkdsp002.png)\n",
    "Figure 1.2: Segment from a recording of a violin.\n",
    "\n",
    "A tuning fork generates a sinusoid because the vibration of the tines is a form of [simple harmonic motion](https://en.wikipedia.org/wiki/Simple_harmonic_motion). Most musical instruments produce periodic signals, but the shape of these signals is not sinusoidal. For example, Figure 1.2 shows a segment from a recording of a violin playing [Boccherini’s String Quintet No. 5 in E, 3rd movement](https://youtu.be/gFFh-HRNP48?t=12).\n",
    "\n",
    "Again we can see that the signal is periodic, but the shape of the signal is more complex. The shape of a periodic signal is called the waveform. Most musical instruments produce waveforms more complex than a sinusoid. The shape of the waveform determines the musical [timbre](https://en.wikipedia.org/wiki/Timbre), which is our perception of the `quality` of the sound. People usually perceive complex waveforms as rich, warm and more interesting than sinusoids."
   ]
  },
  {
   "cell_type": "code",
   "execution_count": 1,
   "metadata": {},
   "outputs": [
    {
     "data": {
      "image/jpeg": "[encoded data removed]",
      "text/html": [
       "\n",
       "        <iframe\n",
       "            width=\"400\"\n",
       "            height=\"300\"\n",
       "            src=\"https://www.youtube.com/embed/gFFh-HRNP48?start=13\"\n",
       "            frameborder=\"0\"\n",
       "            allowfullscreen\n",
       "        ></iframe>\n",
       "        "
      ],
      "text/plain": [
       "<IPython.lib.display.YouTubeVideo at 0x1ba7444c848>"
      ]
     },
     "execution_count": 1,
     "metadata": {},
     "output_type": "execute_result"
    }
   ],
   "source": [
    "import IPython.display\n",
    "IPython.display.YouTubeVideo(\"gFFh-HRNP48\",start=13)"
   ]
  },
  {
   "attachments": {},
   "cell_type": "markdown",
   "metadata": {},
   "source": [
    "![image.png](fg/fg_audacity.png)\n",
    "- [Audacity](https://www.audacityteam.org/download/)"
   ]
  },
  {
   "cell_type": "markdown",
   "metadata": {},
   "source": [
    "----"
   ]
  },
  {
   "cell_type": "markdown",
   "metadata": {
    "heading_collapsed": true
   },
   "source": [
    "## 1.2  Spectral decomposition"
   ]
  },
  {
   "cell_type": "markdown",
   "metadata": {
    "hidden": true
   },
   "source": [
    "![](http://greenteapress.com/thinkdsp/html/thinkdsp003.png)\n",
    "Figure 1.3: Spectrum of a segment from the violin recording.\n",
    "\n",
    "The most important topic in this book is spectral decomposition, which is the idea that any signal can be expressed as the sum of sinusoids with different frequencies.\n",
    "\n",
    "The most important mathematical idea in this book is the Discrete Fourier Transform, or DFT, which takes a signal and produces its spectrum. The spectrum is the set of sinusoids that add up to produce the signal.\n",
    "\n",
    "And the most important algorithm in this book is the Fast Fourier Transform, or FFT, which is an efficient way to compute the DFT.\n",
    "\n",
    "For example, Figure 1.3 shows the spectrum of the violin recording in Figure 1.2. The x-axis is the range of frequencies that make up the signal. The y-axis shows the strength or amplitude of each frequency component.\n",
    "\n",
    "The lowest frequency component is called the fundamental frequency. The fundamental frequency of this signal is near 440 Hz (actually a little lower, or “flat”).\n",
    "\n",
    "In this signal the fundamental frequency has the largest amplitude, so it is also the dominant frequency. Normally the perceived pitch of a sound is determined by the fundamental frequency, even if it is not dominant.\n",
    "\n",
    "The other spikes in the spectrum are at frequencies 880, 1320, 1760, and 2200, which are integer multiples of the fundamental. These components are called harmonics because they are musically harmonious with the fundamental:\n",
    "\n",
    "- 880 is the frequency of A5, one octave higher than the fundamental. An octave is a doubling in frequency.\n",
    "- 1320 is approximately E6, which is a perfect fifth above A5. If you are not familiar with musical intervals like \"perfect fifth”, see https://en.wikipedia.org/wiki/Interval_(music).\n",
    "- 1760 is A6, two octaves above the fundamental.\n",
    "- 2200 is approximately C♯7, which is a major third above A6.\n",
    "\n",
    "These harmonics make up the notes of an A major chord, although not all in the same octave. Some of them are only approximate because the notes that make up Western music have been adjusted for equal temperament (see http://en.wikipedia.org/wiki/Equal_temperament).\n",
    "\n",
    "Given the harmonics and their amplitudes, you can reconstruct the signal by adding up sinusoids. Next we’ll see how."
   ]
  },
  {
   "cell_type": "markdown",
   "metadata": {
    "hidden": true
   },
   "source": [
    "----"
   ]
  },
  {
   "cell_type": "markdown",
   "metadata": {},
   "source": [
    "## 1.3  Signals"
   ]
  },
  {
   "cell_type": "markdown",
   "metadata": {},
   "source": [
    "I wrote a Python module called `thinkdsp.py` that contains classes and functions for working with signals and spectrums (1). You will find it in the repository for this book (see Section 0.2).\n",
    "\n",
    "To represent signals, thinkdsp provides a class called Signal, which is the parent class for several signal types, including Sinusoid, which represents both sine and cosine signals.\n",
    "\n",
    "thinkdsp provides functions to create sine and cosine signals:\n",
    "\n",
    "    cos_sig = thinkdsp.CosSignal(freq=440, amp=1.0, offset=0)\n",
    "    sin_sig = thinkdsp.SinSignal(freq=880, amp=0.5, offset=0)\n",
    "    \n",
    "freq is frequency in Hz. amp is amplitude in unspecified units where 1.0 is defined as the largest amplitude we can record or play back.\n",
    "\n",
    "offset is a phase offset in radians. Phase offset determines where in the period the signal starts. For example, a sine signal with offset=0 starts at sin0, which is 0. With offset=pi/2 it starts at sinπ/2, which is 1.\n",
    "\n",
    "Signals have an __add__ method, so you can use the + operator to add them:\n",
    "\n",
    "    mix = sin_sig + cos_sig\n",
    "    \n",
    "The result is a SumSignal, which represents the sum of two or more signals.\n",
    "\n",
    "A Signal is basically a Python representation of a mathematical function. Most signals are defined for all values of t, from negative infinity to infinity.\n",
    "\n",
    "You can’t do much with a Signal until you evaluate it. In this context, “evaluate” means taking a sequence of points in time, ts, and computing the corresponding values of the signal, ys. I represent ts and ys using NumPy arrays and encapsulate them in an object called a Wave.\n",
    "\n",
    "A Wave represents a signal evaluated at a sequence of points in time. Each point in time is called a frame (a term borrowed from movies and video). The measurement itself is called a sample, although “frame” and “sample” are sometimes used interchangeably.\n",
    "\n",
    "Signal provides make_wave, which returns a new Wave object:\n",
    "\n",
    "    wave = mix.make_wave(duration=0.5, start=0, framerate=11025)\n",
    "    \n",
    "duration is the length of the Wave in seconds. start is the start time, also in seconds. framerate is the (integer) number of frames per second, which is also the number of samples per second.\n",
    "\n",
    "11,025 frames per second is one of several framerates commonly used in audio file formats, including Waveform Audio File (WAV) and mp3.\n",
    "\n",
    "This example evaluates the signal from t=0 to t=0.5 at 5,513 equally-spaced frames (because 5,513 is half of 11,025). The time between frames, or timestep, is 1/11025 seconds, about 91 µs.\n",
    "\n",
    "Wave provides a plot method that uses pyplot. You can plot the wave like this:\n",
    "\n",
    "    wave.plot()\n",
    "    pyplot.show()\n",
    "    \n",
    "pyplot is part of matplotlib; it is included in many Python distributions, or you might have to install it.\n",
    "\n",
    "![](http://greenteapress.com/thinkdsp/html/thinkdsp004.png)\n",
    "Figure 1.4: Segment from a mixture of two sinusoid signals.\n",
    "\n",
    "At freq=440 there are 220 periods in 0.5 seconds, so this plot would look like a solid block of color. To zoom in on a small number of periods, we can use segment, which copies a segment of a Wave and returns a new wave:\n",
    "\n",
    "    period = mix.period\n",
    "    segment = wave.segment(start=0, duration=period*3)\n",
    "    \n",
    "period is a property of a Signal; it returns the period in seconds.\n",
    "\n",
    "start and duration are in seconds. This example copies the first three periods from mix. The result is a Wave object.\n",
    "\n",
    "If we plot segment, it looks like Figure 1.4. This signal contains two frequency components, so it is more complicated than the signal from the tuning fork, but less complicated than the violin."
   ]
  },
  {
   "cell_type": "markdown",
   "metadata": {},
   "source": [
    "----"
   ]
  },
  {
   "cell_type": "markdown",
   "metadata": {},
   "source": [
    "## 1.4  Reading and writing Waves\n"
   ]
  },
  {
   "cell_type": "markdown",
   "metadata": {},
   "source": [
    "thinkdsp provides read_wave, which reads a WAV file and returns a Wave:\n",
    "\n",
    "    violin_wave = thinkdsp.read_wave('input.wav')\n",
    "And Wave provides write, which writes a WAV file:\n",
    "\n",
    "    wave.write(filename='output.wav')\n",
    "You can listen to the Wave with any media player that plays WAV files. On UNIX systems, I use aplay, which is simple, robust, and included in many Linux distributions.\n",
    "\n",
    "thinkdsp also provides play_wave, which runs the media player as a subprocess:\n",
    "\n",
    "    thinkdsp.play_wave(filename='output.wav', player='aplay')\n",
    "It uses aplay by default, but you can provide the name of another player."
   ]
  },
  {
   "cell_type": "markdown",
   "metadata": {},
   "source": [
    "----"
   ]
  },
  {
   "cell_type": "markdown",
   "metadata": {
    "heading_collapsed": true
   },
   "source": [
    "## 1.5  Spectrums\n"
   ]
  },
  {
   "cell_type": "markdown",
   "metadata": {
    "hidden": true
   },
   "source": [
    "Wave provides make_spectrum, which returns a Spectrum:\n",
    "\n",
    "    spectrum = wave.make_spectrum()\n",
    "And Spectrum provides plot:\n",
    "\n",
    "    spectrum.plot()\n",
    "    thinkplot.show()\n",
    "thinkplot is a module I wrote to provide wrappers around some of the functions in pyplot. It is included in the Git repository for this book (see Section 0.2).\n",
    "\n",
    "Spectrum provides three methods that modify the spectrum:\n",
    "\n",
    "low_pass applies a low-pass filter, which means that components above a given cutoff frequency are attenuated (that is, reduced in magnitude) by a factor.\n",
    "high_pass applies a high-pass filter, which means that it attenuates components below the cutoff.\n",
    "band_stop attenuates components in the band of frequencies between two cutoffs.\n",
    "This example attenuates all frequencies above 600 by 99%:\n",
    "\n",
    "   spectrum.low_pass(cutoff=600, factor=0.01)\n",
    "A low-pass filter removes bright, high-frequency sounds, so the result sounds muffled and darker. To hear what it sounds like, you can convert the Spectrum back to a Wave, and then play it.\n",
    "\n",
    "    wave = spectrum.make_wave()\n",
    "    wave.play('temp.wav')\n",
    "The play method writes the wave to a file and then plays it. If you use Jupyter notebooks, you can use make_audio, which makes an Audio widget that plays the sound."
   ]
  },
  {
   "cell_type": "markdown",
   "metadata": {
    "hidden": true
   },
   "source": [
    "----"
   ]
  },
  {
   "cell_type": "markdown",
   "metadata": {
    "heading_collapsed": true
   },
   "source": [
    "## 1.6  Wave objects"
   ]
  },
  {
   "cell_type": "markdown",
   "metadata": {
    "hidden": true
   },
   "source": [
    "![](http://greenteapress.com/thinkdsp/html/thinkdsp005.png)\n",
    "Figure 1.5: Relationships among the classes in thinkdsp.\n",
    "\n",
    "There is nothing very complicated in thinkdsp.py. Most of the functions it provides are thin wrappers around functions from NumPy and SciPy.\n",
    "\n",
    "The primary classes in thinkdsp are Signal, Wave, and Spectrum. Given a Signal, you can make a Wave. Given a Wave, you can make a Spectrum, and vice versa. These relationships are shown in Figure 1.5.\n",
    "\n",
    "A Wave object contains three attributes: ys is a NumPy array that contains the values in the signal; ts is an array of the times where the signal was evaluated or sampled; and framerate is the number of samples per unit of time. The unit of time is usually seconds, but it doesn’t have to be. In one of my examples, it’s days.\n",
    "\n",
    "Wave also provides three read-only properties: start, end, and duration. If you modify ts, these properties change accordingly.\n",
    "\n",
    "To modify a wave, you can access the ts and ys directly. For example:\n",
    "\n",
    "wave.ys *= 2\n",
    "wave.ts += 1\n",
    "The first line scales the wave by a factor of 2, making it louder. The second line shifts the wave in time, making it start 1 second later.\n",
    "\n",
    "But Wave provides methods that perform many common operations. For example, the same two transformations could be written:\n",
    "\n",
    "wave.scale(2)\n",
    "wave.shift(1)\n",
    "You can read the documentation of these methods and others at http://greenteapress.com/thinkdsp.html."
   ]
  },
  {
   "cell_type": "markdown",
   "metadata": {
    "hidden": true
   },
   "source": [
    "----"
   ]
  },
  {
   "cell_type": "markdown",
   "metadata": {
    "heading_collapsed": true
   },
   "source": [
    "## 1.7  Signal objects"
   ]
  },
  {
   "cell_type": "markdown",
   "metadata": {
    "hidden": true
   },
   "source": [
    "Signal is a parent class that provides functions common to all kinds of signals, like make_wave. Child classes inherit these methods and provide evaluate, which evaluates the signal at a given sequence of times.\n",
    "\n",
    "For example, Sinusoid is a child class of Signal, with this definition:\n",
    "\n",
    "class Sinusoid(Signal):\n",
    "    \n",
    "    def __init__(self, freq=440, amp=1.0, offset=0, func=np.sin):\n",
    "        Signal.__init__(self)\n",
    "        self.freq = freq\n",
    "        self.amp = amp\n",
    "        self.offset = offset\n",
    "        self.func = func\n",
    "The parameters of __init__ are:\n",
    "\n",
    "freq: frequency in cycles per second, or Hz.\n",
    "amp: amplitude. The units of amplitude are arbitrary, usually chosen so 1.0 corresponds to the maximum input from a microphone or maximum output to a speaker.\n",
    "offset: indicates where in its period the signal starts; offset is in units of radians, for reasons I explain below.\n",
    "func: a Python function used to evaluate the signal at a particular point in time. It is usually either np.sin or np.cos, yielding a sine or cosine signal.\n",
    "Like many init methods, this one just tucks the parameters away for future use.\n",
    "\n",
    "Signal provides make_wave, which looks like this:\n",
    "\n",
    "    def make_wave(self, duration=1, start=0, framerate=11025):\n",
    "        n = round(duration * framerate)\n",
    "        ts = start + np.arange(n) / framerate\n",
    "        ys = self.evaluate(ts)\n",
    "        return Wave(ys, ts, framerate=framerate)\n",
    "start and duration are the start time and duration in seconds. framerate is the number of frames (samples) per second.\n",
    "\n",
    "n is the number of samples, and ts is a NumPy array of sample times.\n",
    "\n",
    "To compute the ys, make_wave invokes evaluate, which is provided by Sinusoid:\n",
    "\n",
    "    def evaluate(self, ts):\n",
    "        phases = PI2 * self.freq * ts + self.offset\n",
    "        ys = self.amp * self.func(phases)\n",
    "        return ys\n",
    "Let’s unwind this function one step at time:\n",
    "\n",
    "self.freq is frequency in cycles per second, and each element of ts is a time in seconds, so their product is the number of cycles since the start time.\n",
    "PI2 is a constant that stores 2 π. Multiplying by PI2 converts from cycles to phase. You can think of phase as “cycles since the start time” expressed in radians. Each cycle is 2 π radians.\n",
    "self.offset is the phase when t=0. It has the effect of shifting the signal left or right in time.\n",
    "If self.func is np.sin or np.cos, the result is a value between −1 and +1.\n",
    "Multiplying by self.amp yields a signal that ranges from -self.amp to +self.amp.\n",
    "In math notation, evaluate is written like this:\n",
    "\n",
    "y = A cos(2 π f t + φ0) \n",
    "where A is amplitude, f is frequency, t is time, and φ0 is the phase offset. It may seem like I wrote a lot of code to evaluate one simple expression, but as we’ll see, this code provides a framework for dealing with all kinds of signals, not just sinusoids."
   ]
  },
  {
   "cell_type": "markdown",
   "metadata": {
    "hidden": true
   },
   "source": [
    "----"
   ]
  },
  {
   "cell_type": "markdown",
   "metadata": {
    "heading_collapsed": true
   },
   "source": [
    "## 1.8  Exercises"
   ]
  },
  {
   "cell_type": "markdown",
   "metadata": {
    "hidden": true
   },
   "source": [
    "Before you begin these exercises, you should download the code for this book, following the instructions in Section 0.2.\n",
    "\n",
    "Solutions to these exercises are in chap01soln.ipynb.\n",
    "\n",
    "Exercise 1   \n",
    "\n",
    "If you have Jupyter, load chap01.ipynb, read through it, and run the examples. You can also view this notebook at http://tinyurl.com/thinkdsp01.\n",
    "\n",
    "Exercise 2   \n",
    "\n",
    "Go to http://freesound.org and download a sound sample that includes music, speech, or other sounds that have a well-defined pitch. Select a roughly half-second segment where the pitch is constant. Compute and plot the spectrum of the segment you selected. What connection can you make between the timbre of the sound and the harmonic structure you see in the spectrum?\n",
    "Use high_pass, low_pass, and band_stop to filter out some of the harmonics. Then convert the spectrum back to a wave and listen to it. How does the sound relate to the changes you made in the spectrum?\n",
    "\n",
    "Exercise 3   \n",
    "\n",
    "Synthesize a compound signal by creating SinSignal and CosSignal objects and adding them up. Evaluate the signal to get a Wave, and listen to it. Compute its Spectrum and plot it. What happens if you add frequency components that are not multiples of the fundamental?\n",
    "\n",
    "Exercise 4   \n",
    "\n",
    "Write a function called stretch that takes a Wave and a stretch factor and speeds up or slows down the wave by modifying ts and framerate. Hint: it should only take two lines of code."
   ]
  },
  {
   "cell_type": "markdown",
   "metadata": {
    "hidden": true
   },
   "source": [
    "----"
   ]
  },
  {
   "cell_type": "code",
   "execution_count": null,
   "metadata": {
    "hidden": true
   },
   "outputs": [],
   "source": []
  }
 ],
 "metadata": {
  "kernelspec": {
   "display_name": "Python 3",
   "language": "python",
   "name": "python3"
  },
  "language_info": {
   "codemirror_mode": {
    "name": "ipython",
    "version": 3
   },
   "file_extension": ".py",
   "mimetype": "text/x-python",
   "name": "python",
   "nbconvert_exporter": "python",
   "pygments_lexer": "ipython3",
   "version": "3.7.4"
  },
  "latex_envs": {
   "LaTeX_envs_menu_present": true,
   "autoclose": false,
   "autocomplete": true,
   "bibliofile": "biblio.bib",
   "cite_by": "apalike",
   "current_citInitial": 1,
   "eqLabelWithNumbers": true,
   "eqNumInitial": 1,
   "hotkeys": {
    "equation": "Ctrl-E",
    "itemize": "Ctrl-I"
   },
   "labels_anchors": false,
   "latex_user_defs": false,
   "report_style_numbering": false,
   "user_envs_cfg": false
  },
  "nbTranslate": {
   "displayLangs": [
    "zh-TW",
    "en"
   ],
   "hotkey": "alt-t",
   "langInMainMenu": true,
   "sourceLang": "en",
   "targetLang": "zh-TW",
   "useGoogleTranslate": true
  },
  "toc": {
   "base_numbering": 1,
   "nav_menu": {},
   "number_sections": false,
   "sideBar": true,
   "skip_h1_title": false,
   "title_cell": "Table of Contents",
   "title_sidebar": "Contents",
   "toc_cell": false,
   "toc_position": {
    "height": "calc(100% - 180px)",
    "left": "10px",
    "top": "150px",
    "width": "165px"
   },
   "toc_section_display": true,
   "toc_window_display": false
  },
  "varInspector": {
   "cols": {
    "lenName": 16,
    "lenType": 16,
    "lenVar": 40
   },
   "kernels_config": {
    "python": {
     "delete_cmd_postfix": "",
     "delete_cmd_prefix": "del ",
     "library": "var_list.py",
     "varRefreshCmd": "print(var_dic_list())"
    },
    "r": {
     "delete_cmd_postfix": ") ",
     "delete_cmd_prefix": "rm(",
     "library": "var_list.r",
     "varRefreshCmd": "cat(var_dic_list()) "
    }
   },
   "types_to_exclude": [
    "module",
    "function",
    "builtin_function_or_method",
    "instance",
    "_Feature"
   ],
   "window_display": false
  }
 },
 "nbformat": 4,
 "nbformat_minor": 2
}
